{
 "cells": [
  {
   "cell_type": "code",
   "execution_count": 1,
   "metadata": {
    "collapsed": true
   },
   "outputs": [],
   "source": [
    "SAMPLE_DATA = \"\"\"\n",
    "16,1,2,0,4,2,7,1,2,14\n",
    "\"\"\""
   ]
  },
  {
   "cell_type": "code",
   "execution_count": 2,
   "outputs": [],
   "source": [
    "def tokenize_line(line):\n",
    "    return [int(i) for i in line.split(\",\")]\n",
    "\n",
    "def parse_text(raw_text):\n",
    "    return [tokenize_line(l) for l in raw_text.split(\"\\n\") if l][0]\n",
    "\n",
    "def read_input():\n",
    "    with open(\"input.txt\", \"rt\") as f:\n",
    "        return f.read()"
   ],
   "metadata": {
    "collapsed": false,
    "pycharm": {
     "name": "#%%\n"
    }
   }
  },
  {
   "cell_type": "code",
   "execution_count": 40,
   "outputs": [],
   "source": [
    "def cost_at_point(point, positions):\n",
    "    return sum(abs(point - position) for position in positions)\n",
    "\n",
    "def cost_at_point_non_linear(point, positions):\n",
    "    def cost_of_move(a, b):\n",
    "        n = abs(a - b)\n",
    "        return int((n * (n+1)) / 2)\n",
    "    return sum(cost_of_move(point, position) for position in positions)\n",
    "\n",
    "def search_minimum(positions, pivot, cost_calculator):\n",
    "    # Assume we can descend toward a minimum point.\n",
    "    # Starting with the average, take the adjacent points and move toward the lowest\n",
    "    # value until we find the minimum.\n",
    "\n",
    "    values = [cost_calculator(pivot - 1, positions),\n",
    "              cost_calculator(pivot, positions),\n",
    "              cost_calculator(pivot + 1, positions)]\n",
    "\n",
    "    if values[1] < values[0] and values[1] < values[2]:\n",
    "        return pivot, values[1]\n",
    "\n",
    "    if values[0] < values[1]:\n",
    "        return search_minimum(positions, pivot - 1, cost_calculator)\n",
    "\n",
    "    if values[0] > values[1]:\n",
    "        return search_minimum(positions, pivot + 1, cost_calculator)\n",
    "\n",
    "def find_minimium(positions, cost_calculator):\n",
    "    pivot = sum(positions) // len(positions)\n",
    "    return search_minimum(positions, pivot, cost_calculator)\n"
   ],
   "metadata": {
    "collapsed": false,
    "pycharm": {
     "name": "#%%\n"
    }
   }
  },
  {
   "cell_type": "code",
   "execution_count": 41,
   "outputs": [
    {
     "data": {
      "text/plain": "(2, 37)"
     },
     "execution_count": 41,
     "metadata": {},
     "output_type": "execute_result"
    }
   ],
   "source": [
    "find_minimium(parse_text(SAMPLE_DATA), cost_at_point)"
   ],
   "metadata": {
    "collapsed": false,
    "pycharm": {
     "name": "#%%\n"
    }
   }
  },
  {
   "cell_type": "code",
   "execution_count": 42,
   "outputs": [
    {
     "data": {
      "text/plain": "(332, 357353)"
     },
     "execution_count": 42,
     "metadata": {},
     "output_type": "execute_result"
    }
   ],
   "source": [
    "find_minimium(parse_text(read_input()), cost_at_point)"
   ],
   "metadata": {
    "collapsed": false,
    "pycharm": {
     "name": "#%%\n"
    }
   }
  },
  {
   "cell_type": "code",
   "execution_count": 43,
   "outputs": [
    {
     "data": {
      "text/plain": "(5, 168)"
     },
     "execution_count": 43,
     "metadata": {},
     "output_type": "execute_result"
    }
   ],
   "source": [
    "find_minimium(parse_text(SAMPLE_DATA), cost_at_point_non_linear)"
   ],
   "metadata": {
    "collapsed": false,
    "pycharm": {
     "name": "#%%\n"
    }
   }
  },
  {
   "cell_type": "code",
   "execution_count": 44,
   "outputs": [
    {
     "data": {
      "text/plain": "(489, 104822130)"
     },
     "execution_count": 44,
     "metadata": {},
     "output_type": "execute_result"
    }
   ],
   "source": [
    "find_minimium(parse_text(read_input()), cost_at_point_non_linear)"
   ],
   "metadata": {
    "collapsed": false,
    "pycharm": {
     "name": "#%%\n"
    }
   }
  },
  {
   "cell_type": "code",
   "execution_count": null,
   "outputs": [],
   "source": [],
   "metadata": {
    "collapsed": false,
    "pycharm": {
     "name": "#%%\n"
    }
   }
  }
 ],
 "metadata": {
  "kernelspec": {
   "display_name": "Python 3",
   "language": "python",
   "name": "python3"
  },
  "language_info": {
   "codemirror_mode": {
    "name": "ipython",
    "version": 2
   },
   "file_extension": ".py",
   "mimetype": "text/x-python",
   "name": "python",
   "nbconvert_exporter": "python",
   "pygments_lexer": "ipython2",
   "version": "2.7.6"
  }
 },
 "nbformat": 4,
 "nbformat_minor": 0
}