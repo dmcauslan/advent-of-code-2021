{
 "cells": [
  {
   "cell_type": "code",
   "execution_count": 61,
   "metadata": {
    "collapsed": true
   },
   "outputs": [],
   "source": [
    "SAMPLE_TEXT = \"\"\"\n",
    "v...>>.vv>\n",
    ".vv>>.vv..\n",
    ">>.>v>...v\n",
    ">>v>>.>.v.\n",
    "v>v.vv.v..\n",
    ">.>>..v...\n",
    ".vv..>.>v.\n",
    "v.v..>>v.v\n",
    "....v..v.>\n",
    "\"\"\"\n",
    "\n",
    "SAMPLE_TEXT_SMALL = \"\"\"\n",
    "..........\n",
    ".>v....v..\n",
    ".......>..\n",
    "..........\n",
    "\"\"\"\n",
    "\n",
    "SAMPLE_TEXT_MEDIUM = \"\"\"\n",
    "...>...\n",
    ".......\n",
    "......>\n",
    "v.....>\n",
    "......>\n",
    ".......\n",
    "..vvv..\n",
    "\"\"\"\n",
    "\n",
    "SAMPLE_TEXT_1_STEP = \"\"\"\n",
    "....>.>v.>\n",
    "v.v>.>v.v.\n",
    ">v>>..>v..\n",
    ">>v>v>.>.v\n",
    ".>v.v...v.\n",
    "v>>.>vvv..\n",
    "..v...>>..\n",
    "vv...>>vv.\n",
    ">.v.v..v.v\n",
    "\"\"\"\n",
    "\n",
    "SAMPLE_TEXT_2_STEP = \"\"\"\n",
    ">.v.v>>..v\n",
    "v.v.>>vv..\n",
    ">v>.>.>.v.\n",
    ">>v>v.>v>.\n",
    ".>..v....v\n",
    ".>v>>.v.v.\n",
    "v....v>v>.\n",
    ".vv..>>v..\n",
    "v>.....vv.\n",
    "\"\"\"\n",
    "\n",
    "SAMPLE_TEXT_3_STEP = \"\"\"\n",
    "v>v.v>.>v.\n",
    "v...>>.v.v\n",
    ">vv>.>v>..\n",
    ">>v>v.>.v>\n",
    "..>....v..\n",
    ".>.>v>v..v\n",
    "..v..v>vv>\n",
    "v.v..>>v..\n",
    ".v>....v..\n",
    "\"\"\"\n",
    "\n",
    "SAMPLE_TEXT_4_STEP = \"\"\"\n",
    "v>..v.>>..\n",
    "v.v.>.>.v.\n",
    ">vv.>>.v>v\n",
    ">>.>..v>.>\n",
    "..v>v...v.\n",
    "..>>.>vv..\n",
    ">.v.vv>v.v\n",
    ".....>>vv.\n",
    "vvv>...v..\n",
    "\"\"\"\n",
    "\n",
    "SAMPLE_TEXT_5_STEP = \"\"\"\n",
    "vv>...>v>.\n",
    "v.v.v>.>v.\n",
    ">.v.>.>.>v\n",
    ">v>.>..v>>\n",
    "..v>v.v...\n",
    "..>.>>vvv.\n",
    ".>...v>v..\n",
    "..v.v>>v.v\n",
    "v.v.>...v.\n",
    "\"\"\"\n",
    "\n",
    "SAMPLE_TEXT_10_STEP = \"\"\"\n",
    "..>..>>vv.\n",
    "v.....>>.v\n",
    "..v.v>>>v>\n",
    "v>.>v.>>>.\n",
    "..v>v.vv.v\n",
    ".v.>>>.v..\n",
    "v.v..>v>..\n",
    "..v...>v.>\n",
    ".vv..v>vv.\n",
    "\"\"\"\n",
    "\n",
    "SAMPLE_TEXT_20_STEP = \"\"\"\n",
    "v>.....>>.\n",
    ">vv>.....v\n",
    ".>v>v.vv>>\n",
    "v>>>v.>v.>\n",
    "....vv>v..\n",
    ".v.>>>vvv.\n",
    "..v..>>vv.\n",
    "v.v...>>.v\n",
    "..v.....v>\n",
    "\"\"\"\n",
    "\n",
    "SAMPLE_TEXT_30_STEP = \"\"\"\n",
    ".vv.v..>>>\n",
    "v>...v...>\n",
    ">.v>.>vv.>\n",
    ">v>.>.>v.>\n",
    ".>..v.vv..\n",
    "..v>..>>v.\n",
    "....v>..>v\n",
    "v.v...>vv>\n",
    "v.v...>vvv\n",
    "\"\"\"\n",
    "\n",
    "SAMPLE_TEXT_40_STEP = \"\"\"\n",
    ">>v>v..v..\n",
    "..>>v..vv.\n",
    "..>>>v.>.v\n",
    "..>>>>vvv>\n",
    "v.....>...\n",
    "v.v...>v>>\n",
    ">vv.....v>\n",
    ".>v...v.>v\n",
    "vvv.v..v.>\n",
    "\"\"\"\n",
    "\n",
    "SAMPLE_TEXT_50_STEP = \"\"\"\n",
    "..>>v>vv.v\n",
    "..v.>>vv..\n",
    "v.>>v>>v..\n",
    "..>>>>>vv.\n",
    "vvv....>vv\n",
    "..v....>>>\n",
    "v>.......>\n",
    ".vv>....v>\n",
    ".>v.vv.v..\n",
    "\"\"\"\n",
    "\n",
    "\n",
    "SAMPLE_TEXT_55_STEP = \"\"\"\n",
    "..>>v>vv..\n",
    "..v.>>vv..\n",
    "..>>v>>vv.\n",
    "..>>>>>vv.\n",
    "v......>vv\n",
    "v>v....>>v\n",
    "vvv...>..>\n",
    ">vv.....>.\n",
    ".>v.vv.v..\n",
    "\"\"\"\n",
    "\n",
    "SAMPLE_TEXT_56_STEP = \"\"\"\n",
    "..>>v>vv..\n",
    "..v.>>vv..\n",
    "..>>v>>vv.\n",
    "..>>>>>vv.\n",
    "v......>vv\n",
    "v>v....>>v\n",
    "vvv....>.>\n",
    ">vv......>\n",
    ".>v.vv.v..\n",
    "\"\"\"\n",
    "\n",
    "SAMPLE_TEXT_57_STEP = \"\"\"\n",
    "..>>v>vv..\n",
    "..v.>>vv..\n",
    "..>>v>>vv.\n",
    "..>>>>>vv.\n",
    "v......>vv\n",
    "v>v....>>v\n",
    "vvv.....>>\n",
    ">vv......>\n",
    ".>v.vv.v..\n",
    "\"\"\"\n",
    "\n",
    "SAMPLE_TEXT_58_STEP = \"\"\"\n",
    "..>>v>vv..\n",
    "..v.>>vv..\n",
    "..>>v>>vv.\n",
    "..>>>>>vv.\n",
    "v......>vv\n",
    "v>v....>>v\n",
    "vvv.....>>\n",
    ">vv......>\n",
    ".>v.vv.v..\n",
    "\"\"\""
   ]
  },
  {
   "cell_type": "code",
   "execution_count": 30,
   "metadata": {
    "pycharm": {
     "name": "#%%\n"
    }
   },
   "outputs": [],
   "source": [
    "from dataclasses import dataclass"
   ]
  },
  {
   "cell_type": "code",
   "execution_count": 2,
   "metadata": {
    "pycharm": {
     "name": "#%%\n"
    }
   },
   "outputs": [],
   "source": [
    "def tokenize_line(line):\n",
    "    return list(line)\n",
    "\n",
    "def parse_text(raw_text):\n",
    "    return [tokenize_line(l) for l in raw_text.split(\"\\n\") if l]\n",
    "\n",
    "def read_input():\n",
    "    with open(\"input.txt\", \"rt\") as f:\n",
    "        return f.read()\n",
    "\n",
    "def split_input(lines):\n",
    "    return lines[0], lines[1:]"
   ]
  },
  {
   "cell_type": "code",
   "execution_count": 3,
   "metadata": {
    "pycharm": {
     "name": "#%%\n"
    }
   },
   "outputs": [
    {
     "data": {
      "text/plain": [
       "[['v', '.', '.', '.', '>', '>', '.', 'v', 'v', '>'],\n",
       " ['.', 'v', 'v', '>', '>', '.', 'v', 'v', '.', '.'],\n",
       " ['>', '>', '.', '>', 'v', '>', '.', '.', '.', 'v'],\n",
       " ['>', '>', 'v', '>', '>', '.', '>', '.', 'v', '.'],\n",
       " ['v', '>', 'v', '.', 'v', 'v', '.', 'v', '.', '.'],\n",
       " ['>', '.', '>', '>', '.', '.', 'v', '.', '.', '.'],\n",
       " ['.', 'v', 'v', '.', '.', '>', '.', '>', 'v', '.'],\n",
       " ['v', '.', 'v', '.', '.', '>', '>', 'v', '.', 'v'],\n",
       " ['.', '.', '.', '.', 'v', '.', '.', 'v', '.', '>']]"
      ]
     },
     "execution_count": 3,
     "metadata": {},
     "output_type": "execute_result"
    }
   ],
   "source": [
    "parse_text(SAMPLE_TEXT)"
   ]
  },
  {
   "cell_type": "code",
   "execution_count": 112,
   "metadata": {
    "pycharm": {
     "name": "#%%\n"
    }
   },
   "outputs": [],
   "source": [
    "@dataclass\n",
    "class Point:\n",
    "    row: int\n",
    "    col: int\n",
    "\n",
    "@dataclass\n",
    "class EastPoint(Point):\n",
    "    pass\n",
    "\n",
    "@dataclass\n",
    "class SouthPoint(Point):\n",
    "    pass\n",
    "\n",
    "class Board:\n",
    "    def __init__(self, lines):\n",
    "        self.step_count = 0\n",
    "        self.cucumbers = {}\n",
    "        self.max_row = len(lines) - 1\n",
    "        self.max_column = len(lines[0]) - 1\n",
    "        for row, line in enumerate(lines):\n",
    "            for col, value in enumerate(line):\n",
    "                if value == 'v':\n",
    "                    self.cucumbers[(row, col)] = SouthPoint(row, col)\n",
    "                elif value == '>':\n",
    "                    self.cucumbers[(row, col)] = EastPoint(row, col)\n",
    "\n",
    "    def next_point(self, point):\n",
    "        if isinstance(point, SouthPoint):\n",
    "            if point.row == self.max_row:\n",
    "                return 0, point.col\n",
    "            else:\n",
    "                return point.row + 1, point.col\n",
    "        else:\n",
    "            if point.col == self.max_column:\n",
    "                return point.row, 0\n",
    "            else:\n",
    "                return point.row, point.col + 1\n",
    "\n",
    "    def is_blocked(self, row, column):\n",
    "        return (row, column) in self.cucumbers\n",
    "\n",
    "    def move_point(self, point, new_point):\n",
    "        del self.cucumbers[(point.row, point.col)]\n",
    "        point.row, point.col = new_point\n",
    "        self.cucumbers[new_point] = point\n",
    "\n",
    "    def step(self):\n",
    "        self.step_count += 1\n",
    "\n",
    "        east_moves = []\n",
    "        for row in range(self.max_row + 1):\n",
    "            for column in range(self.max_column + 1):\n",
    "                point = self.cucumbers.get((row, column))\n",
    "                if not isinstance(point, EastPoint):\n",
    "                    continue\n",
    "                next_point = self.next_point(point)\n",
    "                if not self.is_blocked(*next_point):\n",
    "                    east_moves.append((point, next_point))\n",
    "\n",
    "        for point, next_point in east_moves:\n",
    "            self.move_point(point, next_point)\n",
    "\n",
    "        south_moves = []\n",
    "        for row in range(self.max_row + 1):\n",
    "            for column in range(self.max_column + 1):\n",
    "                point = self.cucumbers.get((row, column))\n",
    "                if not isinstance(point, SouthPoint):\n",
    "                    continue\n",
    "                next_point = self.next_point(point)\n",
    "                if not self.is_blocked(*next_point):\n",
    "                    south_moves.append((point, next_point))\n",
    "\n",
    "        for point, next_point in south_moves:\n",
    "            self.move_point(point, next_point)\n",
    "\n",
    "        return east_moves or south_moves\n",
    "\n",
    "    def run(self, n):\n",
    "        for _ in range(n):\n",
    "            self.step()\n",
    "        return self.step_count\n",
    "\n",
    "    def run_to_end(self):\n",
    "        while True:\n",
    "            if not self.step():\n",
    "                return self.step_count\n",
    "\n",
    "    def __str__(self):\n",
    "        result = \"\"\n",
    "        for row in range(self.max_row + 1):\n",
    "            for column in range(self.max_column + 1):\n",
    "                point = self.cucumbers.get((row, column))\n",
    "                if point is None:\n",
    "                    result += '.'\n",
    "                elif isinstance(point, SouthPoint):\n",
    "                    result += 'v'\n",
    "                else:\n",
    "                    result += '>'\n",
    "            result += \"\\n\"\n",
    "        return result"
   ]
  },
  {
   "cell_type": "code",
   "execution_count": 113,
   "metadata": {
    "pycharm": {
     "name": "#%%\n"
    }
   },
   "outputs": [],
   "source": [
    "def run_and_compare(n):\n",
    "    board = Board(parse_text(SAMPLE_TEXT))\n",
    "    board.run(n)\n",
    "    expected_text = globals()[f\"SAMPLE_TEXT_{n}_STEP\"]\n",
    "    for i, (found, expected) in enumerate(zip((l for l in str(board).split('\\n') if l), (l for l in expected_text.split('\\n') if l))):\n",
    "        print(i, found, expected, found == expected)"
   ]
  },
  {
   "cell_type": "code",
   "execution_count": 114,
   "metadata": {
    "pycharm": {
     "name": "#%%\n"
    }
   },
   "outputs": [
    {
     "name": "stdout",
     "output_type": "stream",
     "text": [
      "v...>>.vv>\n",
      ".vv>>.vv..\n",
      ">>.>v>...v\n",
      ">>v>>.>.v.\n",
      "v>v.vv.v..\n",
      ">.>>..v...\n",
      ".vv..>.>v.\n",
      "v.v..>>v.v\n",
      "....v..v.>\n",
      "\n"
     ]
    }
   ],
   "source": [
    "board = Board(parse_text(SAMPLE_TEXT))\n",
    "print(board)"
   ]
  },
  {
   "cell_type": "code",
   "execution_count": 115,
   "metadata": {
    "pycharm": {
     "name": "#%%\n"
    }
   },
   "outputs": [
    {
     "name": "stdout",
     "output_type": "stream",
     "text": [
      "0 ....>.>v.> ....>.>v.> True\n",
      "1 v.v>.>v.v. v.v>.>v.v. True\n",
      "2 >v>>..>v.. >v>>..>v.. True\n",
      "3 >>v>v>.>.v >>v>v>.>.v True\n",
      "4 .>v.v...v. .>v.v...v. True\n",
      "5 v>>.>vvv.. v>>.>vvv.. True\n",
      "6 ..v...>>.. ..v...>>.. True\n",
      "7 vv...>>vv. vv...>>vv. True\n",
      "8 >.v.v..v.v >.v.v..v.v True\n"
     ]
    }
   ],
   "source": [
    "board.run(1)\n",
    "for i, (found, expected) in enumerate(zip((l for l in str(board).split('\\n') if l), (l for l in SAMPLE_TEXT_1_STEP.split('\\n') if l))):\n",
    "    print(i, found, expected, found == expected)"
   ]
  },
  {
   "cell_type": "code",
   "execution_count": 116,
   "metadata": {
    "pycharm": {
     "name": "#%%\n"
    }
   },
   "outputs": [
    {
     "name": "stdout",
     "output_type": "stream",
     "text": [
      "0 >.v.v>>..v >.v.v>>..v True\n",
      "1 v.v.>>vv.. v.v.>>vv.. True\n",
      "2 >v>.>.>.v. >v>.>.>.v. True\n",
      "3 >>v>v.>v>. >>v>v.>v>. True\n",
      "4 .>..v....v .>..v....v True\n",
      "5 .>v>>.v.v. .>v>>.v.v. True\n",
      "6 v....v>v>. v....v>v>. True\n",
      "7 .vv..>>v.. .vv..>>v.. True\n",
      "8 v>.....vv. v>.....vv. True\n"
     ]
    }
   ],
   "source": [
    "run_and_compare(2)"
   ]
  },
  {
   "cell_type": "code",
   "execution_count": 42,
   "metadata": {
    "pycharm": {
     "name": "#%%\n"
    }
   },
   "outputs": [
    {
     "name": "stdout",
     "output_type": "stream",
     "text": [
      "..........\n",
      ".>........\n",
      "..v....v>.\n",
      "..........\n",
      "\n"
     ]
    }
   ],
   "source": [
    "board.step()\n",
    "print(board)"
   ]
  },
  {
   "cell_type": "code",
   "execution_count": 47,
   "metadata": {
    "pycharm": {
     "name": "#%%\n"
    }
   },
   "outputs": [],
   "source": [
    "board = Board(parse_text(SAMPLE_TEXT_MEDIUM))"
   ]
  },
  {
   "cell_type": "code",
   "execution_count": 48,
   "metadata": {
    "pycharm": {
     "name": "#%%\n"
    }
   },
   "outputs": [
    {
     "name": "stdout",
     "output_type": "stream",
     "text": [
      "4\n",
      ">......\n",
      "..v....\n",
      "..>.v..\n",
      ".>.v...\n",
      "...>...\n",
      ".......\n",
      "v......\n",
      "\n"
     ]
    }
   ],
   "source": [
    "board.step()\n",
    "board.step()\n",
    "board.step()\n",
    "board.step()\n",
    "print(board.step_count)\n",
    "print(board)"
   ]
  },
  {
   "cell_type": "code",
   "execution_count": 117,
   "metadata": {
    "pycharm": {
     "name": "#%%\n"
    }
   },
   "outputs": [
    {
     "data": {
      "text/plain": [
       "58"
      ]
     },
     "execution_count": 117,
     "metadata": {},
     "output_type": "execute_result"
    }
   ],
   "source": [
    "board = Board(parse_text(SAMPLE_TEXT))\n",
    "board.run_to_end()"
   ]
  },
  {
   "cell_type": "code",
   "execution_count": 118,
   "metadata": {
    "pycharm": {
     "name": "#%%\n"
    }
   },
   "outputs": [
    {
     "data": {
      "text/plain": [
       "582"
      ]
     },
     "execution_count": 118,
     "metadata": {},
     "output_type": "execute_result"
    }
   ],
   "source": [
    "board = Board(parse_text(read_input()))\n",
    "board.run_to_end()"
   ]
  },
  {
   "cell_type": "code",
   "execution_count": null,
   "metadata": {
    "pycharm": {
     "name": "#%%\n"
    }
   },
   "outputs": [],
   "source": []
  }
 ],
 "metadata": {
  "kernelspec": {
   "display_name": "Python 3 (ipykernel)",
   "language": "python",
   "name": "python3"
  },
  "language_info": {
   "codemirror_mode": {
    "name": "ipython",
    "version": 3
   },
   "file_extension": ".py",
   "mimetype": "text/x-python",
   "name": "python",
   "nbconvert_exporter": "python",
   "pygments_lexer": "ipython3",
   "version": "3.10.6"
  }
 },
 "nbformat": 4,
 "nbformat_minor": 1
}
