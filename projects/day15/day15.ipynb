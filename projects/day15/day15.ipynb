{
 "cells": [
  {
   "cell_type": "code",
   "execution_count": 94,
   "metadata": {
    "collapsed": true
   },
   "outputs": [],
   "source": [
    "SAMPLE_TEXT = \"\"\"\n",
    "1163751742\n",
    "1381373672\n",
    "2136511328\n",
    "3694931569\n",
    "7463417111\n",
    "1319128137\n",
    "1359912421\n",
    "3125421639\n",
    "1293138521\n",
    "2311944581\n",
    "\"\"\"\n",
    "\n",
    "SAMPLE_TEXT_2 = \"\"\"\n",
    "11637517422274862853338597396444961841755517295286\n",
    "13813736722492484783351359589446246169155735727126\n",
    "21365113283247622439435873354154698446526571955763\n",
    "36949315694715142671582625378269373648937148475914\n",
    "74634171118574528222968563933317967414442817852555\n",
    "13191281372421239248353234135946434524615754563572\n",
    "13599124212461123532357223464346833457545794456865\n",
    "31254216394236532741534764385264587549637569865174\n",
    "12931385212314249632342535174345364628545647573965\n",
    "23119445813422155692453326671356443778246755488935\n",
    "22748628533385973964449618417555172952866628316397\n",
    "24924847833513595894462461691557357271266846838237\n",
    "32476224394358733541546984465265719557637682166874\n",
    "47151426715826253782693736489371484759148259586125\n",
    "85745282229685639333179674144428178525553928963666\n",
    "24212392483532341359464345246157545635726865674683\n",
    "24611235323572234643468334575457944568656815567976\n",
    "42365327415347643852645875496375698651748671976285\n",
    "23142496323425351743453646285456475739656758684176\n",
    "34221556924533266713564437782467554889357866599146\n",
    "33859739644496184175551729528666283163977739427418\n",
    "35135958944624616915573572712668468382377957949348\n",
    "43587335415469844652657195576376821668748793277985\n",
    "58262537826937364893714847591482595861259361697236\n",
    "96856393331796741444281785255539289636664139174777\n",
    "35323413594643452461575456357268656746837976785794\n",
    "35722346434683345754579445686568155679767926678187\n",
    "53476438526458754963756986517486719762859782187396\n",
    "34253517434536462854564757396567586841767869795287\n",
    "45332667135644377824675548893578665991468977611257\n",
    "44961841755517295286662831639777394274188841538529\n",
    "46246169155735727126684683823779579493488168151459\n",
    "54698446526571955763768216687487932779859814388196\n",
    "69373648937148475914825958612593616972361472718347\n",
    "17967414442817852555392896366641391747775241285888\n",
    "46434524615754563572686567468379767857948187896815\n",
    "46833457545794456865681556797679266781878137789298\n",
    "64587549637569865174867197628597821873961893298417\n",
    "45364628545647573965675868417678697952878971816398\n",
    "56443778246755488935786659914689776112579188722368\n",
    "55172952866628316397773942741888415385299952649631\n",
    "57357271266846838237795794934881681514599279262561\n",
    "65719557637682166874879327798598143881961925499217\n",
    "71484759148259586125936169723614727183472583829458\n",
    "28178525553928963666413917477752412858886352396999\n",
    "57545635726865674683797678579481878968159298917926\n",
    "57944568656815567976792667818781377892989248891319\n",
    "75698651748671976285978218739618932984172914319528\n",
    "56475739656758684176786979528789718163989182927419\n",
    "67554889357866599146897761125791887223681299833479\n",
    "\"\"\""
   ]
  },
  {
   "cell_type": "code",
   "execution_count": 2,
   "outputs": [],
   "source": [
    "from dataclasses import dataclass\n",
    "from typing import Dict, Set, Optional, List"
   ],
   "metadata": {
    "collapsed": false,
    "pycharm": {
     "name": "#%%\n"
    }
   }
  },
  {
   "cell_type": "code",
   "execution_count": 3,
   "outputs": [],
   "source": [
    "def tokenize_line(line):\n",
    "    return [int(i) for i in list(line)]\n",
    "\n",
    "def parse_text(raw_text):\n",
    "    return [tokenize_line(l) for l in raw_text.split(\"\\n\") if l]\n",
    "\n",
    "def read_input():\n",
    "    with open(\"input.txt\", \"rt\") as f:\n",
    "        return f.read()"
   ],
   "metadata": {
    "collapsed": false,
    "pycharm": {
     "name": "#%%\n"
    }
   }
  },
  {
   "cell_type": "code",
   "execution_count": 144,
   "outputs": [],
   "source": [
    "# Use Dijkstra's algorithm since it will definitely work.\n",
    "\n",
    "@dataclass(frozen=True)\n",
    "class Position:\n",
    "    x: int\n",
    "    y: int\n",
    "\n",
    "@dataclass\n",
    "class Cost:\n",
    "    parent: Position\n",
    "    cost: int\n",
    "\n",
    "    def update(self, new_parent: Position, new_cost: int) -> bool:\n",
    "        if new_cost < self.cost:\n",
    "            self.parent = new_parent\n",
    "            self.cost = new_cost\n",
    "            return True\n",
    "        return False\n",
    "\n",
    "def find_cheapest_node(costs: Dict[Position, Cost], visited: Set[Position]) -> Optional[Position]:\n",
    "    non_visited_costs = (i for i in costs.items() if i[0] not in visited)\n",
    "    sorted_costs = sorted(non_visited_costs, key=lambda x: x[1].cost)\n",
    "    if not sorted_costs:\n",
    "        return None\n",
    "    return sorted_costs[0][0]\n",
    "\n",
    "def get_route(start: Position, end: Position, costs: Dict[Position, Cost]) -> List[Position]:\n",
    "    result = [end]\n",
    "    while True:\n",
    "        parent = costs[result[-1]].parent\n",
    "        result.append(parent)\n",
    "        if parent == start:\n",
    "            break\n",
    "    result.reverse()\n",
    "    return result\n",
    "\n",
    "def get_adjacent_positions(from_position: Position, weights: Dict[Position, int], visited: Set[Position]) -> List[Position]:\n",
    "    possible_positions = [\n",
    "        Position(from_position.x - 1, from_position.y),\n",
    "        Position(from_position.x + 1, from_position.y),\n",
    "        Position(from_position.x, from_position.y - 1),\n",
    "        Position(from_position.x, from_position.y + 1),\n",
    "    ]\n",
    "    return [p for p in possible_positions if p in weights and p not in visited]\n",
    "\n",
    "def find_cheapest_path(weights: Dict[Position, int], start: Position, end: Position):\n",
    "    costs: Dict[Position, Cost] = dict()\n",
    "    visited: Set[Position] = set()\n",
    "\n",
    "    if start == end:\n",
    "        return 0, []\n",
    "\n",
    "    visited.add(start)\n",
    "    for neighbour in get_adjacent_positions(start, weights, visited):\n",
    "        costs[neighbour] = Cost(start, weights[neighbour])\n",
    "\n",
    "    node = find_cheapest_node(costs, visited)\n",
    "    i = 0\n",
    "    while node is not None:\n",
    "        i += 1\n",
    "        if i == 10000:\n",
    "            pct_visited = len(visited) / ((end.x + 1) * (end.y + 1))\n",
    "            print(pct_visited)\n",
    "            i = 0\n",
    "        running_total = costs[node].cost\n",
    "        for neighbour in get_adjacent_positions(node, weights, visited):\n",
    "            new_cost = running_total + weights[neighbour]\n",
    "            if neighbour not in costs:\n",
    "                costs[neighbour] = Cost(node, new_cost)\n",
    "            else:\n",
    "                costs[neighbour].update(node, new_cost)\n",
    "        visited.add(node)\n",
    "        node = find_cheapest_node(costs, visited)\n",
    "    if end not in costs:\n",
    "        raise ValueError(f\"No route to {end}\")\n",
    "    return costs[end], get_route(start, end, costs)\n",
    "\n",
    "def make_weights(lines) -> Dict[Position, int]:\n",
    "    result = {}\n",
    "    for y in range(len(lines)):\n",
    "        for x in range(len(lines[0])):\n",
    "            result[Position(x, y)] = lines[y][x]\n",
    "    return result\n",
    "\n",
    "def find_end(weights: Dict[Position, int]) -> Position:\n",
    "    max_x = 0\n",
    "    max_y = 0\n",
    "    for k in weights.keys():\n",
    "        max_x = max(max_x, k.x)\n",
    "        max_y = max(max_y, k.y)\n",
    "    return Position(max_x, max_y)\n",
    "\n",
    "def print_weights(weights: Dict[Position, int]):\n",
    "    end = find_end(weights)\n",
    "    result = \"\"\n",
    "    for y in range(end.y + 1):\n",
    "        for x in range(end.x + 1):\n",
    "            result += str(weights[Position(x, y)])\n",
    "        result += '\\n'\n",
    "    print(result)"
   ],
   "metadata": {
    "collapsed": false,
    "pycharm": {
     "name": "#%%\n"
    }
   }
  },
  {
   "cell_type": "code",
   "execution_count": 137,
   "outputs": [
    {
     "name": "stdout",
     "output_type": "stream",
     "text": [
      "% visited 1.0\n"
     ]
    },
    {
     "data": {
      "text/plain": "40"
     },
     "execution_count": 137,
     "metadata": {},
     "output_type": "execute_result"
    }
   ],
   "source": [
    "weights = make_weights(parse_text(SAMPLE_TEXT))\n",
    "cost, route = find_cheapest_path(weights, Position(0, 0), find_end(weights))\n",
    "cost.cost"
   ],
   "metadata": {
    "collapsed": false,
    "pycharm": {
     "name": "#%%\n"
    }
   }
  },
  {
   "cell_type": "code",
   "execution_count": 138,
   "outputs": [
    {
     "name": "stdout",
     "output_type": "stream",
     "text": [
      "% visited 1.0\n"
     ]
    },
    {
     "data": {
      "text/plain": "458"
     },
     "execution_count": 138,
     "metadata": {},
     "output_type": "execute_result"
    }
   ],
   "source": [
    "weights = make_weights(parse_text(read_input()))\n",
    "cost, route = find_cheapest_path(weights, Position(0, 0), find_end(weights))\n",
    "cost.cost"
   ],
   "metadata": {
    "collapsed": false,
    "pycharm": {
     "name": "#%%\n"
    }
   }
  },
  {
   "cell_type": "code",
   "execution_count": 104,
   "outputs": [
    {
     "name": "stdout",
     "output_type": "stream",
     "text": [
      "1163751742\n",
      "1381373672\n",
      "2136511328\n",
      "3694931569\n",
      "7463417111\n",
      "1319128137\n",
      "1359912421\n",
      "3125421639\n",
      "1293138521\n",
      "2311944581\n",
      "\n"
     ]
    }
   ],
   "source": [
    "print_weights(make_weights(parse_text(SAMPLE_TEXT)))"
   ],
   "metadata": {
    "collapsed": false,
    "pycharm": {
     "name": "#%%\n"
    }
   }
  },
  {
   "cell_type": "code",
   "execution_count": 120,
   "outputs": [],
   "source": [
    "def multiply_weights(original_weights: Dict[Position, int], times):\n",
    "    end = find_end(original_weights)\n",
    "    new_max_x = (end.x + 1) * times - 1\n",
    "    new_max_y = (end.y + 1) * times - 1\n",
    "    result = {}\n",
    "    for x in range(new_max_x + 1):\n",
    "        for y in range(new_max_y + 1):\n",
    "            orig_x = x % (end.x + 1)\n",
    "            orig_y = y % (end.y + 1)\n",
    "            multiplier = (x // (end.x + 1)) + (y // (end.y + 1))\n",
    "            original_value = original_weights[Position(orig_x, orig_y)]\n",
    "            new_value = original_value + multiplier\n",
    "            if new_value > 9:\n",
    "                new_value -= 9\n",
    "            result[Position(x, y)] = new_value\n",
    "    return result"
   ],
   "metadata": {
    "collapsed": false,
    "pycharm": {
     "name": "#%%\n"
    }
   }
  },
  {
   "cell_type": "code",
   "execution_count": 121,
   "outputs": [
    {
     "data": {
      "text/plain": "True"
     },
     "execution_count": 121,
     "metadata": {},
     "output_type": "execute_result"
    }
   ],
   "source": [
    "multiply_weights(make_weights(parse_text(SAMPLE_TEXT)), 5) == make_weights(parse_text(SAMPLE_TEXT_2))"
   ],
   "metadata": {
    "collapsed": false,
    "pycharm": {
     "name": "#%%\n"
    }
   }
  },
  {
   "cell_type": "code",
   "execution_count": 140,
   "outputs": [
    {
     "data": {
      "text/plain": "315"
     },
     "execution_count": 140,
     "metadata": {},
     "output_type": "execute_result"
    }
   ],
   "source": [
    "new_weights = multiply_weights(make_weights(parse_text(SAMPLE_TEXT)), 5)\n",
    "cost, route = find_cheapest_path(new_weights, Position(0, 0), find_end(new_weights))\n",
    "cost.cost"
   ],
   "metadata": {
    "collapsed": false,
    "pycharm": {
     "name": "#%%\n"
    }
   }
  },
  {
   "cell_type": "code",
   "execution_count": 145,
   "outputs": [
    {
     "name": "stdout",
     "output_type": "stream",
     "text": [
      "0.04\n",
      "0.08\n",
      "0.12\n",
      "0.16\n",
      "0.2\n",
      "0.24\n",
      "0.28\n",
      "0.32\n",
      "0.36\n",
      "0.4\n",
      "0.44\n",
      "0.48\n",
      "0.52\n",
      "0.56\n",
      "0.6\n",
      "0.64\n",
      "0.68\n",
      "0.72\n",
      "0.76\n",
      "0.8\n",
      "0.84\n",
      "0.88\n",
      "0.92\n",
      "0.96\n"
     ]
    },
    {
     "data": {
      "text/plain": "2800"
     },
     "execution_count": 145,
     "metadata": {},
     "output_type": "execute_result"
    }
   ],
   "source": [
    "# Need a better solution for the big map. The approach above takes way too long\n",
    "new_weights = multiply_weights(make_weights(parse_text(read_input())), 5)\n",
    "cost, route = find_cheapest_path(new_weights, Position(0, 0), find_end(new_weights))\n",
    "cost.cost"
   ],
   "metadata": {
    "collapsed": false,
    "pycharm": {
     "name": "#%%\n"
    }
   }
  },
  {
   "cell_type": "code",
   "execution_count": null,
   "outputs": [],
   "source": [],
   "metadata": {
    "collapsed": false,
    "pycharm": {
     "name": "#%%\n"
    }
   }
  }
 ],
 "metadata": {
  "kernelspec": {
   "display_name": "Python 3",
   "language": "python",
   "name": "python3"
  },
  "language_info": {
   "codemirror_mode": {
    "name": "ipython",
    "version": 2
   },
   "file_extension": ".py",
   "mimetype": "text/x-python",
   "name": "python",
   "nbconvert_exporter": "python",
   "pygments_lexer": "ipython2",
   "version": "2.7.6"
  }
 },
 "nbformat": 4,
 "nbformat_minor": 0
}