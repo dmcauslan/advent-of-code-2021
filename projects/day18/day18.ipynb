{
 "cells": [
  {
   "cell_type": "code",
   "execution_count": 1,
   "metadata": {
    "collapsed": true
   },
   "outputs": [],
   "source": [
    "SAMPLE_TEXT = \"\"\"\n",
    "[[[0,[5,8]],[[1,7],[9,6]]],[[4,[1,2]],[[1,4],2]]]\n",
    "[[[5,[2,8]],4],[5,[[9,9],0]]]\n",
    "[6,[[[6,2],[5,6]],[[7,6],[4,7]]]]\n",
    "[[[6,[0,7]],[0,9]],[4,[9,[9,0]]]]\n",
    "[[[7,[6,4]],[3,[1,3]]],[[[5,5],1],9]]\n",
    "[[6,[[7,3],[3,2]]],[[[3,8],[5,7]],4]]\n",
    "[[[[5,4],[7,7]],8],[[8,3],8]]\n",
    "[[9,3],[[9,9],[6,[4,9]]]]\n",
    "[[2,[[7,7],7]],[[5,8],[[9,3],[0,2]]]]\n",
    "[[[[5,2],5],[8,[3,7]]],[[5,[7,5]],[4,4]]]\n",
    "\"\"\""
   ]
  },
  {
   "cell_type": "code",
   "execution_count": 2,
   "outputs": [],
   "source": [
    "import json"
   ],
   "metadata": {
    "collapsed": false,
    "pycharm": {
     "name": "#%%\n"
    }
   }
  },
  {
   "cell_type": "code",
   "execution_count": 5,
   "outputs": [],
   "source": [
    "def tokenize_line(line):\n",
    "    return json.loads(line)\n",
    "\n",
    "def parse_text(raw_text):\n",
    "    return [tokenize_line(l) for l in raw_text.split(\"\\n\") if l]\n",
    "\n",
    "def read_input():\n",
    "    with open(\"input.txt\", \"rt\") as f:\n",
    "        return f.read()"
   ],
   "metadata": {
    "collapsed": false,
    "pycharm": {
     "name": "#%%\n"
    }
   }
  },
  {
   "cell_type": "code",
   "execution_count": 46,
   "outputs": [],
   "source": [
    "from dataclasses import dataclass\n",
    "from typing import Union, List, Optional\n",
    "from treelib import Node, Tree"
   ],
   "metadata": {
    "collapsed": false,
    "pycharm": {
     "name": "#%%\n"
    }
   }
  },
  {
   "cell_type": "code",
   "execution_count": 144,
   "outputs": [],
   "source": [
    "class PairNode:\n",
    "    def __init__(self):\n",
    "        self.left: Optional[\"PairNode\"] = None\n",
    "        self.parent: Optional[\"PairNode\"] = None\n",
    "        self.right: Optional[\"PairNode\"] = None\n",
    "        self.value: Optional[\"int\"] = None\n",
    "\n",
    "    def is_value(self):\n",
    "        return self.value is not None\n",
    "\n",
    "    def is_pair(self):\n",
    "        return self.left is not None\n",
    "\n",
    "    def could_split(self):\n",
    "        return self.is_value() and self.value > 9\n",
    "\n",
    "    def do_split(self):\n",
    "        left_value = self.value // 2\n",
    "        right_value = self.value - left_value\n",
    "        self.value = None\n",
    "\n",
    "        self.left = PairNode()\n",
    "        self.left.value = left_value\n",
    "        self.left.parent = self\n",
    "\n",
    "        self.right = PairNode()\n",
    "        self.right.value = right_value\n",
    "        self.right.parent = self\n",
    "\n",
    "    def depth(self) -> int:\n",
    "        depth = 0\n",
    "        parent = self.parent\n",
    "        while parent:\n",
    "            depth += 1\n",
    "            parent = parent.parent\n",
    "        return depth\n",
    "\n",
    "    def could_explode(self):\n",
    "        return self.is_pair() and self.depth() >= 4\n",
    "\n",
    "    def do_explode(self):\n",
    "        value_left = self.find_value_left()\n",
    "        value_right = self.find_value_right()\n",
    "        if value_left:\n",
    "            value_left.value += self.left.value\n",
    "        if value_right:\n",
    "            value_right.value += self.right.value\n",
    "        self.left.parent = None\n",
    "        self.right.parent = None\n",
    "        self.left = None\n",
    "        self.right = None\n",
    "        self.value = 0\n",
    "\n",
    "    def find_leftmost_value(self, node: \"PairNode\"):\n",
    "        if node.is_value():\n",
    "            return node\n",
    "        else:\n",
    "            return self.find_leftmost_value(node.left)\n",
    "\n",
    "    def find_rightmost_value(self, node: \"PairNode\"):\n",
    "        if node.is_value():\n",
    "            return node\n",
    "        else:\n",
    "            return self.find_rightmost_value(node.right)\n",
    "\n",
    "    def find_value_right(self):\n",
    "        node_from = self\n",
    "        parent = self.parent\n",
    "        while parent:\n",
    "            # We need to find a node that expands to the right\n",
    "            if parent.left == node_from:\n",
    "                return self.find_leftmost_value(parent.right)\n",
    "            node_from = parent\n",
    "            parent = parent.parent\n",
    "        return None\n",
    "\n",
    "    def find_value_left(self):\n",
    "        node_from = self\n",
    "        parent = self.parent\n",
    "        while parent:\n",
    "            # We need to find a node that expands to the left\n",
    "            if parent.right == node_from:\n",
    "                return self.find_rightmost_value(parent.left)\n",
    "            node_from = parent\n",
    "            parent = parent.parent\n",
    "        return None\n",
    "\n",
    "    def pprint(self, tree: Tree):\n",
    "        if self.parent:\n",
    "            parent = id(self.parent)\n",
    "        else:\n",
    "            parent = None\n",
    "        if self.is_value():\n",
    "            tree.create_node(str(self.value), id(self), parent=parent)\n",
    "        else:\n",
    "            tree.create_node(f\"[ depth={self.depth()}\", id(self), parent=parent)\n",
    "            self.left.pprint(tree)\n",
    "            self.right.pprint(tree)\n",
    "\n",
    "    def __str__(self):\n",
    "        if self.is_value():\n",
    "            return str(self.value)\n",
    "        else:\n",
    "            return f\"[{self.left},{self.right}]\"\n",
    "\n",
    "    def __repr__(self):\n",
    "        if self.is_value():\n",
    "            return str(self.value)\n",
    "        else:\n",
    "            return f\"Pair({self.left}, {self.right})\"\n",
    "\n",
    "    def magnitude(self):\n",
    "        if self.is_value():\n",
    "            return self.value\n",
    "        else:\n",
    "            return 3 * self.left.magnitude() + 2 * self.right.magnitude()\n",
    "\n",
    "@dataclass\n",
    "class PairTree:\n",
    "    root: PairNode\n",
    "\n",
    "    def pprint(self):\n",
    "        tree = Tree()\n",
    "        self.root.pprint(tree)\n",
    "        print(tree)\n",
    "\n",
    "    def reduce(self):\n",
    "        # print(self.root)\n",
    "        while True:\n",
    "            explosions = self.find_explosions(self.root)\n",
    "            if explosions:\n",
    "                explosions[0].do_explode()\n",
    "                # print(self.root)\n",
    "                continue\n",
    "            splits = self.find_splits(self.root)\n",
    "            if splits:\n",
    "                splits[0].do_split()\n",
    "                # print(self.root)\n",
    "                continue\n",
    "            break\n",
    "\n",
    "    def find_explosions(self, node: PairNode) -> List[PairNode]:\n",
    "        if not isinstance(node, PairNode):\n",
    "            return []\n",
    "\n",
    "        result = []\n",
    "        result.extend(self.find_explosions(node.left))\n",
    "        if node.could_explode():\n",
    "            result.append(node)\n",
    "        result.extend(self.find_explosions(node.right))\n",
    "        return result\n",
    "\n",
    "    def find_splits(self, node: PairNode) -> List[PairNode]:\n",
    "        if not isinstance(node, PairNode):\n",
    "            return []\n",
    "\n",
    "        result = []\n",
    "        result.extend(self.find_splits(node.left))\n",
    "        if node.could_split():\n",
    "            result.append(node)\n",
    "        result.extend(self.find_splits(node.right))\n",
    "        return result\n",
    "\n",
    "    def add(self, other: \"PairTree\"):\n",
    "        new_root = PairNode()\n",
    "        new_root.left = self.root\n",
    "        new_root.left.parent = new_root\n",
    "\n",
    "        new_root.right = other.root\n",
    "        new_root.right.parent = new_root\n",
    "        self.root = new_root\n",
    "\n",
    "    def magnitude(self):\n",
    "        return self.root.magnitude()\n",
    "\n",
    "def is_list(arg):\n",
    "    return isinstance(arg, list)\n",
    "\n",
    "def get_pairs(pairs, parent):\n",
    "\n",
    "    left_value, right_value = pairs\n",
    "    left = PairNode()\n",
    "    parent.left = left\n",
    "    left.parent = parent\n",
    "    if isinstance(left_value, int):\n",
    "        left.value = left_value\n",
    "    else:\n",
    "        get_pairs(left_value, left)\n",
    "\n",
    "    right = PairNode()\n",
    "    parent.right = right\n",
    "    right.parent = parent\n",
    "    if isinstance(right_value, int):\n",
    "        right.value = right_value\n",
    "    else:\n",
    "        get_pairs(right_value, right)\n",
    "\n",
    "def build_tree(line):\n",
    "    root = PairNode()\n",
    "    get_pairs(line, root)\n",
    "    return PairTree(root)"
   ],
   "metadata": {
    "collapsed": false,
    "pycharm": {
     "name": "#%%\n"
    }
   }
  },
  {
   "cell_type": "code",
   "execution_count": 145,
   "outputs": [],
   "source": [
    "# Explosion tests\n",
    "\n",
    "def verify_reduction(input, expected):\n",
    "    tree = build_tree(parse_text(input)[0])\n",
    "    tree.reduce()\n",
    "    assert str(tree.root) == expected\n",
    "\n",
    "verify_reduction(\"[[[[[9,8],1],2],3],4]\", \"[[[[0,9],2],3],4]\")\n",
    "verify_reduction(\"[7,[6,[5,[4,[3,2]]]]]\", \"[7,[6,[5,[7,0]]]]\")\n",
    "verify_reduction(\"[[6,[5,[4,[3,2]]]],1]\", \"[[6,[5,[7,0]]],3]\")\n",
    "verify_reduction(\"[[3,[2,[1,[7,3]]]],[6,[5,[4,[3,2]]]]]\", \"[[3,[2,[8,0]]],[9,[5,[7,0]]]]\")\n",
    "verify_reduction(\"[[[[[4,3],4],4],[7,[[8,4],9]]],[1,1]]\", \"[[[[0,7],4],[[7,8],[6,0]]],[8,1]]\")"
   ],
   "metadata": {
    "collapsed": false,
    "pycharm": {
     "name": "#%%\n"
    }
   }
  },
  {
   "cell_type": "code",
   "execution_count": 151,
   "outputs": [],
   "source": [
    "def verify_addition(*args):\n",
    "    expected = args[-1]\n",
    "    tree = build_tree(parse_text(args[0])[0])\n",
    "    for a in args[1:-1]:\n",
    "        other = build_tree(parse_text(a)[0])\n",
    "        # print(tree.root, \"+\", other.root)\n",
    "        tree.add(other)\n",
    "        tree.reduce()\n",
    "    assert str(tree.root) == expected\n",
    "\n",
    "verify_addition(\"[[[[4,3],4],4],[7,[[8,4],9]]]\", \"[1,1]\", \"[[[[0,7],4],[[7,8],[6,0]]],[8,1]]\")"
   ],
   "metadata": {
    "collapsed": false,
    "pycharm": {
     "name": "#%%\n"
    }
   }
  },
  {
   "cell_type": "code",
   "execution_count": 152,
   "outputs": [],
   "source": [
    "verify_addition(\"[1,1]\", \"[2,2]\", \"[3,3]\", \"[4,4]\", \"[[[[1,1],[2,2]],[3,3]],[4,4]]\")"
   ],
   "metadata": {
    "collapsed": false,
    "pycharm": {
     "name": "#%%\n"
    }
   }
  },
  {
   "cell_type": "code",
   "execution_count": 153,
   "outputs": [],
   "source": [
    "verify_addition(\"[1,1]\", \"[2,2]\", \"[3,3]\", \"[4,4]\", \"[5,5]\", \"[[[[3,0],[5,3]],[4,4]],[5,5]]\")"
   ],
   "metadata": {
    "collapsed": false,
    "pycharm": {
     "name": "#%%\n"
    }
   }
  },
  {
   "cell_type": "code",
   "execution_count": 154,
   "outputs": [],
   "source": [
    "verify_addition(\"[1,1]\", \"[2,2]\", \"[3,3]\", \"[4,4]\", \"[5,5]\", \"[6,6]\", \"[[[[5,0],[7,4]],[5,5]],[6,6]]\")"
   ],
   "metadata": {
    "collapsed": false,
    "pycharm": {
     "name": "#%%\n"
    }
   }
  },
  {
   "cell_type": "code",
   "execution_count": 155,
   "outputs": [],
   "source": [
    "SAMPLE_ADDITION = \"\"\"\n",
    "[[[0,[4,5]],[0,0]],[[[4,5],[2,6]],[9,5]]]\n",
    "[7,[[[3,7],[4,3]],[[6,3],[8,8]]]]\n",
    "[[2,[[0,8],[3,4]]],[[[6,7],1],[7,[1,6]]]]\n",
    "[[[[2,4],7],[6,[0,5]]],[[[6,8],[2,8]],[[2,1],[4,5]]]]\n",
    "[7,[5,[[3,8],[1,4]]]]\n",
    "[[2,[2,2]],[8,[8,1]]]\n",
    "[2,9]\n",
    "[1,[[[9,3],9],[[9,0],[0,7]]]]\n",
    "[[[5,[7,4]],7],1]\n",
    "[[[[4,2],2],6],[8,7]]\n",
    "\"\"\"\n",
    "lines = parse_text(SAMPLE_ADDITION)\n",
    "tree = build_tree(lines[0])\n",
    "for l in lines[1:]:\n",
    "    other = build_tree(l)\n",
    "    tree.add(other)\n",
    "    tree.reduce()\n",
    "assert str(tree.root) == \"[[[[8,7],[7,7]],[[8,6],[7,7]]],[[[0,7],[6,6]],[8,7]]]\""
   ],
   "metadata": {
    "collapsed": false,
    "pycharm": {
     "name": "#%%\n"
    }
   }
  },
  {
   "cell_type": "code",
   "execution_count": 160,
   "outputs": [],
   "source": [
    "def verify_magnitude(input, expected):\n",
    "    tree = build_tree(parse_text(input)[0])\n",
    "    assert tree.magnitude() == expected\n",
    "\n",
    "verify_magnitude(\"[9,1]\", 29)\n",
    "verify_magnitude(\"[[1,2],[[3,4],5]]\", 143)\n",
    "verify_magnitude(\"[[[[0,7],4],[[7,8],[6,0]]],[8,1]]\", 1384)\n",
    "verify_magnitude(\"[[[[1,1],[2,2]],[3,3]],[4,4]]\", 445)\n",
    "verify_magnitude(\"[[[[3,0],[5,3]],[4,4]],[5,5]]\", 791)\n",
    "verify_magnitude(\"[[[[5,0],[7,4]],[5,5]],[6,6]]\", 1137)\n",
    "verify_magnitude(\"[[[[8,7],[7,7]],[[8,6],[7,7]]],[[[0,7],[6,6]],[8,7]]]\", 3488)"
   ],
   "metadata": {
    "collapsed": false,
    "pycharm": {
     "name": "#%%\n"
    }
   }
  },
  {
   "cell_type": "code",
   "execution_count": 162,
   "outputs": [],
   "source": [
    "SAMPLE_ADDITION_2 = \"\"\"\n",
    "[[[0,[5,8]],[[1,7],[9,6]]],[[4,[1,2]],[[1,4],2]]]\n",
    "[[[5,[2,8]],4],[5,[[9,9],0]]]\n",
    "[6,[[[6,2],[5,6]],[[7,6],[4,7]]]]\n",
    "[[[6,[0,7]],[0,9]],[4,[9,[9,0]]]]\n",
    "[[[7,[6,4]],[3,[1,3]]],[[[5,5],1],9]]\n",
    "[[6,[[7,3],[3,2]]],[[[3,8],[5,7]],4]]\n",
    "[[[[5,4],[7,7]],8],[[8,3],8]]\n",
    "[[9,3],[[9,9],[6,[4,9]]]]\n",
    "[[2,[[7,7],7]],[[5,8],[[9,3],[0,2]]]]\n",
    "[[[[5,2],5],[8,[3,7]]],[[5,[7,5]],[4,4]]]\n",
    "\"\"\"\n",
    "lines = parse_text(SAMPLE_ADDITION_2)\n",
    "tree = build_tree(lines[0])\n",
    "for l in lines[1:]:\n",
    "    other = build_tree(l)\n",
    "    tree.add(other)\n",
    "    tree.reduce()\n",
    "assert str(tree.root) == \"[[[[6,6],[7,6]],[[7,7],[7,0]]],[[[7,7],[7,7]],[[7,8],[9,9]]]]\"\n",
    "assert tree.magnitude() == 4140"
   ],
   "metadata": {
    "collapsed": false,
    "pycharm": {
     "name": "#%%\n"
    }
   }
  },
  {
   "cell_type": "code",
   "execution_count": 163,
   "outputs": [
    {
     "data": {
      "text/plain": "3216"
     },
     "execution_count": 163,
     "metadata": {},
     "output_type": "execute_result"
    }
   ],
   "source": [
    "lines = parse_text(read_input())\n",
    "tree = build_tree(lines[0])\n",
    "for l in lines[1:]:\n",
    "    other = build_tree(l)\n",
    "    tree.add(other)\n",
    "    tree.reduce()\n",
    "tree.magnitude()"
   ],
   "metadata": {
    "collapsed": false,
    "pycharm": {
     "name": "#%%\n"
    }
   }
  },
  {
   "cell_type": "code",
   "execution_count": 177,
   "outputs": [],
   "source": [
    "def largest_magnitude(lines):\n",
    "\n",
    "    def get_magnitude(line1, line2):\n",
    "        tree = build_tree(line1)\n",
    "        tree.add(build_tree(line2))\n",
    "        tree.reduce()\n",
    "        return tree.magnitude()\n",
    "\n",
    "    max_magnitude = 0\n",
    "    for line1 in lines:\n",
    "        for line2 in lines:\n",
    "            if line1 == line2:\n",
    "                continue\n",
    "            max_magnitude = max(max_magnitude, get_magnitude(line1, line2), get_magnitude(line2, line1))\n",
    "    return max_magnitude"
   ],
   "metadata": {
    "collapsed": false,
    "pycharm": {
     "name": "#%%\n"
    }
   }
  },
  {
   "cell_type": "code",
   "execution_count": 178,
   "outputs": [
    {
     "data": {
      "text/plain": "3993"
     },
     "execution_count": 178,
     "metadata": {},
     "output_type": "execute_result"
    }
   ],
   "source": [
    "largest_magnitude(parse_text(SAMPLE_ADDITION_2))"
   ],
   "metadata": {
    "collapsed": false,
    "pycharm": {
     "name": "#%%\n"
    }
   }
  },
  {
   "cell_type": "code",
   "execution_count": 179,
   "outputs": [
    {
     "data": {
      "text/plain": "4643"
     },
     "execution_count": 179,
     "metadata": {},
     "output_type": "execute_result"
    }
   ],
   "source": [
    "largest_magnitude(parse_text(read_input()))"
   ],
   "metadata": {
    "collapsed": false,
    "pycharm": {
     "name": "#%%\n"
    }
   }
  },
  {
   "cell_type": "code",
   "execution_count": null,
   "outputs": [],
   "source": [],
   "metadata": {
    "collapsed": false,
    "pycharm": {
     "name": "#%%\n"
    }
   }
  }
 ],
 "metadata": {
  "kernelspec": {
   "display_name": "Python 3",
   "language": "python",
   "name": "python3"
  },
  "language_info": {
   "codemirror_mode": {
    "name": "ipython",
    "version": 2
   },
   "file_extension": ".py",
   "mimetype": "text/x-python",
   "name": "python",
   "nbconvert_exporter": "python",
   "pygments_lexer": "ipython2",
   "version": "2.7.6"
  }
 },
 "nbformat": 4,
 "nbformat_minor": 0
}