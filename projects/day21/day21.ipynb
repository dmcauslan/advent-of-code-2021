{
 "cells": [
  {
   "cell_type": "code",
   "execution_count": 1,
   "metadata": {
    "collapsed": true
   },
   "outputs": [],
   "source": [
    "SAMPLE_TEXT = \"\"\"\n",
    "Player 1 starting position: 4\n",
    "Player 2 starting position: 8\n",
    "\"\"\""
   ]
  },
  {
   "cell_type": "code",
   "execution_count": 2,
   "outputs": [],
   "source": [
    "def tokenize_line(line):\n",
    "    return int(line.split(\" \")[-1])\n",
    "\n",
    "def parse_text(raw_text):\n",
    "    return [tokenize_line(l) for l in raw_text.split(\"\\n\") if l]\n",
    "\n",
    "def read_input():\n",
    "    with open(\"input.txt\", \"rt\") as f:\n",
    "        return f.read()\n",
    "\n",
    "def split_input(lines):\n",
    "    return lines[0], lines[1:]"
   ],
   "metadata": {
    "collapsed": false,
    "pycharm": {
     "name": "#%%\n"
    }
   }
  },
  {
   "cell_type": "code",
   "execution_count": 115,
   "outputs": [],
   "source": [
    "from functools import cache\n",
    "from dataclasses import dataclass\n",
    "from collections import defaultdict"
   ],
   "metadata": {
    "collapsed": false,
    "pycharm": {
     "name": "#%%\n"
    }
   }
  },
  {
   "cell_type": "code",
   "execution_count": 99,
   "outputs": [],
   "source": [
    "class DeterministicDice:\n",
    "    def __init__(self):\n",
    "        self.value = 0\n",
    "        self.roll_count = 0\n",
    "\n",
    "    def roll(self):\n",
    "        self.value += 1\n",
    "        self.roll_count += 1\n",
    "        return self.value\n",
    "\n",
    "    def roll3(self):\n",
    "        return sum([self.roll(), self.roll(), self.roll()])\n",
    "\n",
    "class Player:\n",
    "    def __init__(self, initial_position):\n",
    "        self.real_position = initial_position - 1\n",
    "        self.score = 0\n",
    "\n",
    "    def display_position(self):\n",
    "        return self.real_position % 10 + 1\n",
    "\n",
    "    def advance(self, spaces):\n",
    "        self.real_position += spaces\n",
    "        ending_position = self.display_position()\n",
    "        self.score += ending_position\n"
   ],
   "metadata": {
    "collapsed": false,
    "pycharm": {
     "name": "#%%\n"
    }
   }
  },
  {
   "cell_type": "code",
   "execution_count": 91,
   "outputs": [],
   "source": [
    "def play_game(loc1, loc2):\n",
    "    p1 = Player(loc1)\n",
    "    p2 = Player(loc2)\n",
    "    dice = DeterministicDice()\n",
    "    while True:\n",
    "        p1.advance(dice.roll3())\n",
    "        if p1.score >= 1000:\n",
    "            break\n",
    "        p2.advance(dice.roll3())\n",
    "        if p2.score >= 1000:\n",
    "            break\n",
    "    if p1.score > p2.score:\n",
    "        return p1, p2, dice\n",
    "    else:\n",
    "        return p2, p1, dice"
   ],
   "metadata": {
    "collapsed": false,
    "pycharm": {
     "name": "#%%\n"
    }
   }
  },
  {
   "cell_type": "code",
   "execution_count": 63,
   "outputs": [
    {
     "name": "stdout",
     "output_type": "stream",
     "text": [
      "1000 10 745 3 993\n"
     ]
    }
   ],
   "source": [
    "loc1, loc2 = parse_text(SAMPLE_TEXT)\n",
    "p1 = Player(loc1)\n",
    "p2 = Player(loc2)\n",
    "dice = DeterministicDice()\n",
    "while True:\n",
    "    p1.advance(dice.roll3())\n",
    "    if p1.score >= 1000:\n",
    "        break\n",
    "    p2.advance(dice.roll3())\n",
    "    if p2.score >= 1000:\n",
    "        break\n",
    "\n",
    "print(p1.score, p1.display_position(), p2.score, p2.display_position(), dice.roll_count)"
   ],
   "metadata": {
    "collapsed": false,
    "pycharm": {
     "name": "#%%\n"
    }
   }
  },
  {
   "cell_type": "code",
   "execution_count": 22,
   "outputs": [
    {
     "data": {
      "text/plain": "739785"
     },
     "execution_count": 22,
     "metadata": {},
     "output_type": "execute_result"
    }
   ],
   "source": [
    "winner, loser, dice = play_game(*parse_text(SAMPLE_TEXT))\n",
    "loser.score * dice.roll_count"
   ],
   "metadata": {
    "collapsed": false,
    "pycharm": {
     "name": "#%%\n"
    }
   }
  },
  {
   "cell_type": "code",
   "execution_count": 24,
   "outputs": [
    {
     "data": {
      "text/plain": "671580"
     },
     "execution_count": 24,
     "metadata": {},
     "output_type": "execute_result"
    }
   ],
   "source": [
    "winner, loser, dice = play_game(*parse_text(read_input()))\n",
    "loser.score * dice.roll_count"
   ],
   "metadata": {
    "collapsed": false,
    "pycharm": {
     "name": "#%%\n"
    }
   }
  },
  {
   "cell_type": "code",
   "execution_count": 111,
   "outputs": [],
   "source": [
    "DIRAC_ROLL_3 = [\n",
    "            (3, 1),\n",
    "            (4, 3),\n",
    "            (5, 6),\n",
    "            (6, 7),\n",
    "            (7, 6),\n",
    "            (8, 3),\n",
    "            (9, 1)\n",
    "        ]\n",
    "\n",
    "# Inspired by https://github.com/SwampThingTom/AoC2021/blob/main/Python/21-DiracDice/DiracDice.py\n",
    "@cache\n",
    "def count_quantum_wins(p1_location, p2_location, p1_score, p2_score, player):\n",
    "    if p1_score >= 21:\n",
    "        return 1, 0\n",
    "    if p2_score >= 21:\n",
    "        return 0, 1\n",
    "\n",
    "    total_p1_wins = 0\n",
    "    total_p2_wins = 0\n",
    "    next_player = 'p2' if player == 'p1' else 'p1'\n",
    "\n",
    "    for distance, count in DIRAC_ROLL_3:\n",
    "        next_p1_location = p1_location\n",
    "        next_p1_score = p1_score\n",
    "        next_p2_location = p2_location\n",
    "        next_p2_score = p2_score\n",
    "\n",
    "        if player == 'p1':\n",
    "            next_p1_location += distance\n",
    "            if next_p1_location > 10:\n",
    "                next_p1_location -= 10\n",
    "            next_p1_score += next_p1_location\n",
    "        else:\n",
    "            next_p2_location += distance\n",
    "            if next_p2_location > 10:\n",
    "                next_p2_location -= 10\n",
    "            next_p2_score += next_p2_location\n",
    "\n",
    "        p1_wins, p2_wins = count_quantum_wins(next_p1_location, next_p2_location, next_p1_score, next_p2_score, next_player)\n",
    "        total_p1_wins += p1_wins * count\n",
    "        total_p2_wins += p2_wins * count\n",
    "\n",
    "    return total_p1_wins, total_p2_wins"
   ],
   "metadata": {
    "collapsed": false,
    "pycharm": {
     "name": "#%%\n"
    }
   }
  },
  {
   "cell_type": "code",
   "execution_count": 112,
   "outputs": [
    {
     "data": {
      "text/plain": "(444356092776315, 341960390180808)"
     },
     "execution_count": 112,
     "metadata": {},
     "output_type": "execute_result"
    }
   ],
   "source": [
    "p1_loc, p2_loc = parse_text(SAMPLE_TEXT)\n",
    "count_quantum_wins(p1_loc, p2_loc, 0, 0, 'p1')"
   ],
   "metadata": {
    "collapsed": false,
    "pycharm": {
     "name": "#%%\n"
    }
   }
  },
  {
   "cell_type": "code",
   "execution_count": 113,
   "outputs": [
    {
     "data": {
      "text/plain": "(912857726749764, 598173233581909)"
     },
     "execution_count": 113,
     "metadata": {},
     "output_type": "execute_result"
    }
   ],
   "source": [
    "p1_loc, p2_loc = parse_text(read_input())\n",
    "count_quantum_wins(p1_loc, p2_loc, 0, 0, 'p1')"
   ],
   "metadata": {
    "collapsed": false,
    "pycharm": {
     "name": "#%%\n"
    }
   }
  },
  {
   "cell_type": "code",
   "execution_count": 158,
   "outputs": [],
   "source": [
    "# This is an iterative approach that doesn't quite work. :sadpanda:\n",
    "# The idea is to keep track of a count of unique game states and keep iterating through the game\n",
    "# until there are no more game states.\n",
    "\n",
    "@dataclass(frozen=True)\n",
    "class GameState:\n",
    "    p1_location: int\n",
    "    p2_location: int\n",
    "    p1_score: int\n",
    "    p2_score: int\n",
    "\n",
    "\n",
    "def play_quantum_game(p1_location, p2_location):\n",
    "\n",
    "    wins = {\n",
    "        '1': 0,\n",
    "        '2': 0,\n",
    "    }\n",
    "\n",
    "    game_states = defaultdict(int)\n",
    "    game_states[GameState(p1_location, p2_location, 0, 0)] = 1\n",
    "\n",
    "    def expand(game_state: GameState, player):\n",
    "        result = []\n",
    "        for distance, count in DIRAC_ROLL_3:\n",
    "            if player == '1':\n",
    "                new_location = game_state.p1_location + distance\n",
    "                if new_location > 10:\n",
    "                    new_location -= 10\n",
    "                new_score = game_state.p1_score + new_location\n",
    "                result.append((GameState(new_location, game_state.p2_location, new_score, game_state.p2_score), count))\n",
    "            else:\n",
    "                new_location = game_state.p2_location + distance\n",
    "                if new_location > 10:\n",
    "                    new_location -= 10\n",
    "                new_score = game_state.p2_score + new_location\n",
    "                result.append((GameState(game_state.p1_location, new_location, game_state.p1_score, new_score), count))\n",
    "        return result\n",
    "\n",
    "    player = '1'\n",
    "    it = 0\n",
    "    while game_states:\n",
    "        it += 1\n",
    "        if it == 100:\n",
    "            print(wins)\n",
    "            print(len(game_states))\n",
    "            it = 0\n",
    "        for game_state in list(game_states.keys()):\n",
    "            count = game_states[game_state]\n",
    "            if count == 0:\n",
    "                continue\n",
    "            game_states[game_state] -= count\n",
    "            del game_states[game_state]\n",
    "            for new_state, new_count in expand(game_state, player):\n",
    "                if new_state.p1_score >= 21:\n",
    "                    wins['1'] += count * new_count\n",
    "                elif new_state.p2_score >= 21:\n",
    "                    wins['2'] += count * new_count\n",
    "                else:\n",
    "                    game_states[new_state] += count * new_count\n",
    "        if player == '1':\n",
    "            player = '2'\n",
    "        else:\n",
    "            player = '1'\n",
    "\n",
    "    return wins"
   ],
   "metadata": {
    "collapsed": false,
    "pycharm": {
     "name": "#%%\n"
    }
   }
  },
  {
   "cell_type": "code",
   "execution_count": 159,
   "outputs": [
    {
     "data": {
      "text/plain": "{'1': 339084638879874, '2': 197600034241633}"
     },
     "execution_count": 159,
     "metadata": {},
     "output_type": "execute_result"
    }
   ],
   "source": [
    "play_quantum_game(*parse_text(SAMPLE_TEXT))"
   ],
   "metadata": {
    "collapsed": false,
    "pycharm": {
     "name": "#%%\n"
    }
   }
  },
  {
   "cell_type": "code",
   "execution_count": null,
   "outputs": [],
   "source": [],
   "metadata": {
    "collapsed": false,
    "pycharm": {
     "name": "#%%\n"
    }
   }
  }
 ],
 "metadata": {
  "kernelspec": {
   "display_name": "Python 3",
   "language": "python",
   "name": "python3"
  },
  "language_info": {
   "codemirror_mode": {
    "name": "ipython",
    "version": 2
   },
   "file_extension": ".py",
   "mimetype": "text/x-python",
   "name": "python",
   "nbconvert_exporter": "python",
   "pygments_lexer": "ipython2",
   "version": "2.7.6"
  }
 },
 "nbformat": 4,
 "nbformat_minor": 0
}