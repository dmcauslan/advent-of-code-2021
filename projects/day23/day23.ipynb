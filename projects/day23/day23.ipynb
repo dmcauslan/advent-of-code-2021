{
 "cells": [
  {
   "cell_type": "code",
   "execution_count": 8,
   "metadata": {
    "collapsed": true
   },
   "outputs": [],
   "source": [
    "SAMPLE_TEXT = \"\"\"\n",
    "#############\n",
    "#...........#\n",
    "###B#C#B#D###\n",
    "  #A#D#C#A#\n",
    "  #########\n",
    "\"\"\""
   ]
  },
  {
   "cell_type": "code",
   "execution_count": 13,
   "outputs": [],
   "source": [
    "matches = set(\"ABCD\")\n",
    "\n",
    "def tokenize_line(line):\n",
    "    return list(line.strip().replace('#', ''))\n",
    "\n",
    "def parse_text(raw_text):\n",
    "    return [tokenize_line(l) for l in raw_text.split(\"\\n\") if any(m in l for m in matches)]\n",
    "\n",
    "def read_input():\n",
    "    with open(\"input.txt\", \"rt\") as f:\n",
    "        return f.read()\n",
    "\n",
    "def split_input(lines):\n",
    "    return lines[0], lines[1:]"
   ],
   "metadata": {
    "collapsed": false,
    "pycharm": {
     "name": "#%%\n"
    }
   }
  },
  {
   "cell_type": "code",
   "execution_count": 16,
   "outputs": [],
   "source": [
    "from dataclasses import dataclass"
   ],
   "metadata": {
    "collapsed": false,
    "pycharm": {
     "name": "#%%\n"
    }
   }
  },
  {
   "cell_type": "code",
   "execution_count": 14,
   "outputs": [
    {
     "data": {
      "text/plain": "[['B', 'C', 'B', 'D'], ['A', 'D', 'C', 'A']]"
     },
     "execution_count": 14,
     "metadata": {},
     "output_type": "execute_result"
    }
   ],
   "source": [
    "parse_text(SAMPLE_TEXT)"
   ],
   "metadata": {
    "collapsed": false,
    "pycharm": {
     "name": "#%%\n"
    }
   }
  },
  {
   "cell_type": "code",
   "execution_count": 5,
   "outputs": [
    {
     "data": {
      "text/plain": "True"
     },
     "execution_count": 5,
     "metadata": {},
     "output_type": "execute_result"
    }
   ],
   "source": [
    "PRICES = {\n",
    "    \"A\": 1,\n",
    "    \"B\": 10,\n",
    "    \"C\": 100,\n",
    "    \"D\": 1000,\n",
    "}\n",
    "\n"
   ],
   "metadata": {
    "collapsed": false,
    "pycharm": {
     "name": "#%%\n"
    }
   }
  },
  {
   "cell_type": "code",
   "execution_count": 18,
   "outputs": [],
   "source": [
    "POSITIONS = [f\"H{i}\" for i in range(11)] + [\"A1\", \"A2\"] + [\"B1\", \"B2\"] + [\"C1\", \"C2\"] + [\"D1\", \"D2\"]\n",
    "\n",
    "def available_moves(current_state, from_position):\n",
    "    pass\n",
    "\n",
    "def minimum_path(current_cost, current_state):\n",
    "    pass\n",
    "\n",
    "def needs_to_move(current_state):\n",
    "    \n",
    "\n",
    "def done(current_state):\n",
    "    return current_state.get(\"A1\") == \"A\" and current_state.get(\"A2\") == \"A\" \\\n",
    "           and current_state.get(\"B1\") == \"B\" and current_state.get(\"B2\") == \"B\" \\\n",
    "           and current_state.get(\"C1\") == \"C\" and current_state.get(\"C2\") == \"C\" \\\n",
    "           and current_state.get(\"D1\") == \"D\" and current_state.get(\"D2\") == \"D\""
   ],
   "metadata": {
    "collapsed": false,
    "pycharm": {
     "name": "#%%\n"
    }
   }
  },
  {
   "cell_type": "code",
   "execution_count": 19,
   "outputs": [
    {
     "data": {
      "text/plain": "['H0',\n 'H1',\n 'H2',\n 'H3',\n 'H4',\n 'H5',\n 'H6',\n 'H7',\n 'H8',\n 'H9',\n 'H10',\n 'A1',\n 'A2',\n 'B1',\n 'B2',\n 'C1',\n 'C2',\n 'D1',\n 'D2']"
     },
     "execution_count": 19,
     "metadata": {},
     "output_type": "execute_result"
    }
   ],
   "source": [
    "POSITIONS"
   ],
   "metadata": {
    "collapsed": false,
    "pycharm": {
     "name": "#%%\n"
    }
   }
  },
  {
   "cell_type": "code",
   "execution_count": null,
   "outputs": [],
   "source": [],
   "metadata": {
    "collapsed": false,
    "pycharm": {
     "name": "#%%\n"
    }
   }
  }
 ],
 "metadata": {
  "kernelspec": {
   "display_name": "Python 3",
   "language": "python",
   "name": "python3"
  },
  "language_info": {
   "codemirror_mode": {
    "name": "ipython",
    "version": 2
   },
   "file_extension": ".py",
   "mimetype": "text/x-python",
   "name": "python",
   "nbconvert_exporter": "python",
   "pygments_lexer": "ipython2",
   "version": "2.7.6"
  }
 },
 "nbformat": 4,
 "nbformat_minor": 0
}