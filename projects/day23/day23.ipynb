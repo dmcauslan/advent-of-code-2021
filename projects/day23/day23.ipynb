{
 "cells": [
  {
   "cell_type": "code",
   "execution_count": 1,
   "metadata": {},
   "outputs": [],
   "source": [
    "import textwrap\n",
    "import itertools\n",
    "from dataclasses import dataclass"
   ]
  },
  {
   "cell_type": "code",
   "execution_count": 2,
   "metadata": {},
   "outputs": [],
   "source": [
    "SAMPLE_TEXT = \"\"\"\n",
    "#############\n",
    "#...........#\n",
    "###B#C#B#D###\n",
    "  #A#D#C#A#\n",
    "  #########\n",
    "\"\"\""
   ]
  },
  {
   "cell_type": "code",
   "execution_count": 3,
   "metadata": {
    "pycharm": {
     "name": "#%%\n"
    }
   },
   "outputs": [],
   "source": [
    "matches = set(\"ABCD\")\n",
    "\n",
    "def tokenize_line(line):\n",
    "    return list(line.strip().replace('#', ''))\n",
    "\n",
    "def parse_text(raw_text):\n",
    "    return [tokenize_line(l) for l in raw_text.split(\"\\n\") if any(m in l for m in matches)]\n",
    "\n",
    "def read_input():\n",
    "    with open(\"input.txt\", \"rt\") as f:\n",
    "        return f.read()\n",
    "\n",
    "def split_input(lines):\n",
    "    return lines[0], lines[1:]"
   ]
  },
  {
   "cell_type": "code",
   "execution_count": 9,
   "metadata": {},
   "outputs": [],
   "source": [
    "ENERGY = dict(A=1, B=10, C=100, D=1000)\n",
    "HALL_POSITIONS = [0,1,3,5,7,9,10]\n",
    "ROOM_POSITIONS = [2, 4, 6, 8]"
   ]
  },
  {
   "cell_type": "code",
   "execution_count": 10,
   "metadata": {},
   "outputs": [],
   "source": [
    "def print_board(puzzle):\n",
    "    hall = [p or '.' for p in puzzle[0]]\n",
    "    row1 = [puzzle[1][p] or '.' for p in ROOM_POSITIONS]\n",
    "    row2 = [puzzle[2][p] or '.' for p in ROOM_POSITIONS]\n",
    "    result = \"\"\"\n",
    "    #############\n",
    "    #{0}#\n",
    "    ###{1}#{2}#{3}#{4}###\n",
    "      #{5}#{6}#{7}#{8}#\n",
    "      #########\n",
    "    \"\"\".format(''.join(hall), *row1, *row2)\n",
    "    return textwrap.dedent(result)"
   ]
  },
  {
   "cell_type": "code",
   "execution_count": 11,
   "metadata": {
    "pycharm": {
     "name": "#%%\n"
    }
   },
   "outputs": [
    {
     "name": "stdout",
     "output_type": "stream",
     "text": [
      "\n",
      "#############\n",
      "#...........#\n",
      "###B#C#B#D###\n",
      "  #A#D#C#A#\n",
      "  #########\n",
      "\n"
     ]
    }
   ],
   "source": [
    "puzzle = [\n",
    "    [None] * 11,\n",
    "    [None] * 11,\n",
    "    [None] * 11\n",
    "]\n",
    "for line, chars in enumerate(parse_text(SAMPLE_TEXT)):\n",
    "    for index, char in enumerate(chars):\n",
    "        puzzle[line + 1][index * 2 + 2] = char\n",
    "print(print_board(puzzle))"
   ]
  },
  {
   "cell_type": "code",
   "execution_count": 16,
   "metadata": {},
   "outputs": [
    {
     "data": {
      "text/plain": [
       "True"
      ]
     },
     "execution_count": 16,
     "metadata": {},
     "output_type": "execute_result"
    }
   ],
   "source": [
    "@dataclass\n",
    "class Location:\n",
    "    row: int\n",
    "    col: int\n",
    "\n",
    "    def in_hall(self):\n",
    "        return self.row == 0\n",
    "    \n",
    "    def in_room(self):\n",
    "        return self.row > 0\n",
    "    \n",
    "\n",
    "def move_out(puzzle):\n",
    "    for p in ROOM_POSITIONS:\n",
    "        if \n"
   ]
  },
  {
   "cell_type": "code",
   "execution_count": 14,
   "metadata": {
    "pycharm": {
     "name": "#%%\n"
    }
   },
   "outputs": [
    {
     "data": {
      "text/plain": [
       "[['B', 'C', 'B', 'D'], ['A', 'D', 'C', 'A']]"
      ]
     },
     "execution_count": 14,
     "metadata": {},
     "output_type": "execute_result"
    }
   ],
   "source": [
    "parse_text(SAMPLE_TEXT)"
   ]
  },
  {
   "cell_type": "code",
   "execution_count": null,
   "metadata": {},
   "outputs": [],
   "source": []
  },
  {
   "cell_type": "code",
   "execution_count": 5,
   "metadata": {
    "pycharm": {
     "name": "#%%\n"
    }
   },
   "outputs": [
    {
     "data": {
      "text/plain": [
       "True"
      ]
     },
     "execution_count": 5,
     "metadata": {},
     "output_type": "execute_result"
    }
   ],
   "source": [
    "PRICES = {\n",
    "    \"A\": 1,\n",
    "    \"B\": 10,\n",
    "    \"C\": 100,\n",
    "    \"D\": 1000,\n",
    "}\n",
    "\n"
   ]
  },
  {
   "cell_type": "code",
   "execution_count": 18,
   "metadata": {
    "pycharm": {
     "name": "#%%\n"
    }
   },
   "outputs": [],
   "source": [
    "POSITIONS = [f\"H{i}\" for i in range(11)] + [\"A1\", \"A2\"] + [\"B1\", \"B2\"] + [\"C1\", \"C2\"] + [\"D1\", \"D2\"]\n",
    "\n",
    "def available_moves(current_state, from_position):\n",
    "    pass\n",
    "\n",
    "def minimum_path(current_cost, current_state):\n",
    "    pass\n",
    "\n",
    "def needs_to_move(current_state):\n",
    "    \n",
    "\n",
    "def done(current_state):\n",
    "    return current_state.get(\"A1\") == \"A\" and current_state.get(\"A2\") == \"A\" \\\n",
    "           and current_state.get(\"B1\") == \"B\" and current_state.get(\"B2\") == \"B\" \\\n",
    "           and current_state.get(\"C1\") == \"C\" and current_state.get(\"C2\") == \"C\" \\\n",
    "           and current_state.get(\"D1\") == \"D\" and current_state.get(\"D2\") == \"D\""
   ]
  },
  {
   "cell_type": "code",
   "execution_count": 19,
   "metadata": {
    "pycharm": {
     "name": "#%%\n"
    }
   },
   "outputs": [
    {
     "data": {
      "text/plain": [
       "['H0',\n",
       " 'H1',\n",
       " 'H2',\n",
       " 'H3',\n",
       " 'H4',\n",
       " 'H5',\n",
       " 'H6',\n",
       " 'H7',\n",
       " 'H8',\n",
       " 'H9',\n",
       " 'H10',\n",
       " 'A1',\n",
       " 'A2',\n",
       " 'B1',\n",
       " 'B2',\n",
       " 'C1',\n",
       " 'C2',\n",
       " 'D1',\n",
       " 'D2']"
      ]
     },
     "execution_count": 19,
     "metadata": {},
     "output_type": "execute_result"
    }
   ],
   "source": [
    "POSITIONS"
   ]
  },
  {
   "cell_type": "code",
   "execution_count": null,
   "metadata": {
    "pycharm": {
     "name": "#%%\n"
    }
   },
   "outputs": [],
   "source": []
  }
 ],
 "metadata": {
  "kernelspec": {
   "display_name": "Python 3 (ipykernel)",
   "language": "python",
   "name": "python3"
  },
  "language_info": {
   "codemirror_mode": {
    "name": "ipython",
    "version": 3
   },
   "file_extension": ".py",
   "mimetype": "text/x-python",
   "name": "python",
   "nbconvert_exporter": "python",
   "pygments_lexer": "ipython3",
   "version": "3.10.6"
  }
 },
 "nbformat": 4,
 "nbformat_minor": 1
}
