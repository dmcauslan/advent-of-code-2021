{
 "cells": [
  {
   "cell_type": "code",
   "execution_count": 1,
   "metadata": {
    "collapsed": true
   },
   "outputs": [],
   "source": [
    "SAMPLE_INPUT = \"\"\"\n",
    "..#.#..#####.#.#.#.###.##.....###.##.#..###.####..#####..#....#..#..##..###..######.###...####..#..#####..##..#.#####...##.#.#..#.##..#.#......#.###.######.###.####...#.##.##..#..#..#####.....#.#....###..#.##......#.....#..#..#..##..#...##.######.####.####.#.#...#.......#..#.#.#...####.##.#......#..#...##.#.##..#...##.#.##..###.#......#.#.......#.#.#.####.###.##...#.....####.#..#..#.##.#....##..#.####....##...##..#...#......#.#.......#.......##..####..#...#.#.#...##..#.#..###..#####........#..####......#..#\n",
    "\n",
    "#..#.\n",
    "#....\n",
    "##..#\n",
    "..#..\n",
    "..###\n",
    "\"\"\""
   ]
  },
  {
   "cell_type": "code",
   "execution_count": 9,
   "outputs": [],
   "source": [
    "def tokenize_line(line):\n",
    "    return list(line)\n",
    "\n",
    "def parse_text(raw_text):\n",
    "    return [tokenize_line(l) for l in raw_text.split(\"\\n\") if l]\n",
    "\n",
    "def read_input():\n",
    "    with open(\"input.txt\", \"rt\") as f:\n",
    "        return f.read()\n",
    "\n",
    "def split_input(lines):\n",
    "    return lines[0], lines[1:]"
   ],
   "metadata": {
    "collapsed": false,
    "pycharm": {
     "name": "#%%\n"
    }
   }
  },
  {
   "cell_type": "code",
   "execution_count": 80,
   "outputs": [],
   "source": [
    "def make_image(lines):\n",
    "    result = {}\n",
    "    for y, row in enumerate(lines):\n",
    "        for x, value in enumerate(row):\n",
    "            result[x, y] = value\n",
    "    return result"
   ],
   "metadata": {
    "collapsed": false,
    "pycharm": {
     "name": "#%%\n"
    }
   }
  },
  {
   "cell_type": "code",
   "execution_count": 109,
   "outputs": [],
   "source": [
    "def get_adjacent_values(image, x, y, bg):\n",
    "    offsets = list(itertools.product([-1, 0, 1], [-1, 0, 1]))\n",
    "    return [\n",
    "        image.get((x + x_offset, y + y_offset), bg) for y_offset, x_offset in offsets\n",
    "    ]\n",
    "\n",
    "def get_limits(image, offset=0):\n",
    "    min_x = 0\n",
    "    min_y = 0\n",
    "    max_x = 0\n",
    "    max_y = 0\n",
    "    for x, y in image.keys():\n",
    "        min_x = min(min_x, x)\n",
    "        min_y = min(min_y, y)\n",
    "        max_x = max(max_x, x)\n",
    "        max_y = max(max_y, y)\n",
    "    min_x -= offset\n",
    "    max_x += offset\n",
    "    min_y -= offset\n",
    "    max_y += offset\n",
    "    return min_x, max_x, min_y, max_y\n",
    "\n",
    "def chars_to_int(chars):\n",
    "    mapping =  {\n",
    "        \".\": \"0\",\n",
    "        \"#\": \"1\",\n",
    "    }\n",
    "    return int(''.join([mapping[c] for c in chars]), 2)\n",
    "\n",
    "def enhance(algorithm, image, bg):\n",
    "    min_x, max_x, min_y, max_y = get_limits(image, offset=1)\n",
    "    new_image = {}\n",
    "    # print(get_limits(image))\n",
    "    for x in range(min_x, max_x + 1):\n",
    "        for y in range(min_y, max_y + 1):\n",
    "            values = get_adjacent_values(image, x, y, bg)\n",
    "            algo_index = chars_to_int(values)\n",
    "            new_image[x, y] = algorithm[algo_index]\n",
    "    return new_image\n",
    "\n",
    "def print_image(image, bg):\n",
    "    min_x, max_x, min_y, max_y = get_limits(image, offset=5)\n",
    "    result = \"\"\n",
    "    for y in range(min_y, max_y + 1):\n",
    "        for x in range(min_x, max_x + 1):\n",
    "            result += image.get((x, y), bg)\n",
    "        result += '\\n'\n",
    "    print(result)\n",
    "\n",
    "def count_pixels(image):\n",
    "    return sum(1 for v in image.values() if v == '#')\n"
   ],
   "metadata": {
    "collapsed": false,
    "pycharm": {
     "name": "#%%\n"
    }
   }
  },
  {
   "cell_type": "code",
   "execution_count": 110,
   "outputs": [
    {
     "name": "stdout",
     "output_type": "stream",
     "text": [
      "...................\n",
      "...................\n",
      "...................\n",
      "...................\n",
      "...................\n",
      "............#......\n",
      "......#..#.#.......\n",
      ".....#.#...###.....\n",
      ".....#...##.#......\n",
      ".....#.....#.#.....\n",
      "......#.#####......\n",
      ".......#.#####.....\n",
      "........##.##......\n",
      ".........###.......\n",
      "...................\n",
      "...................\n",
      "...................\n",
      "...................\n",
      "...................\n",
      "\n"
     ]
    },
    {
     "data": {
      "text/plain": "35"
     },
     "execution_count": 110,
     "metadata": {},
     "output_type": "execute_result"
    }
   ],
   "source": [
    "algo, image_lines = split_input(parse_text(SAMPLE_INPUT))\n",
    "image = make_image(image_lines)\n",
    "new_image = enhance(algo, enhance(algo, image, '.'), '.')\n",
    "print_image(new_image, '.')\n",
    "count_pixels(new_image)"
   ],
   "metadata": {
    "collapsed": false,
    "pycharm": {
     "name": "#%%\n"
    }
   }
  },
  {
   "cell_type": "code",
   "execution_count": 111,
   "outputs": [],
   "source": [
    "def enhance_n_times(algorithm, image, n, bgs):\n",
    "    for i in range(n):\n",
    "        bg = bgs[i % len(bgs)]\n",
    "        # print(\"enhancing\", bg)\n",
    "        image = enhance(algorithm, image, bg)\n",
    "    return image"
   ],
   "metadata": {
    "collapsed": false,
    "pycharm": {
     "name": "#%%\n"
    }
   }
  },
  {
   "cell_type": "code",
   "execution_count": 112,
   "outputs": [
    {
     "data": {
      "text/plain": "5483"
     },
     "execution_count": 112,
     "metadata": {},
     "output_type": "execute_result"
    }
   ],
   "source": [
    "algo, image_lines = split_input(parse_text(read_input()))\n",
    "image = make_image(image_lines)\n",
    "image = enhance_n_times(algo, image, 2, '.#')\n",
    "count_pixels(image)"
   ],
   "metadata": {
    "collapsed": false,
    "pycharm": {
     "name": "#%%\n"
    }
   }
  },
  {
   "cell_type": "code",
   "execution_count": 113,
   "outputs": [
    {
     "data": {
      "text/plain": "3351"
     },
     "execution_count": 113,
     "metadata": {},
     "output_type": "execute_result"
    }
   ],
   "source": [
    "algo, image_lines = split_input(parse_text(SAMPLE_INPUT))\n",
    "image = make_image(image_lines)\n",
    "result = enhance_n_times(algo, image, 50, '.')\n",
    "count_pixels(result)"
   ],
   "metadata": {
    "collapsed": false,
    "pycharm": {
     "name": "#%%\n"
    }
   }
  },
  {
   "cell_type": "code",
   "execution_count": 114,
   "outputs": [
    {
     "data": {
      "text/plain": "18732"
     },
     "execution_count": 114,
     "metadata": {},
     "output_type": "execute_result"
    }
   ],
   "source": [
    "algo, image_lines = split_input(parse_text(read_input()))\n",
    "image = make_image(image_lines)\n",
    "result = enhance_n_times(algo, image, 50, '.#')\n",
    "count_pixels(result)"
   ],
   "metadata": {
    "collapsed": false,
    "pycharm": {
     "name": "#%%\n"
    }
   }
  },
  {
   "cell_type": "code",
   "execution_count": null,
   "outputs": [],
   "source": [],
   "metadata": {
    "collapsed": false,
    "pycharm": {
     "name": "#%%\n"
    }
   }
  }
 ],
 "metadata": {
  "kernelspec": {
   "display_name": "Python 3",
   "language": "python",
   "name": "python3"
  },
  "language_info": {
   "codemirror_mode": {
    "name": "ipython",
    "version": 2
   },
   "file_extension": ".py",
   "mimetype": "text/x-python",
   "name": "python",
   "nbconvert_exporter": "python",
   "pygments_lexer": "ipython2",
   "version": "2.7.6"
  }
 },
 "nbformat": 4,
 "nbformat_minor": 0
}