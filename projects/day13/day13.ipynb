{
 "cells": [
  {
   "cell_type": "code",
   "execution_count": 11,
   "metadata": {
    "collapsed": true
   },
   "outputs": [],
   "source": [
    "SAMPLE_TEXT = \"\"\"\n",
    "6,10\n",
    "0,14\n",
    "9,10\n",
    "0,3\n",
    "10,4\n",
    "4,11\n",
    "6,0\n",
    "6,12\n",
    "4,1\n",
    "0,13\n",
    "10,12\n",
    "3,4\n",
    "3,0\n",
    "8,4\n",
    "1,10\n",
    "2,14\n",
    "8,10\n",
    "9,0\n",
    "\n",
    "fold along y=7\n",
    "fold along x=5\n",
    "\"\"\""
   ]
  },
  {
   "cell_type": "code",
   "execution_count": 12,
   "outputs": [],
   "source": [
    "def tokenize_line(line):\n",
    "    if line.startswith(\"fold\"):\n",
    "        xy, position = line.split(\" \")[-1].split(\"=\")\n",
    "        return \"fold\", xy, int(position)\n",
    "    else:\n",
    "        x, y = line.split(\",\")\n",
    "        return \"point\", int(x), int(y)\n",
    "\n",
    "\n",
    "def parse_text(raw_text):\n",
    "    return [tokenize_line(l) for l in raw_text.split(\"\\n\") if l]\n",
    "\n",
    "\n",
    "def read_input():\n",
    "    with open(\"input.txt\", \"rt\") as f:\n",
    "        return f.read()\n",
    "\n",
    "def split_by_type(lines):\n",
    "    points = (l for l in lines if l[0] == 'point')\n",
    "    folds = (l for l in lines if l[0] == 'fold')\n",
    "    return list(points), list(folds)"
   ],
   "metadata": {
    "collapsed": false,
    "pycharm": {
     "name": "#%%\n"
    }
   }
  },
  {
   "cell_type": "code",
   "execution_count": 35,
   "outputs": [],
   "source": [
    "class Board:\n",
    "    def __init__(self, points):\n",
    "        self.rows = []\n",
    "        self.max_x, self.max_y = self.get_limits(points)\n",
    "        self.create_board(points)\n",
    "\n",
    "    def create_board(self, points):\n",
    "        for y in range(self.max_y + 1):\n",
    "            self.rows.append([None] * (self.max_x + 1))\n",
    "        for _, x, y in points:\n",
    "            self.mark_point(x, y, '#')\n",
    "\n",
    "    def get_limits(self, points):\n",
    "        max_x = 0\n",
    "        max_y = 0\n",
    "        for _, x, y in points:\n",
    "            max_x = max(max_x, x)\n",
    "            max_y = max(max_y, y)\n",
    "        if max_x % 2 != 0:\n",
    "            max_x += 1\n",
    "        if max_y % 2 != 0:\n",
    "            max_y += 1\n",
    "        return max_x, max_y\n",
    "\n",
    "    def get_value(self, x, y):\n",
    "        return self.rows[y][x]\n",
    "\n",
    "    def mark_point(self, x, y, value):\n",
    "        if value is None:\n",
    "            return\n",
    "        self.rows[y][x] = value\n",
    "\n",
    "    def clear_point(self, x, y):\n",
    "        self.rows[y][x] = None\n",
    "\n",
    "    def fold(self, fold):\n",
    "        _, xy, position = fold\n",
    "        if xy == 'x':\n",
    "            if position != self.max_x // 2:\n",
    "                raise ValueError(f\"Can't fold along x={position}, should be {self.max_x // 2}\")\n",
    "            self.fold_x(position)\n",
    "        elif xy == 'y':\n",
    "            if position != self.max_y // 2:\n",
    "                raise ValueError(f\"Can't fold along y={position}, should be {self.max_y // 2}\")\n",
    "            self.fold_y(position)\n",
    "        else:\n",
    "            raise ValueError(f\"Invalid fold: {xy}\")\n",
    "\n",
    "    def fold_x(self, position):\n",
    "        copy_to = list(range(position))\n",
    "        copy_from = list(range(self.max_x, position, -1))\n",
    "        copy_to_from = list(zip(copy_to, copy_from))\n",
    "        # print('x', position, self.max_x, self.max_y)\n",
    "        for y in range(self.max_y + 1):\n",
    "            for x_new, x_old in copy_to_from:\n",
    "                self.mark_point(x_new, y, self.get_value(x_old, y))\n",
    "                self.clear_point(x_old, y)\n",
    "        self.max_x = position - 1\n",
    "        # print('x', position, self.max_x, self.max_y)\n",
    "\n",
    "    def fold_y(self, position):\n",
    "        copy_to = list(range(position))\n",
    "        copy_from = list(range(self.max_y, position, -1))\n",
    "        copy_to_from = list(zip(copy_to, copy_from))\n",
    "        # print('y', position, self.max_x, self.max_y)\n",
    "        for x in range(self.max_x + 1):\n",
    "            for y_new, y_old in copy_to_from:\n",
    "                self.mark_point(x, y_new, self.get_value(x, y_old))\n",
    "                self.clear_point(x, y_old)\n",
    "        self.max_y = position - 1\n",
    "        # print('y', position, self.max_x, self.max_y)\n",
    "\n",
    "    def count_points(self):\n",
    "        points = 0\n",
    "        for x in range(self.max_x + 1):\n",
    "            for y in range(self.max_y + 1):\n",
    "                if self.get_value(x, y):\n",
    "                    points +=1\n",
    "        return points\n",
    "\n",
    "    def do_folds(self, folds):\n",
    "        for f in folds:\n",
    "            self.fold(f)\n",
    "\n",
    "    def __str__(self):\n",
    "        result = f\"Board: max_x={self.max_x}, max_y={self.max_y}\\n\"\n",
    "        for y in range(self.max_y + 1):\n",
    "            for x in range(self.max_x + 1):\n",
    "                v = self.get_value(x, y)\n",
    "                result += v if v else \".\"\n",
    "            result += \"\\n\"\n",
    "        return result"
   ],
   "metadata": {
    "collapsed": false,
    "pycharm": {
     "name": "#%%\n"
    }
   }
  },
  {
   "cell_type": "code",
   "execution_count": 36,
   "outputs": [],
   "source": [
    "# Didn't love the approach above. Trying with a dictionary of points rather than arrays.\n",
    "class SparseBoard:\n",
    "    def __init__(self, points):\n",
    "        self.points = {}\n",
    "        self.max_x = 0\n",
    "        self.max_y = 0\n",
    "        for _, x, y in points:\n",
    "            self.points[x, y] = '#'\n",
    "            self.max_x = max(self.max_x, x)\n",
    "            self.max_y = max(self.max_y, y)\n",
    "\n",
    "    def count_points(self):\n",
    "        return len(self.points)\n",
    "\n",
    "    def fold(self, fold):\n",
    "        _, direction, position = fold\n",
    "        if direction == 'x':\n",
    "            offset = lambda x, y: (position * 2 - x, y)\n",
    "            x_limit = position - 1\n",
    "            y_limit = self.max_y\n",
    "        else:\n",
    "            offset = lambda x, y: (x, position * 2 - y)\n",
    "            x_limit = self.max_x\n",
    "            y_limit = position - 1\n",
    "\n",
    "        for x in range(x_limit + 1):\n",
    "            for y in range(y_limit + 1):\n",
    "                o = offset(x, y)\n",
    "                if o in self.points:\n",
    "                    self.points[x, y] = self.points.get((x, y)) or self.points[o]\n",
    "                    del self.points[o]\n",
    "\n",
    "        self.max_x, self.max_y = x_limit, y_limit\n",
    "\n",
    "    def do_folds(self, folds):\n",
    "        for f in folds:\n",
    "            self.fold(f)\n",
    "\n",
    "    def __str__(self):\n",
    "        result = f\"SparseBoard: max_x={self.max_x}, max_y={self.max_y}\\n\"\n",
    "        for y in range(self.max_y + 1):\n",
    "            for x in range(self.max_x + 1):\n",
    "                result += self.points.get((x, y), '.')\n",
    "            result += \"\\n\"\n",
    "        return result"
   ],
   "metadata": {
    "collapsed": false,
    "pycharm": {
     "name": "#%%\n"
    }
   }
  },
  {
   "cell_type": "code",
   "execution_count": 37,
   "outputs": [
    {
     "name": "stdout",
     "output_type": "stream",
     "text": [
      "Board: max_x=10, max_y=14\n",
      "...#..#..#.\n",
      "....#......\n",
      "...........\n",
      "#..........\n",
      "...#....#.#\n",
      "...........\n",
      "...........\n",
      "...........\n",
      "...........\n",
      "...........\n",
      ".#....#.##.\n",
      "....#......\n",
      "......#...#\n",
      "#..........\n",
      "#.#........\n",
      "\n",
      "Board: max_x=4, max_y=6\n",
      "#####\n",
      "#...#\n",
      "#...#\n",
      "#...#\n",
      "#####\n",
      ".....\n",
      ".....\n",
      "\n"
     ]
    },
    {
     "data": {
      "text/plain": "16"
     },
     "execution_count": 37,
     "metadata": {},
     "output_type": "execute_result"
    }
   ],
   "source": [
    "points, folds = split_by_type(parse_text(SAMPLE_TEXT))\n",
    "board = Board(points)\n",
    "print(board)\n",
    "board.do_folds(folds)\n",
    "print(board)\n",
    "board.count_points()"
   ],
   "metadata": {
    "collapsed": false,
    "pycharm": {
     "name": "#%%\n"
    }
   }
  },
  {
   "cell_type": "code",
   "execution_count": 38,
   "outputs": [
    {
     "name": "stdout",
     "output_type": "stream",
     "text": [
      "SparseBoard: max_x=10, max_y=14\n",
      "...#..#..#.\n",
      "....#......\n",
      "...........\n",
      "#..........\n",
      "...#....#.#\n",
      "...........\n",
      "...........\n",
      "...........\n",
      "...........\n",
      "...........\n",
      ".#....#.##.\n",
      "....#......\n",
      "......#...#\n",
      "#..........\n",
      "#.#........\n",
      "\n",
      "SparseBoard: max_x=4, max_y=6\n",
      "#####\n",
      "#...#\n",
      "#...#\n",
      "#...#\n",
      "#####\n",
      ".....\n",
      ".....\n",
      "\n"
     ]
    },
    {
     "data": {
      "text/plain": "16"
     },
     "execution_count": 38,
     "metadata": {},
     "output_type": "execute_result"
    }
   ],
   "source": [
    "points, folds = split_by_type(parse_text(SAMPLE_TEXT))\n",
    "board = SparseBoard(points)\n",
    "print(board)\n",
    "board.do_folds(folds)\n",
    "print(board)\n",
    "board.count_points()"
   ],
   "metadata": {
    "collapsed": false,
    "pycharm": {
     "name": "#%%\n"
    }
   }
  },
  {
   "cell_type": "code",
   "execution_count": 39,
   "outputs": [
    {
     "data": {
      "text/plain": "684"
     },
     "execution_count": 39,
     "metadata": {},
     "output_type": "execute_result"
    }
   ],
   "source": [
    "# Just the first fold\n",
    "points, folds = split_by_type(parse_text(read_input()))\n",
    "board = Board(points)\n",
    "board.fold(folds[0])\n",
    "board.count_points()"
   ],
   "metadata": {
    "collapsed": false,
    "pycharm": {
     "name": "#%%\n"
    }
   }
  },
  {
   "cell_type": "code",
   "execution_count": 40,
   "outputs": [
    {
     "data": {
      "text/plain": "684"
     },
     "execution_count": 40,
     "metadata": {},
     "output_type": "execute_result"
    }
   ],
   "source": [
    "# Just the first fold\n",
    "points, folds = split_by_type(parse_text(read_input()))\n",
    "board = SparseBoard(points)\n",
    "board.fold(folds[0])\n",
    "board.count_points()"
   ],
   "metadata": {
    "collapsed": false,
    "pycharm": {
     "name": "#%%\n"
    }
   }
  },
  {
   "cell_type": "code",
   "execution_count": 41,
   "outputs": [
    {
     "name": "stdout",
     "output_type": "stream",
     "text": [
      "Board: max_x=39, max_y=5\n",
      "..##.###..####.###..#.....##..#..#.#..#.\n",
      "...#.#..#....#.#..#.#....#..#.#.#..#..#.\n",
      "...#.#..#...#..###..#....#....##...####.\n",
      "...#.###...#...#..#.#....#.##.#.#..#..#.\n",
      "#..#.#.#..#....#..#.#....#..#.#.#..#..#.\n",
      ".##..#..#.####.###..####..###.#..#.#..#.\n",
      "\n"
     ]
    }
   ],
   "source": [
    "# All folds\n",
    "points, folds = split_by_type(parse_text(read_input()))\n",
    "board = Board(points)\n",
    "board.do_folds(folds)\n",
    "print(board)"
   ],
   "metadata": {
    "collapsed": false,
    "pycharm": {
     "name": "#%%\n"
    }
   }
  },
  {
   "cell_type": "code",
   "execution_count": 42,
   "outputs": [
    {
     "name": "stdout",
     "output_type": "stream",
     "text": [
      "SparseBoard: max_x=39, max_y=5\n",
      "..##.###..####.###..#.....##..#..#.#..#.\n",
      "...#.#..#....#.#..#.#....#..#.#.#..#..#.\n",
      "...#.#..#...#..###..#....#....##...####.\n",
      "...#.###...#...#..#.#....#.##.#.#..#..#.\n",
      "#..#.#.#..#....#..#.#....#..#.#.#..#..#.\n",
      ".##..#..#.####.###..####..###.#..#.#..#.\n",
      "\n"
     ]
    }
   ],
   "source": [
    "# All folds with SparseBoard\n",
    "points, folds = split_by_type(parse_text(read_input()))\n",
    "board = SparseBoard(points)\n",
    "board.do_folds(folds)\n",
    "print(board)"
   ],
   "metadata": {
    "collapsed": false,
    "pycharm": {
     "name": "#%%\n"
    }
   }
  },
  {
   "cell_type": "code",
   "execution_count": 51,
   "outputs": [],
   "source": [
    "# Performance comparison\n",
    "points, folds = split_by_type(parse_text(read_input()))\n",
    "def run(board_type):\n",
    "    board = board_type(points)\n",
    "    board.do_folds(folds)"
   ],
   "metadata": {
    "collapsed": false,
    "pycharm": {
     "name": "#%%\n"
    }
   }
  },
  {
   "cell_type": "code",
   "execution_count": 52,
   "outputs": [
    {
     "name": "stdout",
     "output_type": "stream",
     "text": [
      "621 ms ± 10.8 ms per loop (mean ± std. dev. of 7 runs, 1 loop each)\n"
     ]
    }
   ],
   "source": [
    "%timeit run(Board)"
   ],
   "metadata": {
    "collapsed": false,
    "pycharm": {
     "name": "#%%\n"
    }
   }
  },
  {
   "cell_type": "code",
   "execution_count": 53,
   "outputs": [
    {
     "name": "stdout",
     "output_type": "stream",
     "text": [
      "380 ms ± 102 ms per loop (mean ± std. dev. of 7 runs, 1 loop each)\n"
     ]
    }
   ],
   "source": [
    "%timeit run(SparseBoard)"
   ],
   "metadata": {
    "collapsed": false,
    "pycharm": {
     "name": "#%%\n"
    }
   }
  },
  {
   "cell_type": "code",
   "execution_count": null,
   "outputs": [],
   "source": [],
   "metadata": {
    "collapsed": false,
    "pycharm": {
     "name": "#%%\n"
    }
   }
  }
 ],
 "metadata": {
  "kernelspec": {
   "display_name": "Python 3",
   "language": "python",
   "name": "python3"
  },
  "language_info": {
   "codemirror_mode": {
    "name": "ipython",
    "version": 2
   },
   "file_extension": ".py",
   "mimetype": "text/x-python",
   "name": "python",
   "nbconvert_exporter": "python",
   "pygments_lexer": "ipython2",
   "version": "2.7.6"
  }
 },
 "nbformat": 4,
 "nbformat_minor": 0
}