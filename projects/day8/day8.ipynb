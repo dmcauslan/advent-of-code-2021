{
 "cells": [
  {
   "cell_type": "code",
   "execution_count": 1,
   "metadata": {
    "collapsed": true
   },
   "outputs": [],
   "source": [
    "SAMPLE_TEXT = \"\"\"\n",
    "be cfbegad cbdgef fgaecd cgeb fdcge agebfd fecdb fabcd edb | fdgacbe cefdb cefbgd gcbe\n",
    "edbfga begcd cbg gc gcadebf fbgde acbgfd abcde gfcbed gfec | fcgedb cgb dgebacf gc\n",
    "fgaebd cg bdaec gdafb agbcfd gdcbef bgcad gfac gcb cdgabef | cg cg fdcagb cbg\n",
    "fbegcd cbd adcefb dageb afcb bc aefdc ecdab fgdeca fcdbega | efabcd cedba gadfec cb\n",
    "aecbfdg fbg gf bafeg dbefa fcge gcbea fcaegb dgceab fcbdga | gecf egdcabf bgf bfgea\n",
    "fgeab ca afcebg bdacfeg cfaedg gcfdb baec bfadeg bafgc acf | gebdcfa ecba ca fadegcb\n",
    "dbcfg fgd bdegcaf fgec aegbdf ecdfab fbedc dacgb gdcebf gf | cefg dcbef fcge gbcadfe\n",
    "bdfegc cbegaf gecbf dfcage bdacg ed bedf ced adcbefg gebcd | ed bcgafe cdgba cbgef\n",
    "egadfb cdbfeg cegd fecab cgb gbdefca cg fgcdab egfdb bfceg | gbdfcae bgc cg cgb\n",
    "gcafb gcf dcaebfg ecagb gf abcdeg gaef cafbge fdbac fegbdc | fgae cfgab fg bagce\n",
    "\"\"\""
   ]
  },
  {
   "cell_type": "code",
   "execution_count": 14,
   "outputs": [],
   "source": [
    "from collections import defaultdict"
   ],
   "metadata": {
    "collapsed": false,
    "pycharm": {
     "name": "#%%\n"
    }
   }
  },
  {
   "cell_type": "code",
   "execution_count": 2,
   "outputs": [],
   "source": [
    "def tokenize_line(line):\n",
    "    first, second = line.split(\" | \")\n",
    "    return first.split(\" \"), second.split(\" \")\n",
    "\n",
    "def parse_text(raw_text):\n",
    "    return [tokenize_line(l) for l in raw_text.split(\"\\n\") if l]\n",
    "\n",
    "def read_input():\n",
    "    with open(\"input.txt\", \"rt\") as f:\n",
    "        return f.read()"
   ],
   "metadata": {
    "collapsed": false,
    "pycharm": {
     "name": "#%%\n"
    }
   }
  },
  {
   "cell_type": "code",
   "execution_count": 9,
   "outputs": [],
   "source": [
    "def count_special_characters(lines):\n",
    "    # 1 - 2 segments\n",
    "    # 7 - 3 segments\n",
    "    # 4 - 4 segments\n",
    "    # 8 - 7 segments\n",
    "    count = 0\n",
    "    for _, second in lines:\n",
    "        count += len([x for x in second if len(x) in (2, 3, 4, 7)])\n",
    "    return count"
   ],
   "metadata": {
    "collapsed": false,
    "pycharm": {
     "name": "#%%\n"
    }
   }
  },
  {
   "cell_type": "code",
   "execution_count": 5,
   "outputs": [
    {
     "data": {
      "text/plain": "26"
     },
     "execution_count": 5,
     "metadata": {},
     "output_type": "execute_result"
    }
   ],
   "source": [
    "count_special_characters(parse_text(SAMPLE_TEXT))"
   ],
   "metadata": {
    "collapsed": false,
    "pycharm": {
     "name": "#%%\n"
    }
   }
  },
  {
   "cell_type": "code",
   "execution_count": 6,
   "outputs": [
    {
     "data": {
      "text/plain": "530"
     },
     "execution_count": 6,
     "metadata": {},
     "output_type": "execute_result"
    }
   ],
   "source": [
    "count_special_characters(parse_text(read_input()))"
   ],
   "metadata": {
    "collapsed": false,
    "pycharm": {
     "name": "#%%\n"
    }
   }
  },
  {
   "cell_type": "code",
   "execution_count": 82,
   "outputs": [],
   "source": [
    "def decode_segments(line):\n",
    "    \"\"\"\n",
    "    Segment numbers:\n",
    "    - 0 - top\n",
    "    - 1 - top-left\n",
    "    - 2 - top-right\n",
    "    - 3 - middle\n",
    "    - 4 - bottom-left\n",
    "    - 5 - bottom-right\n",
    "    - 6 - bottom\n",
    "\n",
    "    Numbers\n",
    "    1 - 2 segments\n",
    "    7 - 3 segments\n",
    "    4 - 4 segments\n",
    "    2, 3, 5 - 5 segments\n",
    "    0, 6, 9- 6 segments\n",
    "    8 - 7 segments\n",
    "    \"\"\"\n",
    "    segments = [None] * 7\n",
    "    length_map = defaultdict(list)\n",
    "    for group in line[0]:\n",
    "        length_map[len(group)].append(group)\n",
    "\n",
    "    one = length_map[2][0]\n",
    "    seven = length_map[3][0]\n",
    "    four = length_map[4][0]\n",
    "    two_three_five = length_map[5]\n",
    "    three = [c for c in two_three_five if set(c) & set(one) == set(one)][0]\n",
    "\n",
    "    segments[0] = set(seven) - set(one)\n",
    "    segments[3] = (set(three) - set(one)) & set(four)\n",
    "    segments[6] = set(three) - set(four) - segments[0]\n",
    "    segments[1] = set(four) - set(one) - segments[3]\n",
    "\n",
    "    five = [c for c in two_three_five if set(c) & segments[1] == segments[1]][0]\n",
    "\n",
    "    segments[5] = set(five) & set(one)\n",
    "    segments[2] = set(one) - segments[5]\n",
    "\n",
    "    two = [c for c in two_three_five if c not in (three, five)][0]\n",
    "\n",
    "    segments[4] = set(two) - set(three)\n",
    "    return [s.pop() for s in segments]\n",
    "\n",
    "def calc_digit(characters, segment_mapping):\n",
    "    segment_map = {\n",
    "        (1, 1, 1, 0, 1, 1, 1): \"0\",\n",
    "        (0, 0, 1, 0, 0, 1, 0): \"1\",\n",
    "        (1, 0, 1, 1, 1, 0, 1): \"2\",\n",
    "        (1, 0, 1, 1, 0, 1, 1): \"3\",\n",
    "        (0, 1, 1, 1, 0, 1, 0): \"4\",\n",
    "        (1, 1, 0, 1, 0, 1, 1): \"5\",\n",
    "        (1, 1, 0, 1, 1, 1, 1): \"6\",\n",
    "        (1, 0, 1, 0, 0, 1, 0): \"7\",\n",
    "        (1, 1, 1, 1, 1, 1, 1): \"8\",\n",
    "        (1, 1, 1, 1, 0, 1, 1): \"9\",\n",
    "    }\n",
    "    segments = tuple(1 if s in characters else 0 for s in segment_mapping)\n",
    "    return segment_map[segments]\n",
    "\n",
    "\n",
    "def calc_digits(line, segment_mapping):\n",
    "    return \"\".join(calc_digit(c, segment_mapping) for c in line[1])\n",
    "\n",
    "\n",
    "def calc_value_of_line(line):\n",
    "    mapping = decode_segments(line)\n",
    "    result = int(calc_digits(line, mapping))\n",
    "    return result\n",
    "\n",
    "def sum_lines(lines):\n",
    "    return sum(calc_value_of_line(l) for l in lines)"
   ],
   "metadata": {
    "collapsed": false,
    "pycharm": {
     "name": "#%%\n"
    }
   }
  },
  {
   "cell_type": "code",
   "execution_count": 83,
   "outputs": [
    {
     "data": {
      "text/plain": "61229"
     },
     "execution_count": 83,
     "metadata": {},
     "output_type": "execute_result"
    }
   ],
   "source": [
    "sum_lines(parse_text(SAMPLE_TEXT))"
   ],
   "metadata": {
    "collapsed": false,
    "pycharm": {
     "name": "#%%\n"
    }
   }
  },
  {
   "cell_type": "code",
   "execution_count": 84,
   "outputs": [
    {
     "data": {
      "text/plain": "1051087"
     },
     "execution_count": 84,
     "metadata": {},
     "output_type": "execute_result"
    }
   ],
   "source": [
    "sum_lines(parse_text(read_input()))"
   ],
   "metadata": {
    "collapsed": false,
    "pycharm": {
     "name": "#%%\n"
    }
   }
  },
  {
   "cell_type": "code",
   "execution_count": null,
   "outputs": [],
   "source": [],
   "metadata": {
    "collapsed": false,
    "pycharm": {
     "name": "#%%\n"
    }
   }
  }
 ],
 "metadata": {
  "kernelspec": {
   "display_name": "Python 3",
   "language": "python",
   "name": "python3"
  },
  "language_info": {
   "codemirror_mode": {
    "name": "ipython",
    "version": 2
   },
   "file_extension": ".py",
   "mimetype": "text/x-python",
   "name": "python",
   "nbconvert_exporter": "python",
   "pygments_lexer": "ipython2",
   "version": "2.7.6"
  }
 },
 "nbformat": 4,
 "nbformat_minor": 0
}