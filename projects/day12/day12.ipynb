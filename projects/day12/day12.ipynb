{
 "cells": [
  {
   "cell_type": "code",
   "execution_count": 1,
   "metadata": {
    "collapsed": true
   },
   "outputs": [],
   "source": [
    "SAMPLE_TEXT_1 = \"\"\"\n",
    "start-A\n",
    "start-b\n",
    "A-c\n",
    "A-b\n",
    "b-d\n",
    "A-end\n",
    "b-end\n",
    "\"\"\"\n",
    "\n",
    "SAMPLE_TEXT_2 = \"\"\"\n",
    "dc-end\n",
    "HN-start\n",
    "start-kj\n",
    "dc-start\n",
    "dc-HN\n",
    "LN-dc\n",
    "HN-end\n",
    "kj-sa\n",
    "kj-HN\n",
    "kj-dc\n",
    "\"\"\"\n",
    "\n",
    "SAMPLE_TEXT_3 = \"\"\"\n",
    "fs-end\n",
    "he-DX\n",
    "fs-he\n",
    "start-DX\n",
    "pj-DX\n",
    "end-zg\n",
    "zg-sl\n",
    "zg-pj\n",
    "pj-he\n",
    "RW-he\n",
    "fs-DX\n",
    "pj-RW\n",
    "zg-RW\n",
    "start-pj\n",
    "he-WI\n",
    "zg-he\n",
    "pj-fs\n",
    "start-RW\n",
    "\"\"\""
   ]
  },
  {
   "cell_type": "code",
   "execution_count": 2,
   "outputs": [],
   "source": [
    "def tokenize_line(line):\n",
    "    return line.split('-')\n",
    "\n",
    "\n",
    "def parse_text(raw_text):\n",
    "    return [tokenize_line(l) for l in raw_text.split(\"\\n\") if l]\n",
    "\n",
    "\n",
    "def read_input():\n",
    "    with open(\"input.txt\", \"rt\") as f:\n",
    "        return f.read()"
   ],
   "metadata": {
    "collapsed": false,
    "pycharm": {
     "name": "#%%\n"
    }
   }
  },
  {
   "cell_type": "code",
   "execution_count": 3,
   "outputs": [],
   "source": [
    "from typing import List, Optional\n",
    "from dataclasses import dataclass\n",
    "\n",
    "@dataclass\n",
    "class Node:\n",
    "    name: str\n",
    "    is_big: bool\n",
    "    is_start: bool\n",
    "    is_end: bool\n",
    "    connections: List[\"Node\"]\n",
    "\n",
    "    @staticmethod\n",
    "    def create(name: str):\n",
    "        return Node(name, name[0].isupper(), name == \"start\", name == \"end\", [])\n",
    "\n",
    "    def connect(self, node: \"Node\"):\n",
    "        if node not in self.connections:\n",
    "            # print(f\"{self.name} -> {node.name}\")\n",
    "            self.connections.append(node)\n",
    "            node.connect(self)\n",
    "\n",
    "    def __str__(self):\n",
    "        return f\"Node(name={self.name}, is_big={self.is_big}, is_start={self.is_start}, is_end={self.is_end}, connections={[n.name for n in self.connections]})\"\n",
    "\n",
    "@dataclass\n",
    "class Path:\n",
    "    sequence: List[Node]\n",
    "\n",
    "    def can_add(self, node: Node):\n",
    "        if node.is_big:\n",
    "            return True\n",
    "        else:\n",
    "            return node not in self.sequence\n",
    "\n",
    "    def __add__(self, node: Node):\n",
    "        return Path(self.sequence[:] + [node])\n",
    "\n",
    "    def __str__(self):\n",
    "        return f\"{[n.name for n in self.sequence]}\"\n",
    "\n",
    "@dataclass\n",
    "class MoreComplexPath(Path):\n",
    "    has_visited_small_cave_twice: bool\n",
    "\n",
    "    def can_add(self, node: Node):\n",
    "        if node.is_start:\n",
    "            return False\n",
    "        if node.is_big:\n",
    "            return True\n",
    "        else:\n",
    "            if node not in self.sequence:\n",
    "                return True\n",
    "            else:\n",
    "                if not self.has_visited_small_cave_twice:\n",
    "                    return True\n",
    "                else:\n",
    "                    return False\n",
    "\n",
    "    def __add__(self, node: Node):\n",
    "        in_before = node in self.sequence\n",
    "        if not self.has_visited_small_cave_twice and in_before and not node.is_big:\n",
    "            return MoreComplexPath(self.sequence[:] + [node], True)\n",
    "        return MoreComplexPath(self.sequence[:] + [node], self.has_visited_small_cave_twice)\n",
    "\n",
    "class Graph:\n",
    "    def __init__(self, lines):\n",
    "        self.nodes = []\n",
    "        for first_name, second_name in lines:\n",
    "            first = self.find_or_create_node(first_name)\n",
    "            second = self.find_or_create_node(second_name)\n",
    "            first.connect(second)\n",
    "\n",
    "    def find_or_create_node(self, name):\n",
    "        node = self.find_node(name)\n",
    "        if node is None:\n",
    "            node = Node.create(name)\n",
    "            self.nodes.append(node)\n",
    "        return node\n",
    "\n",
    "    def find_node(self, name) -> Optional[Node]:\n",
    "        result = [n for n in self.nodes if n.name == name]\n",
    "        if len(result) == 0:\n",
    "            return None\n",
    "        elif len(result) == 1:\n",
    "            return result[0]\n",
    "        else:\n",
    "            raise ValueError(f\"More than one node named {name}: {result}\")\n",
    "\n",
    "    def start(self) -> Node:\n",
    "        result = self.find_node(\"start\")\n",
    "        if result is None:\n",
    "            raise ValueError(\"No start node\")\n",
    "        return result"
   ],
   "metadata": {
    "collapsed": false,
    "pycharm": {
     "name": "#%%\n"
    }
   }
  },
  {
   "cell_type": "code",
   "execution_count": 4,
   "outputs": [],
   "source": [
    "def walk(path: Path, node: Node):\n",
    "    # print(f\"Walking {path} {node}\")\n",
    "    if node.is_end:\n",
    "        # print(f\"Found route: {path}\")\n",
    "        return [path]\n",
    "\n",
    "    result = []\n",
    "    for c in node.connections:\n",
    "        if path.can_add(c):\n",
    "            result.extend(walk(path + c, c))\n",
    "    return result\n",
    "\n",
    "def find_paths(graph: Graph):\n",
    "    result = []\n",
    "    start = graph.start()\n",
    "    path = Path([start])\n",
    "    for c in start.connections:\n",
    "        result.extend(walk(path + c, c))\n",
    "    return result\n",
    "\n",
    "def find_complex_paths(graph: Graph):\n",
    "    result = []\n",
    "    start = graph.start()\n",
    "    path = MoreComplexPath([start], False)\n",
    "    for c in start.connections:\n",
    "        result.extend(walk(path + c, c))\n",
    "    return result"
   ],
   "metadata": {
    "collapsed": false,
    "pycharm": {
     "name": "#%%\n"
    }
   }
  },
  {
   "cell_type": "code",
   "execution_count": 5,
   "outputs": [
    {
     "name": "stdout",
     "output_type": "stream",
     "text": [
      "['start', 'A', 'c', 'A', 'b', 'A', 'end']\n",
      "['start', 'A', 'c', 'A', 'b', 'end']\n",
      "['start', 'A', 'c', 'A', 'end']\n",
      "['start', 'A', 'b', 'A', 'c', 'A', 'end']\n",
      "['start', 'A', 'b', 'A', 'end']\n",
      "['start', 'A', 'b', 'end']\n",
      "['start', 'A', 'end']\n",
      "['start', 'b', 'A', 'c', 'A', 'end']\n",
      "['start', 'b', 'A', 'end']\n",
      "['start', 'b', 'end']\n"
     ]
    },
    {
     "data": {
      "text/plain": "10"
     },
     "execution_count": 5,
     "metadata": {},
     "output_type": "execute_result"
    }
   ],
   "source": [
    "paths = find_paths(Graph(parse_text(SAMPLE_TEXT_1)))\n",
    "for p in paths:\n",
    "    print(p)\n",
    "len(paths)"
   ],
   "metadata": {
    "collapsed": false,
    "pycharm": {
     "name": "#%%\n"
    }
   }
  },
  {
   "cell_type": "code",
   "execution_count": 6,
   "outputs": [
    {
     "data": {
      "text/plain": "19"
     },
     "execution_count": 6,
     "metadata": {},
     "output_type": "execute_result"
    }
   ],
   "source": [
    "len(find_paths(Graph(parse_text(SAMPLE_TEXT_2))))"
   ],
   "metadata": {
    "collapsed": false,
    "pycharm": {
     "name": "#%%\n"
    }
   }
  },
  {
   "cell_type": "code",
   "execution_count": 7,
   "outputs": [
    {
     "data": {
      "text/plain": "226"
     },
     "execution_count": 7,
     "metadata": {},
     "output_type": "execute_result"
    }
   ],
   "source": [
    "len(find_paths(Graph(parse_text(SAMPLE_TEXT_3))))"
   ],
   "metadata": {
    "collapsed": false,
    "pycharm": {
     "name": "#%%\n"
    }
   }
  },
  {
   "cell_type": "code",
   "execution_count": 8,
   "outputs": [
    {
     "data": {
      "text/plain": "5457"
     },
     "execution_count": 8,
     "metadata": {},
     "output_type": "execute_result"
    }
   ],
   "source": [
    "len(find_paths(Graph(parse_text(read_input()))))"
   ],
   "metadata": {
    "collapsed": false,
    "pycharm": {
     "name": "#%%\n"
    }
   }
  },
  {
   "cell_type": "code",
   "execution_count": 9,
   "outputs": [
    {
     "data": {
      "text/plain": "36"
     },
     "execution_count": 9,
     "metadata": {},
     "output_type": "execute_result"
    }
   ],
   "source": [
    "len(find_complex_paths(Graph(parse_text(SAMPLE_TEXT_1))))"
   ],
   "metadata": {
    "collapsed": false,
    "pycharm": {
     "name": "#%%\n"
    }
   }
  },
  {
   "cell_type": "code",
   "execution_count": 10,
   "outputs": [
    {
     "data": {
      "text/plain": "103"
     },
     "execution_count": 10,
     "metadata": {},
     "output_type": "execute_result"
    }
   ],
   "source": [
    "len(find_complex_paths(Graph(parse_text(SAMPLE_TEXT_2))))"
   ],
   "metadata": {
    "collapsed": false,
    "pycharm": {
     "name": "#%%\n"
    }
   }
  },
  {
   "cell_type": "code",
   "execution_count": 11,
   "outputs": [
    {
     "data": {
      "text/plain": "3509"
     },
     "execution_count": 11,
     "metadata": {},
     "output_type": "execute_result"
    }
   ],
   "source": [
    "len(find_complex_paths(Graph(parse_text(SAMPLE_TEXT_3))))"
   ],
   "metadata": {
    "collapsed": false,
    "pycharm": {
     "name": "#%%\n"
    }
   }
  },
  {
   "cell_type": "code",
   "execution_count": 12,
   "outputs": [
    {
     "data": {
      "text/plain": "128506"
     },
     "execution_count": 12,
     "metadata": {},
     "output_type": "execute_result"
    }
   ],
   "source": [
    "len(find_complex_paths(Graph(parse_text(read_input()))))"
   ],
   "metadata": {
    "collapsed": false,
    "pycharm": {
     "name": "#%%\n"
    }
   }
  },
  {
   "cell_type": "code",
   "execution_count": null,
   "outputs": [],
   "source": [],
   "metadata": {
    "collapsed": false,
    "pycharm": {
     "name": "#%%\n"
    }
   }
  }
 ],
 "metadata": {
  "kernelspec": {
   "display_name": "Python 3",
   "language": "python",
   "name": "python3"
  },
  "language_info": {
   "codemirror_mode": {
    "name": "ipython",
    "version": 2
   },
   "file_extension": ".py",
   "mimetype": "text/x-python",
   "name": "python",
   "nbconvert_exporter": "python",
   "pygments_lexer": "ipython2",
   "version": "2.7.6"
  }
 },
 "nbformat": 4,
 "nbformat_minor": 0
}