{
 "cells": [
  {
   "cell_type": "code",
   "execution_count": 1,
   "metadata": {
    "collapsed": true
   },
   "outputs": [],
   "source": [
    "HEX_EXPANSION = {\n",
    "    '0': '0000',\n",
    "    '1': '0001',\n",
    "\t'2': '0010',\n",
    "\t'3': '0011',\n",
    "\t'4': '0100',\n",
    "\t'5': '0101',\n",
    "\t'6': '0110',\n",
    "\t'7': '0111',\n",
    "\t'8': '1000',\n",
    "\t'9': '1001',\n",
    "\t'A': '1010',\n",
    "\t'B': '1011',\n",
    "\t'C': '1100',\n",
    "\t'D': '1101',\n",
    "\t'E': '1110',\n",
    "\t'F': '1111',\n",
    "}"
   ]
  },
  {
   "cell_type": "code",
   "execution_count": 128,
   "outputs": [],
   "source": [
    "def read_input():\n",
    "    with open(\"input.txt\", \"rt\") as f:\n",
    "        return f.read()"
   ],
   "metadata": {
    "collapsed": false,
    "pycharm": {
     "name": "#%%\n"
    }
   }
  },
  {
   "cell_type": "code",
   "execution_count": 37,
   "outputs": [],
   "source": [
    "\n",
    "from dataclasses import dataclass\n",
    "from typing import List"
   ],
   "metadata": {
    "collapsed": false,
    "pycharm": {
     "name": "#%%\n"
    }
   }
  },
  {
   "cell_type": "code",
   "execution_count": 120,
   "outputs": [],
   "source": [
    "@dataclass\n",
    "class Packet:\n",
    "\tversion: int\n",
    "\ttype_id: int\n",
    "\n",
    "@dataclass\n",
    "class LiteralValue(Packet):\n",
    "\tvalue: int\n",
    "\n",
    "@dataclass\n",
    "class OperatorValue(Packet):\n",
    "\tsub_packets: List[Packet]\n",
    "\n",
    "def to_int(chars):\n",
    "\tif isinstance(chars, list):\n",
    "\t\treturn int(''.join(chars), 2)\n",
    "\telse:\n",
    "\t\treturn int(chars, 2)\n",
    "\n",
    "def peek(l, n=1):\n",
    "\treturn l[:n]\n",
    "\n",
    "def consume(l, n=1):\n",
    "\tresult = l[:n]\n",
    "\tfor _ in range(n):\n",
    "\t\tl.pop(0)\n",
    "\treturn result\n",
    "\n",
    "def expand_hex(chars) -> List[str]:\n",
    "\tresult = []\n",
    "\tfor c in chars:\n",
    "\t\tresult += list(HEX_EXPANSION[c])\n",
    "\treturn result\n",
    "\n",
    "def parse_literal(version, type_id, buf: List[str]) -> LiteralValue:\n",
    "\tresult = []\n",
    "\twhile True:\n",
    "\t\tchars = consume(buf, 5)\n",
    "\t\tresult += chars[1:]\n",
    "\t\tif chars[0] == '0':\n",
    "\t\t\tbreak\n",
    "\treturn LiteralValue(version, type_id, to_int(result))\n",
    "\n",
    "def parse_total_length_operator(version, type_id, buf: List[str]) -> OperatorValue:\n",
    "\tbytes_read = 7\n",
    "\ttotal_length = to_int(consume(buf, 15))\n",
    "\tbytes_read += 15\n",
    "\tbuf_segment = consume(buf, total_length)\n",
    "\tbytes_read += total_length\n",
    "\tpackets = []\n",
    "\twhile buf_segment:\n",
    "\t\tpackets.append(parse_packet(buf_segment))\n",
    "\treturn OperatorValue(version, type_id, packets)\n",
    "\n",
    "def parse_total_count_operator(version, type_id, buf: List[str]) -> OperatorValue:\n",
    "\ttotal_length = to_int(consume(buf, 11))\n",
    "\tpackets = []\n",
    "\tfor _ in range(total_length):\n",
    "\t\tpackets.append(parse_packet(buf))\n",
    "\treturn OperatorValue(version, type_id, packets)\n",
    "\n",
    "def parse_operator(version, type_id, buf: List[str]) -> OperatorValue:\n",
    "\tlength_type = to_int(consume(buf, 1))\n",
    "\tif length_type == 0:\n",
    "\t\treturn parse_total_length_operator(version, type_id, buf)\n",
    "\telse:\n",
    "\t\treturn parse_total_count_operator(version, type_id, buf)\n",
    "\n",
    "\n",
    "def parse_packet(buf: List[str]):\n",
    "\t# print(''.join(buf))\n",
    "\tversion = to_int(consume(buf, 3))\n",
    "\ttype_id = to_int(consume(buf, 3))\n",
    "\tif type_id == 4:\n",
    "\t\treturn parse_literal(version, type_id, buf)\n",
    "\telse:\n",
    "\t\treturn parse_operator(version, type_id, buf)\n",
    "\n",
    "def sum_versions(packet: Packet):\n",
    "\tif isinstance(packet, LiteralValue):\n",
    "\t\treturn packet.version\n",
    "\telif isinstance(packet, OperatorValue):\n",
    "\t\treturn packet.version + sum(sum_versions(p) for p in packet.sub_packets)\n",
    "\telse:\n",
    "\t\traise ValueError(f\"Invalid packet {packet}\")"
   ],
   "metadata": {
    "collapsed": false,
    "pycharm": {
     "name": "#%%\n"
    }
   }
  },
  {
   "cell_type": "code",
   "execution_count": 121,
   "outputs": [
    {
     "data": {
      "text/plain": "LiteralValue(version=6, type_id=4, value=2021)"
     },
     "execution_count": 121,
     "metadata": {},
     "output_type": "execute_result"
    }
   ],
   "source": [
    "parse_packet(expand_hex('D2FE28'))"
   ],
   "metadata": {
    "collapsed": false,
    "pycharm": {
     "name": "#%%\n"
    }
   }
  },
  {
   "cell_type": "code",
   "execution_count": 122,
   "outputs": [
    {
     "data": {
      "text/plain": "OperatorValue(version=1, type_id=6, sub_packets=[LiteralValue(version=6, type_id=4, value=10), LiteralValue(version=2, type_id=4, value=20)])"
     },
     "execution_count": 122,
     "metadata": {},
     "output_type": "execute_result"
    }
   ],
   "source": [
    "parse_packet(expand_hex('38006F45291200'))"
   ],
   "metadata": {
    "collapsed": false,
    "pycharm": {
     "name": "#%%\n"
    }
   }
  },
  {
   "cell_type": "code",
   "execution_count": 123,
   "outputs": [
    {
     "data": {
      "text/plain": "OperatorValue(version=7, type_id=3, sub_packets=[LiteralValue(version=2, type_id=4, value=1), LiteralValue(version=4, type_id=4, value=2), LiteralValue(version=1, type_id=4, value=3)])"
     },
     "execution_count": 123,
     "metadata": {},
     "output_type": "execute_result"
    }
   ],
   "source": [
    "parse_packet(expand_hex('EE00D40C823060'))"
   ],
   "metadata": {
    "collapsed": false,
    "pycharm": {
     "name": "#%%\n"
    }
   }
  },
  {
   "cell_type": "code",
   "execution_count": 124,
   "outputs": [
    {
     "data": {
      "text/plain": "16"
     },
     "execution_count": 124,
     "metadata": {},
     "output_type": "execute_result"
    }
   ],
   "source": [
    "sum_versions(parse_packet(expand_hex('8A004A801A8002F478')))"
   ],
   "metadata": {
    "collapsed": false,
    "pycharm": {
     "name": "#%%\n"
    }
   }
  },
  {
   "cell_type": "code",
   "execution_count": 125,
   "outputs": [
    {
     "data": {
      "text/plain": "12"
     },
     "execution_count": 125,
     "metadata": {},
     "output_type": "execute_result"
    }
   ],
   "source": [
    "sum_versions(parse_packet(expand_hex('620080001611562C8802118E34')))"
   ],
   "metadata": {
    "collapsed": false,
    "pycharm": {
     "name": "#%%\n"
    }
   }
  },
  {
   "cell_type": "code",
   "execution_count": 126,
   "outputs": [
    {
     "data": {
      "text/plain": "23"
     },
     "execution_count": 126,
     "metadata": {},
     "output_type": "execute_result"
    }
   ],
   "source": [
    "sum_versions(parse_packet(expand_hex('C0015000016115A2E0802F182340')))"
   ],
   "metadata": {
    "collapsed": false,
    "pycharm": {
     "name": "#%%\n"
    }
   }
  },
  {
   "cell_type": "code",
   "execution_count": 127,
   "outputs": [
    {
     "data": {
      "text/plain": "31"
     },
     "execution_count": 127,
     "metadata": {},
     "output_type": "execute_result"
    }
   ],
   "source": [
    "sum_versions(parse_packet(expand_hex('A0016C880162017C3686B18A3D4780')))"
   ],
   "metadata": {
    "collapsed": false,
    "pycharm": {
     "name": "#%%\n"
    }
   }
  },
  {
   "cell_type": "code",
   "execution_count": 130,
   "outputs": [
    {
     "data": {
      "text/plain": "904"
     },
     "execution_count": 130,
     "metadata": {},
     "output_type": "execute_result"
    }
   ],
   "source": [
    "sum_versions(parse_packet(expand_hex(read_input())))"
   ],
   "metadata": {
    "collapsed": false,
    "pycharm": {
     "name": "#%%\n"
    }
   }
  },
  {
   "cell_type": "code",
   "execution_count": 135,
   "outputs": [],
   "source": [
    "def sum_packet(packet: OperatorValue) -> int:\n",
    "\treturn sum(calculate_value(p) for p in packet.sub_packets)\n",
    "\n",
    "def product_packet(packet: OperatorValue) -> int:\n",
    "\tresult = 1\n",
    "\tfor p in packet.sub_packets:\n",
    "\t\tresult *= calculate_value(p)\n",
    "\treturn result\n",
    "\n",
    "def minimum_packet(packet: OperatorValue) -> int:\n",
    "\treturn min(calculate_value(p) for p in packet.sub_packets)\n",
    "\n",
    "def maximum_packet(packet: OperatorValue) -> int:\n",
    "\treturn max(calculate_value(p) for p in packet.sub_packets)\n",
    "\n",
    "def gt_packet(packet: OperatorValue) -> int:\n",
    "\treturn int(calculate_value(packet.sub_packets[0]) > calculate_value(packet.sub_packets[1]))\n",
    "\n",
    "def lt_packet(packet: OperatorValue) -> int:\n",
    "\treturn int(calculate_value(packet.sub_packets[0]) < calculate_value(packet.sub_packets[1]))\n",
    "\n",
    "def eq_packet(packet: OperatorValue) -> int:\n",
    "\treturn int(calculate_value(packet.sub_packets[0]) == calculate_value(packet.sub_packets[1]))\n",
    "\n",
    "DISPATCH = {\n",
    "\t0: sum_packet,\n",
    "\t1: product_packet,\n",
    "\t2: minimum_packet,\n",
    "\t3: maximum_packet,\n",
    "\t5: gt_packet,\n",
    "\t6: lt_packet,\n",
    "\t7: eq_packet,\n",
    "}\n",
    "\n",
    "def calculate_value(packet: Packet) -> int:\n",
    "\tif isinstance(packet, LiteralValue):\n",
    "\t\treturn packet.value\n",
    "\telif isinstance(packet, OperatorValue):\n",
    "\t\treturn DISPATCH[packet.type_id](packet)\n",
    "\telse:\n",
    "\t\traise ValueError(f\"Invalid packet {packet}\")"
   ],
   "metadata": {
    "collapsed": false,
    "pycharm": {
     "name": "#%%\n"
    }
   }
  },
  {
   "cell_type": "code",
   "execution_count": 136,
   "outputs": [
    {
     "data": {
      "text/plain": "3"
     },
     "execution_count": 136,
     "metadata": {},
     "output_type": "execute_result"
    }
   ],
   "source": [
    "calculate_value(parse_packet(expand_hex('C200B40A82')))"
   ],
   "metadata": {
    "collapsed": false,
    "pycharm": {
     "name": "#%%\n"
    }
   }
  },
  {
   "cell_type": "code",
   "execution_count": 137,
   "outputs": [
    {
     "data": {
      "text/plain": "54"
     },
     "execution_count": 137,
     "metadata": {},
     "output_type": "execute_result"
    }
   ],
   "source": [
    "calculate_value(parse_packet(expand_hex('04005AC33890')))"
   ],
   "metadata": {
    "collapsed": false,
    "pycharm": {
     "name": "#%%\n"
    }
   }
  },
  {
   "cell_type": "code",
   "execution_count": 138,
   "outputs": [
    {
     "data": {
      "text/plain": "7"
     },
     "execution_count": 138,
     "metadata": {},
     "output_type": "execute_result"
    }
   ],
   "source": [
    "calculate_value(parse_packet(expand_hex('880086C3E88112')))"
   ],
   "metadata": {
    "collapsed": false,
    "pycharm": {
     "name": "#%%\n"
    }
   }
  },
  {
   "cell_type": "code",
   "execution_count": 139,
   "outputs": [
    {
     "data": {
      "text/plain": "9"
     },
     "execution_count": 139,
     "metadata": {},
     "output_type": "execute_result"
    }
   ],
   "source": [
    "calculate_value(parse_packet(expand_hex('CE00C43D881120')))"
   ],
   "metadata": {
    "collapsed": false,
    "pycharm": {
     "name": "#%%\n"
    }
   }
  },
  {
   "cell_type": "code",
   "execution_count": 140,
   "outputs": [
    {
     "data": {
      "text/plain": "1"
     },
     "execution_count": 140,
     "metadata": {},
     "output_type": "execute_result"
    }
   ],
   "source": [
    "calculate_value(parse_packet(expand_hex('D8005AC2A8F0')))"
   ],
   "metadata": {
    "collapsed": false,
    "pycharm": {
     "name": "#%%\n"
    }
   }
  },
  {
   "cell_type": "code",
   "execution_count": 141,
   "outputs": [
    {
     "data": {
      "text/plain": "0"
     },
     "execution_count": 141,
     "metadata": {},
     "output_type": "execute_result"
    }
   ],
   "source": [
    "calculate_value(parse_packet(expand_hex('F600BC2D8F')))"
   ],
   "metadata": {
    "collapsed": false,
    "pycharm": {
     "name": "#%%\n"
    }
   }
  },
  {
   "cell_type": "code",
   "execution_count": 142,
   "outputs": [
    {
     "data": {
      "text/plain": "0"
     },
     "execution_count": 142,
     "metadata": {},
     "output_type": "execute_result"
    }
   ],
   "source": [
    "calculate_value(parse_packet(expand_hex('9C005AC2F8F0')))"
   ],
   "metadata": {
    "collapsed": false,
    "pycharm": {
     "name": "#%%\n"
    }
   }
  },
  {
   "cell_type": "code",
   "execution_count": 143,
   "outputs": [
    {
     "data": {
      "text/plain": "1"
     },
     "execution_count": 143,
     "metadata": {},
     "output_type": "execute_result"
    }
   ],
   "source": [
    "calculate_value(parse_packet(expand_hex('9C0141080250320F1802104A08')))"
   ],
   "metadata": {
    "collapsed": false,
    "pycharm": {
     "name": "#%%\n"
    }
   }
  },
  {
   "cell_type": "code",
   "execution_count": 144,
   "outputs": [
    {
     "data": {
      "text/plain": "200476472872"
     },
     "execution_count": 144,
     "metadata": {},
     "output_type": "execute_result"
    }
   ],
   "source": [
    "calculate_value(parse_packet(expand_hex(read_input())))"
   ],
   "metadata": {
    "collapsed": false,
    "pycharm": {
     "name": "#%%\n"
    }
   }
  },
  {
   "cell_type": "code",
   "execution_count": null,
   "outputs": [],
   "source": [],
   "metadata": {
    "collapsed": false,
    "pycharm": {
     "name": "#%%\n"
    }
   }
  }
 ],
 "metadata": {
  "kernelspec": {
   "display_name": "Python 3",
   "language": "python",
   "name": "python3"
  },
  "language_info": {
   "codemirror_mode": {
    "name": "ipython",
    "version": 2
   },
   "file_extension": ".py",
   "mimetype": "text/x-python",
   "name": "python",
   "nbconvert_exporter": "python",
   "pygments_lexer": "ipython2",
   "version": "2.7.6"
  }
 },
 "nbformat": 4,
 "nbformat_minor": 0
}