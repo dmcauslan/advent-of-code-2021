{
 "cells": [
  {
   "cell_type": "code",
   "execution_count": 4,
   "metadata": {
    "collapsed": true
   },
   "outputs": [],
   "source": [
    "SAMPLE_TEXT = \"\"\"\n",
    "5483143223\n",
    "2745854711\n",
    "5264556173\n",
    "6141336146\n",
    "6357385478\n",
    "4167524645\n",
    "2176841721\n",
    "6882881134\n",
    "4846848554\n",
    "5283751526\n",
    "\"\"\""
   ]
  },
  {
   "cell_type": "code",
   "execution_count": 5,
   "outputs": [],
   "source": [
    "def tokenize_line(line):\n",
    "    return [int(i) for i in list(line)]\n",
    "\n",
    "\n",
    "def parse_text(raw_text):\n",
    "    return [tokenize_line(l) for l in raw_text.split(\"\\n\") if l]\n",
    "\n",
    "\n",
    "def read_input():\n",
    "    with open(\"input.txt\", \"rt\") as f:\n",
    "        return f.read()"
   ],
   "metadata": {
    "collapsed": false,
    "pycharm": {
     "name": "#%%\n"
    }
   }
  },
  {
   "cell_type": "code",
   "execution_count": 6,
   "outputs": [
    {
     "data": {
      "text/plain": "[[5, 4, 8, 3, 1, 4, 3, 2, 2, 3],\n [2, 7, 4, 5, 8, 5, 4, 7, 1, 1],\n [5, 2, 6, 4, 5, 5, 6, 1, 7, 3],\n [6, 1, 4, 1, 3, 3, 6, 1, 4, 6],\n [6, 3, 5, 7, 3, 8, 5, 4, 7, 8],\n [4, 1, 6, 7, 5, 2, 4, 6, 4, 5],\n [2, 1, 7, 6, 8, 4, 1, 7, 2, 1],\n [6, 8, 8, 2, 8, 8, 1, 1, 3, 4],\n [4, 8, 4, 6, 8, 4, 8, 5, 5, 4],\n [5, 2, 8, 3, 7, 5, 1, 5, 2, 6]]"
     },
     "execution_count": 6,
     "metadata": {},
     "output_type": "execute_result"
    }
   ],
   "source": [
    "parse_text(SAMPLE_TEXT)"
   ],
   "metadata": {
    "collapsed": false,
    "pycharm": {
     "name": "#%%\n"
    }
   }
  },
  {
   "cell_type": "code",
   "execution_count": 33,
   "outputs": [],
   "source": [
    "class Board:\n",
    "    def __init__(self, lines):\n",
    "        self.flashes = 0\n",
    "        self.lines = lines\n",
    "        self.max_row = len(lines) - 1\n",
    "        self.max_col = len(lines[0]) - 1\n",
    "\n",
    "    def adjacent_locations(self, row, col):\n",
    "        def exists(row, col):\n",
    "            return row >= 0 and row <= self.max_row and col >= 0 and col <= self.max_col\n",
    "\n",
    "        adjacent_tiles = [(row + r, col + c) for r, c in [\n",
    "            (-1, -1), (-1, 0), (-1, 1),\n",
    "            (0, -1), (0, 1),\n",
    "            (1, -1), (1, 0), (1, 1)\n",
    "            ]\n",
    "        ]\n",
    "        return [a for a in adjacent_tiles if exists(*a)]\n",
    "\n",
    "    def do_flash(self, row, col):\n",
    "        self.flashes += 1\n",
    "        self.lines[row][col] = -1\n",
    "        for ar, ac in self.adjacent_locations(row, col):\n",
    "            if self.lines[ar][ac] == -1:\n",
    "                continue\n",
    "            self.lines[ar][ac] += 1\n",
    "            if self.lines[ar][ac] > 9:\n",
    "                self.do_flash(ar, ac)\n",
    "\n",
    "    def apply(self, fn):\n",
    "        for row in range(self.max_row + 1):\n",
    "            for col in range(self.max_col + 1):\n",
    "                fn(row, col, self.lines[row][col])\n",
    "\n",
    "    def step(self):\n",
    "\n",
    "        def add_1(row, col, value):\n",
    "            self.lines[row][col] = value + 1\n",
    "\n",
    "        def flash(row, col, value):\n",
    "            if value > 9:\n",
    "                self.do_flash(row, col)\n",
    "\n",
    "        def reset(row, col, value):\n",
    "            if value == -1:\n",
    "                self.lines[row][col] = 0\n",
    "\n",
    "        self.apply(add_1)\n",
    "        self.apply(flash)\n",
    "        self.apply(reset)\n",
    "\n",
    "    def steps(self, n):\n",
    "        for _ in range(n):\n",
    "            self.step()\n",
    "\n",
    "    def find_all_flash(self):\n",
    "        step_count = 0\n",
    "        while True:\n",
    "            step_count += 1\n",
    "            before = self.flashes\n",
    "            self.step()\n",
    "            after = self.flashes\n",
    "            if after - before == 100:\n",
    "                return step_count\n",
    "\n",
    "    def __str__(self):\n",
    "        result = \"\"\n",
    "        for row in self.lines:\n",
    "            result += \"\".join(str(v) for v in row)\n",
    "            result += \"\\n\"\n",
    "        return result\n",
    "\n",
    "def take_n_steps(board, n):\n",
    "    for _ in range(100):\n",
    "        board.step()"
   ],
   "metadata": {
    "collapsed": false,
    "pycharm": {
     "name": "#%%\n"
    }
   }
  },
  {
   "cell_type": "code",
   "execution_count": 31,
   "outputs": [
    {
     "name": "stdout",
     "output_type": "stream",
     "text": [
      "0397666866\n",
      "0749766918\n",
      "0053976933\n",
      "0004297822\n",
      "0004229892\n",
      "0053222877\n",
      "0532222966\n",
      "9322228966\n",
      "7922286866\n",
      "6789998766\n",
      "\n"
     ]
    },
    {
     "data": {
      "text/plain": "1656"
     },
     "execution_count": 31,
     "metadata": {},
     "output_type": "execute_result"
    }
   ],
   "source": [
    "board = Board(parse_text(SAMPLE_TEXT))\n",
    "board.steps(100)\n",
    "print(board)\n",
    "board.flashes"
   ],
   "metadata": {
    "collapsed": false,
    "pycharm": {
     "name": "#%%\n"
    }
   }
  },
  {
   "cell_type": "code",
   "execution_count": 32,
   "outputs": [
    {
     "name": "stdout",
     "output_type": "stream",
     "text": [
      "7955680000\n",
      "9556824000\n",
      "5557112400\n",
      "5558111250\n",
      "5558111140\n",
      "5558111140\n",
      "5558111130\n",
      "5557111122\n",
      "5556811111\n",
      "9555678911\n",
      "\n"
     ]
    },
    {
     "data": {
      "text/plain": "1665"
     },
     "execution_count": 32,
     "metadata": {},
     "output_type": "execute_result"
    }
   ],
   "source": [
    "board = Board(parse_text(read_input()))\n",
    "board.steps(100)\n",
    "print(board)\n",
    "board.flashes"
   ],
   "metadata": {
    "collapsed": false,
    "pycharm": {
     "name": "#%%\n"
    }
   }
  },
  {
   "cell_type": "code",
   "execution_count": 34,
   "outputs": [
    {
     "data": {
      "text/plain": "195"
     },
     "execution_count": 34,
     "metadata": {},
     "output_type": "execute_result"
    }
   ],
   "source": [
    "board = Board(parse_text(SAMPLE_TEXT))\n",
    "board.find_all_flash()"
   ],
   "metadata": {
    "collapsed": false,
    "pycharm": {
     "name": "#%%\n"
    }
   }
  },
  {
   "cell_type": "code",
   "execution_count": 35,
   "outputs": [
    {
     "data": {
      "text/plain": "235"
     },
     "execution_count": 35,
     "metadata": {},
     "output_type": "execute_result"
    }
   ],
   "source": [
    "board = Board(parse_text(read_input()))\n",
    "board.find_all_flash()"
   ],
   "metadata": {
    "collapsed": false,
    "pycharm": {
     "name": "#%%\n"
    }
   }
  },
  {
   "cell_type": "code",
   "execution_count": null,
   "outputs": [],
   "source": [],
   "metadata": {
    "collapsed": false,
    "pycharm": {
     "name": "#%%\n"
    }
   }
  }
 ],
 "metadata": {
  "kernelspec": {
   "display_name": "Python 3",
   "language": "python",
   "name": "python3"
  },
  "language_info": {
   "codemirror_mode": {
    "name": "ipython",
    "version": 2
   },
   "file_extension": ".py",
   "mimetype": "text/x-python",
   "name": "python",
   "nbconvert_exporter": "python",
   "pygments_lexer": "ipython2",
   "version": "2.7.6"
  }
 },
 "nbformat": 4,
 "nbformat_minor": 0
}