{
 "cells": [
  {
   "cell_type": "code",
   "execution_count": 3,
   "metadata": {
    "collapsed": true
   },
   "outputs": [],
   "source": [
    "SAMPLE_TEXT = \"\"\"\n",
    "7,4,9,5,11,17,23,2,0,14,21,24,10,16,13,6,15,25,12,22,18,20,8,19,3,26,1\n",
    "\n",
    "22 13 17 11  0\n",
    " 8  2 23  4 24\n",
    "21  9 14 16  7\n",
    " 6 10  3 18  5\n",
    " 1 12 20 15 19\n",
    "\n",
    " 3 15  0  2 22\n",
    " 9 18 13 17  5\n",
    "19  8  7 25 23\n",
    "20 11 10 24  4\n",
    "14 21 16 12  6\n",
    "\n",
    "14 21 17 24  4\n",
    "10 16 15  9 19\n",
    "18  8 23 26 20\n",
    "22 11 13  6  5\n",
    " 2  0 12  3  7\n",
    "\"\"\""
   ]
  },
  {
   "cell_type": "code",
   "execution_count": 31,
   "outputs": [],
   "source": [
    "def tokenize_line(line):\n",
    "    # Swap commas for spaces and remove extra spacing for easy splitting\n",
    "    elements = (line.strip().replace(',', ' ').replace('  ', ' ').split(' '))\n",
    "    return [int(i) for i in elements]\n",
    "\n",
    "def parse_text(raw_text):\n",
    "    return [tokenize_line(l) for l in raw_text.split(\"\\n\") if l]\n",
    "\n",
    "def read_input():\n",
    "    with open(\"input.txt\", \"rt\") as f:\n",
    "        return f.read()"
   ],
   "metadata": {
    "collapsed": false,
    "pycharm": {
     "name": "#%%\n"
    }
   }
  },
  {
   "cell_type": "code",
   "execution_count": 78,
   "outputs": [],
   "source": [
    "class Board:\n",
    "    def __init__(self):\n",
    "        self.rows = []\n",
    "    def add_row(self, row):\n",
    "        self.rows.append(row)\n",
    "        if len(self.rows) > 5:\n",
    "            raise ValueError(\"Too many rows in board\")\n",
    "        if len(self.rows) == 5:\n",
    "            return True\n",
    "        else:\n",
    "            return False\n",
    "\n",
    "    def locate(self, number):\n",
    "        for i, row in enumerate(self.rows):\n",
    "            for j, value in enumerate(row):\n",
    "                if value == number:\n",
    "                    return i, j\n",
    "        return None\n",
    "\n",
    "    def have_won(self, location):\n",
    "        if not any(self.rows[location[0]]):\n",
    "            return True\n",
    "        if not any([row[location[1]] for row in self.rows]):\n",
    "            return True\n",
    "        return False\n",
    "\n",
    "    def play(self, number):\n",
    "        # Return True if play results in a win\n",
    "        location = self.locate(number)\n",
    "        if not location:\n",
    "            return False\n",
    "        self.rows[location[0]][location[1]] = None\n",
    "        return self.have_won(location)\n",
    "\n",
    "    def sum(self):\n",
    "        return sum(sum(filter(None, row)) for row in self.rows)\n",
    "\n",
    "    def __str__(self):\n",
    "        result = \"\"\n",
    "        for row in self.rows:\n",
    "            result += \" \".join(str(e) if e is not None else \"X\" for e in row)\n",
    "            result += \"\\n\"\n",
    "        return result\n",
    "\n",
    "def build_game(lines):\n",
    "    moves = []\n",
    "    boards = [Board()]\n",
    "    for line in lines:\n",
    "        if not moves:\n",
    "            moves = line\n",
    "            continue\n",
    "        if boards[-1].add_row(line):\n",
    "            boards.append(Board())\n",
    "    return moves, boards[:-1]  # Trim off the last board as it will be blank\n",
    "\n",
    "def print_state(boards):\n",
    "    print(\"Current Game State\")\n",
    "    for i, b in enumerate(boards):\n",
    "        print(\"-\" * 5, \"board\", i, \"-\" * 5)\n",
    "        print(b)\n",
    "\n",
    "def find_winner(moves, boards):\n",
    "    for move in moves:\n",
    "        for b in boards:\n",
    "            if b.play(move):\n",
    "                return move, b.sum()\n",
    "\n",
    "def find_last_winner(moves, boards):\n",
    "    winning_boards = set()\n",
    "    for move in moves:\n",
    "        for i, b in enumerate(boards):\n",
    "            if b.play(move):\n",
    "                winning_boards.add(i)\n",
    "                if len(winning_boards) == len(boards):\n",
    "                    return move, b.sum()"
   ],
   "metadata": {
    "collapsed": false,
    "pycharm": {
     "name": "#%%\n"
    }
   }
  },
  {
   "cell_type": "code",
   "execution_count": 79,
   "outputs": [
    {
     "data": {
      "text/plain": "(24, 188)"
     },
     "execution_count": 79,
     "metadata": {},
     "output_type": "execute_result"
    }
   ],
   "source": [
    "moves, boards = build_game(parse_text(SAMPLE_TEXT))\n",
    "find_winner(moves, boards)"
   ],
   "metadata": {
    "collapsed": false,
    "pycharm": {
     "name": "#%%\n"
    }
   }
  },
  {
   "cell_type": "code",
   "execution_count": 80,
   "outputs": [
    {
     "data": {
      "text/plain": "(46, 640)"
     },
     "execution_count": 80,
     "metadata": {},
     "output_type": "execute_result"
    }
   ],
   "source": [
    "find_winner(*build_game(parse_text(read_input())))"
   ],
   "metadata": {
    "collapsed": false,
    "pycharm": {
     "name": "#%%\n"
    }
   }
  },
  {
   "cell_type": "code",
   "execution_count": 62,
   "outputs": [
    {
     "data": {
      "text/plain": "29440"
     },
     "execution_count": 62,
     "metadata": {},
     "output_type": "execute_result"
    }
   ],
   "source": [
    "46 * 640"
   ],
   "metadata": {
    "collapsed": false,
    "pycharm": {
     "name": "#%%\n"
    }
   }
  },
  {
   "cell_type": "code",
   "execution_count": 73,
   "outputs": [
    {
     "data": {
      "text/plain": "(13, 148)"
     },
     "execution_count": 73,
     "metadata": {},
     "output_type": "execute_result"
    }
   ],
   "source": [
    "find_last_winner(*build_game(parse_text(SAMPLE_TEXT)))"
   ],
   "metadata": {
    "collapsed": false,
    "pycharm": {
     "name": "#%%\n"
    }
   }
  },
  {
   "cell_type": "code",
   "execution_count": 74,
   "outputs": [
    {
     "data": {
      "text/plain": "(52, 267)"
     },
     "execution_count": 74,
     "metadata": {},
     "output_type": "execute_result"
    }
   ],
   "source": [
    "find_last_winner(*build_game(parse_text(read_input())))"
   ],
   "metadata": {
    "collapsed": false,
    "pycharm": {
     "name": "#%%\n"
    }
   }
  },
  {
   "cell_type": "code",
   "execution_count": 75,
   "outputs": [
    {
     "data": {
      "text/plain": "13884"
     },
     "execution_count": 75,
     "metadata": {},
     "output_type": "execute_result"
    }
   ],
   "source": [
    "52 * 267"
   ],
   "metadata": {
    "collapsed": false,
    "pycharm": {
     "name": "#%%\n"
    }
   }
  },
  {
   "cell_type": "code",
   "execution_count": null,
   "outputs": [],
   "source": [],
   "metadata": {
    "collapsed": false,
    "pycharm": {
     "name": "#%%\n"
    }
   }
  }
 ],
 "metadata": {
  "kernelspec": {
   "display_name": "Python 3",
   "language": "python",
   "name": "python3"
  },
  "language_info": {
   "codemirror_mode": {
    "name": "ipython",
    "version": 2
   },
   "file_extension": ".py",
   "mimetype": "text/x-python",
   "name": "python",
   "nbconvert_exporter": "python",
   "pygments_lexer": "ipython2",
   "version": "2.7.6"
  }
 },
 "nbformat": 4,
 "nbformat_minor": 0
}