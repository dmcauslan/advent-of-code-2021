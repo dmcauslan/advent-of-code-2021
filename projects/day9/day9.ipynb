{
 "cells": [
  {
   "cell_type": "code",
   "execution_count": 1,
   "metadata": {
    "collapsed": true
   },
   "outputs": [],
   "source": [
    "SAMPLE_TEXT = \"\"\"\n",
    "2199943210\n",
    "3987894921\n",
    "9856789892\n",
    "8767896789\n",
    "9899965678\n",
    "\"\"\""
   ]
  },
  {
   "cell_type": "code",
   "execution_count": 2,
   "outputs": [],
   "source": [
    "from collections import Counter"
   ],
   "metadata": {
    "collapsed": false,
    "pycharm": {
     "name": "#%%\n"
    }
   }
  },
  {
   "cell_type": "code",
   "execution_count": 3,
   "outputs": [],
   "source": [
    "def tokenize_line(line):\n",
    "    return [int(point) for point in list(line)]\n",
    "\n",
    "\n",
    "def parse_text(raw_text):\n",
    "    return [tokenize_line(l) for l in raw_text.split(\"\\n\") if l]\n",
    "\n",
    "def read_input():\n",
    "    with open(\"input.txt\", \"rt\") as f:\n",
    "        return f.read()"
   ],
   "metadata": {
    "collapsed": false,
    "pycharm": {
     "name": "#%%\n"
    }
   }
  },
  {
   "cell_type": "code",
   "execution_count": 4,
   "outputs": [],
   "source": [
    "class Board:\n",
    "    def __init__(self, lines):\n",
    "        self.lines = lines\n",
    "        self.max_row_index = len(lines) - 1\n",
    "        self.max_col_index = len(lines[0]) - 1\n",
    "\n",
    "    def point_exists(self, row, col):\n",
    "        return 0 <= row <= self. max_row_index and 0 <= col <= self.max_col_index\n",
    "\n",
    "    def find_adjacent_points(self, row, col):\n",
    "        up = (row - 1, col)\n",
    "        down = (row + 1, col)\n",
    "        left = (row, col - 1)\n",
    "        right = (row, col + 1)\n",
    "        result = [(r, c, self.lines[r][c]) for r, c in [up, down, left, right] if self.point_exists(r, c)]\n",
    "        return result\n",
    "\n",
    "    def swap(self, swap_fn):\n",
    "        for r in range(len(self.lines)):\n",
    "            for c in range(len(self.lines[0])):\n",
    "                self.lines[r][c] = swap_fn(r, c, self.lines[r][c])\n",
    "\n",
    "    def __str__(self):\n",
    "        result = \"\"\n",
    "        for row in self.lines:\n",
    "            result += \"\".join(str(v) if v is not None else ' ' for v in row)\n",
    "            result += \"\\n\"\n",
    "        return result\n",
    "\n",
    "\n",
    "def find_low_points(lines):\n",
    "    board = Board(lines)\n",
    "\n",
    "    result = []\n",
    "    for r in range(0, len(lines)):\n",
    "        for c in range(0, len(lines[0])):\n",
    "            value = lines[r][c]\n",
    "            adjacent_points = [p[2] for p in board.find_adjacent_points(r, c)]\n",
    "            if value < min(adjacent_points):\n",
    "                result.append(value)\n",
    "    return result"
   ],
   "metadata": {
    "collapsed": false,
    "pycharm": {
     "name": "#%%\n"
    }
   }
  },
  {
   "cell_type": "code",
   "execution_count": 5,
   "outputs": [
    {
     "data": {
      "text/plain": "15"
     },
     "execution_count": 5,
     "metadata": {},
     "output_type": "execute_result"
    }
   ],
   "source": [
    "points = find_low_points(parse_text(SAMPLE_TEXT))\n",
    "sum(p + 1 for p in points)"
   ],
   "metadata": {
    "collapsed": false,
    "pycharm": {
     "name": "#%%\n"
    }
   }
  },
  {
   "cell_type": "code",
   "execution_count": 6,
   "outputs": [
    {
     "data": {
      "text/plain": "532"
     },
     "execution_count": 6,
     "metadata": {},
     "output_type": "execute_result"
    }
   ],
   "source": [
    "points = find_low_points(parse_text(read_input()))\n",
    "sum(p + 1 for p in points)"
   ],
   "metadata": {
    "collapsed": false,
    "pycharm": {
     "name": "#%%\n"
    }
   }
  },
  {
   "cell_type": "code",
   "execution_count": 20,
   "outputs": [],
   "source": [
    "def paint_basins(lines):\n",
    "    board = Board(lines)\n",
    "    # Since 9s can't be part of a basin, swap them to None. Otherwise use '.' to\n",
    "    # indicate an unpainted cell\n",
    "    board.swap(lambda r, c, x: '.' if x != 9 else None)\n",
    "\n",
    "    def could_simplify_board():\n",
    "        # Looks for adjacent cells with different values and swaps them all to be the same\n",
    "        # Returns true if any changes are made, false when no further simplifications are possible\n",
    "        for r in range(0, len(lines)):\n",
    "            for c in range(0, len(lines[0])):\n",
    "                value = board.lines[r][c]\n",
    "                if value is None:\n",
    "                    continue\n",
    "                adjacent_points = [v[2] for v in board.find_adjacent_points(r, c) if v[2]]\n",
    "                adjacent_points.append(value)\n",
    "                distinct_values = list(set(adjacent_points))\n",
    "                if len(distinct_values) > 1:\n",
    "                    base = distinct_values[0]\n",
    "                    other_values = distinct_values[1:]\n",
    "                    board.swap(lambda r, c, x: base if x in other_values else x)\n",
    "                    return True\n",
    "        return False\n",
    "\n",
    "    next_region = 0\n",
    "    for r in range(0, len(lines)):\n",
    "        for c in range(0, len(lines[0])):\n",
    "            value = board.lines[r][c]\n",
    "            if value is None:\n",
    "                continue\n",
    "            adjacent_points = [v[2] for v in board.find_adjacent_points(r, c) if v[2] and v[2] != '.']\n",
    "            if not adjacent_points:\n",
    "                board.lines[r][c] = next_region\n",
    "                next_region += 1\n",
    "            else:\n",
    "                board.lines[r][c] = adjacent_points[0]\n",
    "\n",
    "    # Ham-fisted approach - keep trying to reduce the number of regions on the\n",
    "    # board until there's nothing left to reduce.\n",
    "    while could_simplify_board():\n",
    "        pass\n",
    "    return board\n",
    "\n",
    "def find_largest_basins(board: Board):\n",
    "    all_values = []\n",
    "    for row in board.lines:\n",
    "        all_values.extend(r for r in row if r)\n",
    "    result = 1\n",
    "    for _, size in Counter(all_values).most_common(3):\n",
    "        result *= size\n",
    "    return result"
   ],
   "metadata": {
    "collapsed": false,
    "pycharm": {
     "name": "#%%\n"
    }
   }
  },
  {
   "cell_type": "code",
   "execution_count": 24,
   "outputs": [],
   "source": [
    "def paint_basins_2(lines):\n",
    "    \"\"\"\n",
    "    A faster implementation of basin painting. When a blank tile (a '.') is found,\n",
    "    it will mark that square and walk through all adjacent blank tiles to mark\n",
    "    them with the same value.\n",
    "    \"\"\"\n",
    "    board = Board(lines)\n",
    "\n",
    "    def swap_fn(row, column, value):\n",
    "        return '.' if value != 9 else None\n",
    "\n",
    "    def paint_from(row, column, value):\n",
    "        board.lines[row][column] = value\n",
    "        for r, c, v in board.find_adjacent_points(row, column):\n",
    "            if v != '.':\n",
    "                continue\n",
    "            paint_from(r, c, value)\n",
    "\n",
    "    board.swap(swap_fn)\n",
    "    next_colour = 0\n",
    "    for row in range(len(board.lines)):\n",
    "        for col in range(len(board.lines[0])):\n",
    "            if board.lines[row][col] == '.':\n",
    "                paint_from(row, col, next_colour)\n",
    "                next_colour += 1\n",
    "    return board"
   ],
   "metadata": {
    "collapsed": false,
    "pycharm": {
     "name": "#%%\n"
    }
   }
  },
  {
   "cell_type": "code",
   "execution_count": 16,
   "outputs": [
    {
     "data": {
      "text/plain": "1134"
     },
     "execution_count": 16,
     "metadata": {},
     "output_type": "execute_result"
    }
   ],
   "source": [
    "basins = paint_basins(parse_text(SAMPLE_TEXT))\n",
    "find_largest_basins(basins)"
   ],
   "metadata": {
    "collapsed": false,
    "pycharm": {
     "name": "#%%\n"
    }
   }
  },
  {
   "cell_type": "code",
   "execution_count": 17,
   "outputs": [
    {
     "data": {
      "text/plain": "1110780"
     },
     "execution_count": 17,
     "metadata": {},
     "output_type": "execute_result"
    }
   ],
   "source": [
    "basins = paint_basins(parse_text(read_input()))\n",
    "find_largest_basins(basins)"
   ],
   "metadata": {
    "collapsed": false,
    "pycharm": {
     "name": "#%%\n"
    }
   }
  },
  {
   "cell_type": "code",
   "execution_count": 22,
   "outputs": [
    {
     "name": "stdout",
     "output_type": "stream",
     "text": [
      "884 µs ± 184 µs per loop (mean ± std. dev. of 7 runs, 1000 loops each)\n"
     ]
    }
   ],
   "source": [
    "# How much faster is paint_basins_2?\n",
    "%timeit paint_basins(parse_text(SAMPLE_TEXT))"
   ],
   "metadata": {
    "collapsed": false,
    "pycharm": {
     "name": "#%%\n"
    }
   }
  },
  {
   "cell_type": "code",
   "execution_count": 25,
   "outputs": [
    {
     "name": "stdout",
     "output_type": "stream",
     "text": [
      "241 µs ± 89.9 µs per loop (mean ± std. dev. of 7 runs, 1000 loops each)\n"
     ]
    }
   ],
   "source": [
    "%timeit paint_basins_2(parse_text(SAMPLE_TEXT))"
   ],
   "metadata": {
    "collapsed": false,
    "pycharm": {
     "name": "#%%\n"
    }
   }
  },
  {
   "cell_type": "code",
   "execution_count": null,
   "outputs": [],
   "source": [],
   "metadata": {
    "collapsed": false,
    "pycharm": {
     "name": "#%%\n"
    }
   }
  }
 ],
 "metadata": {
  "kernelspec": {
   "display_name": "Python 3",
   "language": "python",
   "name": "python3"
  },
  "language_info": {
   "codemirror_mode": {
    "name": "ipython",
    "version": 2
   },
   "file_extension": ".py",
   "mimetype": "text/x-python",
   "name": "python",
   "nbconvert_exporter": "python",
   "pygments_lexer": "ipython2",
   "version": "2.7.6"
  }
 },
 "nbformat": 4,
 "nbformat_minor": 0
}