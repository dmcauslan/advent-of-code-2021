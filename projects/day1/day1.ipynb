{
 "cells": [
  {
   "cell_type": "code",
   "execution_count": 3,
   "metadata": {
    "collapsed": true
   },
   "outputs": [],
   "source": [
    "def read_depths():\n",
    "    with open('depths.txt', 'rt') as f:\n",
    "        return [int(line.strip()) for line in f.readlines() if line]"
   ]
  },
  {
   "cell_type": "code",
   "execution_count": 6,
   "outputs": [
    {
     "data": {
      "text/plain": "1676"
     },
     "execution_count": 6,
     "metadata": {},
     "output_type": "execute_result"
    }
   ],
   "source": [
    "def part_one():\n",
    "    # Compare shifted pairs of depths and filter out any that aren't increasing\n",
    "    depths = read_depths()\n",
    "    compared = (d for d in zip(depths, depths[1:]) if d[1] > d[0])\n",
    "    return len(list(compared))\n",
    "part_one()"
   ],
   "metadata": {
    "collapsed": false,
    "pycharm": {
     "name": "#%%\n"
    }
   }
  },
  {
   "cell_type": "code",
   "execution_count": 7,
   "outputs": [
    {
     "data": {
      "text/plain": "1706"
     },
     "execution_count": 7,
     "metadata": {},
     "output_type": "execute_result"
    }
   ],
   "source": [
    "def part_two():\n",
    "    depths = read_depths()\n",
    "    # Shifts the list of depths twice to create a list of triples which we sum\n",
    "    sums = [sum(d) for d in zip(depths, depths[1:], depths[2:])]\n",
    "    # Shift by one and filter out non-increasing pairs\n",
    "    compared = (s for s in zip(sums, sums[1:]) if s[1] > s[0])\n",
    "    return len(list(compared))\n",
    "part_two()"
   ],
   "metadata": {
    "collapsed": false,
    "pycharm": {
     "name": "#%%\n"
    }
   }
  },
  {
   "cell_type": "code",
   "execution_count": null,
   "outputs": [],
   "source": [],
   "metadata": {
    "collapsed": false,
    "pycharm": {
     "name": "#%%\n"
    }
   }
  }
 ],
 "metadata": {
  "kernelspec": {
   "display_name": "Python 3",
   "language": "python",
   "name": "python3"
  },
  "language_info": {
   "codemirror_mode": {
    "name": "ipython",
    "version": 2
   },
   "file_extension": ".py",
   "mimetype": "text/x-python",
   "name": "python",
   "nbconvert_exporter": "python",
   "pygments_lexer": "ipython2",
   "version": "2.7.6"
  }
 },
 "nbformat": 4,
 "nbformat_minor": 0
}