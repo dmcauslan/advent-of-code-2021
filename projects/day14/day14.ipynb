{
 "cells": [
  {
   "cell_type": "code",
   "execution_count": 1,
   "metadata": {
    "collapsed": true
   },
   "outputs": [],
   "source": [
    "SAMPLE_TEXT = \"\"\"\n",
    "NNCB\n",
    "\n",
    "CH -> B\n",
    "HH -> N\n",
    "CB -> H\n",
    "NH -> C\n",
    "HB -> C\n",
    "HC -> B\n",
    "HN -> C\n",
    "NN -> C\n",
    "BH -> H\n",
    "NC -> B\n",
    "NB -> B\n",
    "BN -> B\n",
    "BB -> N\n",
    "BC -> B\n",
    "CC -> N\n",
    "CN -> C\n",
    "\"\"\""
   ]
  },
  {
   "cell_type": "code",
   "execution_count": 2,
   "outputs": [],
   "source": [
    "def tokenize_line(line):\n",
    "    if \" -> \" in line:\n",
    "        ab, c = line.split(\" -> \")\n",
    "        return \"mapping\", ab, c\n",
    "    else:\n",
    "        return \"chars\", list(line)\n",
    "\n",
    "\n",
    "def parse_text(raw_text):\n",
    "    return [tokenize_line(l) for l in raw_text.split(\"\\n\") if l]\n",
    "\n",
    "\n",
    "def read_input():\n",
    "    with open(\"input.txt\", \"rt\") as f:\n",
    "        return f.read()\n",
    "\n",
    "def split_by_type(lines):\n",
    "    chars = (l for l in lines if l[0] == 'chars')\n",
    "    mapping = (l for l in lines if l[0] == 'mapping')\n",
    "    return list(chars)[0][1], {tuple(list(m[1])): m[2] for m in mapping}"
   ],
   "metadata": {
    "collapsed": false,
    "pycharm": {
     "name": "#%%\n"
    }
   }
  },
  {
   "cell_type": "code",
   "execution_count": 3,
   "outputs": [],
   "source": [
    "from collections import Counter, defaultdict\n",
    "from functools import cache"
   ],
   "metadata": {
    "collapsed": false,
    "pycharm": {
     "name": "#%%\n"
    }
   }
  },
  {
   "cell_type": "code",
   "execution_count": 4,
   "outputs": [],
   "source": [
    "# Naive approach that expands an actual list of characters\n",
    "def expand(chars, mapping):\n",
    "    result = [chars[0]]\n",
    "    for i in range(1, len(chars)):\n",
    "        result.append(mapping[chars[i-1], chars[i]])\n",
    "        result.append(chars[i])\n",
    "    return result\n",
    "\n",
    "def expand_n_times(chars, mapping, n):\n",
    "    result = chars[:]\n",
    "    for i in range(n):\n",
    "        # print(i + 1)\n",
    "        result = expand(result, mapping)\n",
    "    return result"
   ],
   "metadata": {
    "collapsed": false,
    "pycharm": {
     "name": "#%%\n"
    }
   }
  },
  {
   "cell_type": "code",
   "execution_count": 6,
   "outputs": [],
   "source": [
    "def expand_n_times_v2(chars, mapping, n):\n",
    "    # A slightly better approach that uses recursive descent\n",
    "    count = defaultdict(int)\n",
    "\n",
    "    def descend(a, b, n):\n",
    "        c = mapping[a, b]\n",
    "        count[c] += 1\n",
    "        if n > 1:\n",
    "            descend(a, c, n - 1)\n",
    "            descend(c, b, n - 1)\n",
    "\n",
    "    count[chars[0]] += 1\n",
    "    # print(0, chars[0])\n",
    "    for i in range(1, len(chars)):\n",
    "        # print(i, chars[i])\n",
    "        count[chars[i]] += 1\n",
    "        descend(chars[i - 1], chars[i], n)\n",
    "    return count\n"
   ],
   "metadata": {
    "collapsed": false,
    "pycharm": {
     "name": "#%%\n"
    }
   }
  },
  {
   "cell_type": "code",
   "execution_count": 7,
   "outputs": [],
   "source": [
    "def expand_n_times_v3(chars, mapping, n):\n",
    "    # V2 still wasn't fast enough. Added memoization to the recursive\n",
    "    # call since there's a relative small combination of (letter 1, letter 2, n)\n",
    "    count = Counter(chars)\n",
    "\n",
    "    @cache\n",
    "    def descend(a, b, n):\n",
    "        c = mapping[a, b]\n",
    "        result = Counter(c)\n",
    "        if n > 1:\n",
    "            result += descend(a, c, n - 1)\n",
    "            result += descend(c, b, n - 1)\n",
    "        return result\n",
    "\n",
    "    # print(0, chars[0])\n",
    "    for i in range(1, len(chars)):\n",
    "        # print(i, chars[i])\n",
    "        count += descend(chars[i - 1], chars[i], n)\n",
    "    return count"
   ],
   "metadata": {
    "collapsed": false,
    "pycharm": {
     "name": "#%%\n"
    }
   }
  },
  {
   "cell_type": "code",
   "execution_count": 8,
   "outputs": [
    {
     "data": {
      "text/plain": "(('B', 1749), ('H', 161))"
     },
     "execution_count": 8,
     "metadata": {},
     "output_type": "execute_result"
    }
   ],
   "source": [
    "chars, mappings = split_by_type(parse_text(SAMPLE_TEXT))\n",
    "chars = expand_n_times(chars, mappings, 10)\n",
    "count = Counter(chars)\n",
    "count.most_common()[0], count.most_common()[-1]"
   ],
   "metadata": {
    "collapsed": false,
    "pycharm": {
     "name": "#%%\n"
    }
   }
  },
  {
   "cell_type": "code",
   "execution_count": 9,
   "outputs": [
    {
     "data": {
      "text/plain": "(1749, 161)"
     },
     "execution_count": 9,
     "metadata": {},
     "output_type": "execute_result"
    }
   ],
   "source": [
    "chars, mappings = split_by_type(parse_text(SAMPLE_TEXT))\n",
    "count = expand_n_times_v2(chars, mappings, 10)\n",
    "max(count.values()), min(count.values())"
   ],
   "metadata": {
    "collapsed": false,
    "pycharm": {
     "name": "#%%\n"
    }
   }
  },
  {
   "cell_type": "code",
   "execution_count": 10,
   "outputs": [
    {
     "data": {
      "text/plain": "(('B', 1749), ('H', 161))"
     },
     "execution_count": 10,
     "metadata": {},
     "output_type": "execute_result"
    }
   ],
   "source": [
    "chars, mappings = split_by_type(parse_text(SAMPLE_TEXT))\n",
    "count = expand_n_times_v3(chars, mappings, 10)\n",
    "count.most_common()[0], count.most_common()[-1]"
   ],
   "metadata": {
    "collapsed": false,
    "pycharm": {
     "name": "#%%\n"
    }
   }
  },
  {
   "cell_type": "code",
   "execution_count": 11,
   "outputs": [
    {
     "name": "stdout",
     "output_type": "stream",
     "text": [
      "913 µs ± 9.65 µs per loop (mean ± std. dev. of 7 runs, 1000 loops each)\n"
     ]
    }
   ],
   "source": [
    "# Comparing performance of different approaches\n",
    "%timeit expand_n_times(chars, mappings, 10)"
   ],
   "metadata": {
    "collapsed": false,
    "pycharm": {
     "name": "#%%\n"
    }
   }
  },
  {
   "cell_type": "code",
   "execution_count": 12,
   "outputs": [
    {
     "name": "stdout",
     "output_type": "stream",
     "text": [
      "973 µs ± 2.91 µs per loop (mean ± std. dev. of 7 runs, 1000 loops each)\n"
     ]
    }
   ],
   "source": [
    "%timeit expand_n_times_v2(chars, mappings, 10)"
   ],
   "metadata": {
    "collapsed": false,
    "pycharm": {
     "name": "#%%\n"
    }
   }
  },
  {
   "cell_type": "code",
   "execution_count": 13,
   "outputs": [
    {
     "name": "stdout",
     "output_type": "stream",
     "text": [
      "612 µs ± 77.2 µs per loop (mean ± std. dev. of 7 runs, 1000 loops each)\n"
     ]
    }
   ],
   "source": [
    "# Not super clear if the cache is being reset between runs here\n",
    "%timeit expand_n_times_v3(chars, mappings, 10)"
   ],
   "metadata": {
    "collapsed": false,
    "pycharm": {
     "name": "#%%\n"
    }
   }
  },
  {
   "cell_type": "code",
   "execution_count": 14,
   "outputs": [
    {
     "data": {
      "text/plain": "(('S', 2979), ('P', 976))"
     },
     "execution_count": 14,
     "metadata": {},
     "output_type": "execute_result"
    }
   ],
   "source": [
    "chars, mappings = split_by_type(parse_text(read_input()))\n",
    "chars = expand_n_times(chars, mappings, 10)\n",
    "count = Counter(chars)\n",
    "count.most_common()[0], count.most_common()[-1]"
   ],
   "metadata": {
    "collapsed": false,
    "pycharm": {
     "name": "#%%\n"
    }
   }
  },
  {
   "cell_type": "code",
   "execution_count": 15,
   "outputs": [
    {
     "data": {
      "text/plain": "(2979, 976)"
     },
     "execution_count": 15,
     "metadata": {},
     "output_type": "execute_result"
    }
   ],
   "source": [
    "chars, mappings = split_by_type(parse_text(read_input()))\n",
    "count = expand_n_times_v2(chars, mappings, 10)\n",
    "max(count.values()), min(count.values())"
   ],
   "metadata": {
    "collapsed": false,
    "pycharm": {
     "name": "#%%\n"
    }
   }
  },
  {
   "cell_type": "code",
   "execution_count": 16,
   "outputs": [
    {
     "data": {
      "text/plain": "(('S', 2979), ('P', 976))"
     },
     "execution_count": 16,
     "metadata": {},
     "output_type": "execute_result"
    }
   ],
   "source": [
    "chars, mappings = split_by_type(parse_text(read_input()))\n",
    "count = expand_n_times_v3(chars, mappings, 10)\n",
    "count.most_common()[0], count.most_common()[-1]"
   ],
   "metadata": {
    "collapsed": false,
    "pycharm": {
     "name": "#%%\n"
    }
   }
  },
  {
   "cell_type": "code",
   "execution_count": 20,
   "outputs": [
    {
     "data": {
      "text/plain": "2003"
     },
     "execution_count": 20,
     "metadata": {},
     "output_type": "execute_result"
    }
   ],
   "source": [
    "2979 - 976"
   ],
   "metadata": {
    "collapsed": false,
    "pycharm": {
     "name": "#%%\n"
    }
   }
  },
  {
   "cell_type": "code",
   "execution_count": 17,
   "outputs": [
    {
     "data": {
      "text/plain": "(('B', 2192039569602), ('H', 3849876073))"
     },
     "execution_count": 17,
     "metadata": {},
     "output_type": "execute_result"
    }
   ],
   "source": [
    "# part 2 - with sample text\n",
    "chars, mappings = split_by_type(parse_text(SAMPLE_TEXT))\n",
    "count = expand_n_times_v3(chars, mappings, 40)\n",
    "count.most_common()[0], count.most_common()[-1]"
   ],
   "metadata": {
    "collapsed": false,
    "pycharm": {
     "name": "#%%\n"
    }
   }
  },
  {
   "cell_type": "code",
   "execution_count": 46,
   "outputs": [
    {
     "data": {
      "text/plain": "2188189693529"
     },
     "execution_count": 46,
     "metadata": {},
     "output_type": "execute_result"
    }
   ],
   "source": [
    "2192039569602 - 3849876073"
   ],
   "metadata": {
    "collapsed": false,
    "pycharm": {
     "name": "#%%\n"
    }
   }
  },
  {
   "cell_type": "code",
   "execution_count": 18,
   "outputs": [
    {
     "data": {
      "text/plain": "(('B', 3225985458057), ('P', 949341457946))"
     },
     "execution_count": 18,
     "metadata": {},
     "output_type": "execute_result"
    }
   ],
   "source": [
    "# part 2 - problem text\n",
    "chars, mappings = split_by_type(parse_text(read_input()))\n",
    "count = expand_n_times_v3(chars, mappings, 40)\n",
    "count.most_common()[0], count.most_common()[-1]"
   ],
   "metadata": {
    "collapsed": false,
    "pycharm": {
     "name": "#%%\n"
    }
   }
  },
  {
   "cell_type": "code",
   "execution_count": 19,
   "outputs": [
    {
     "data": {
      "text/plain": "2276644000111"
     },
     "execution_count": 19,
     "metadata": {},
     "output_type": "execute_result"
    }
   ],
   "source": [
    "3225985458057 - 949341457946"
   ],
   "metadata": {
    "collapsed": false,
    "pycharm": {
     "name": "#%%\n"
    }
   }
  },
  {
   "cell_type": "code",
   "execution_count": null,
   "outputs": [],
   "source": [],
   "metadata": {
    "collapsed": false,
    "pycharm": {
     "name": "#%%\n"
    }
   }
  }
 ],
 "metadata": {
  "kernelspec": {
   "display_name": "Python 3",
   "language": "python",
   "name": "python3"
  },
  "language_info": {
   "codemirror_mode": {
    "name": "ipython",
    "version": 2
   },
   "file_extension": ".py",
   "mimetype": "text/x-python",
   "name": "python",
   "nbconvert_exporter": "python",
   "pygments_lexer": "ipython2",
   "version": "2.7.6"
  }
 },
 "nbformat": 4,
 "nbformat_minor": 0
}