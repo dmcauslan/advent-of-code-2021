{
 "cells": [
  {
   "cell_type": "code",
   "execution_count": 28,
   "metadata": {
    "collapsed": true
   },
   "outputs": [],
   "source": [
    "SAMPLE_INPUT = \"\"\"\n",
    "3,4,3,1,2\n",
    "\"\"\"\n",
    "SPAWN_DAYS = 6"
   ]
  },
  {
   "cell_type": "code",
   "execution_count": 2,
   "outputs": [],
   "source": [
    "def tokenize_line(line):\n",
    "    return [int(i) for i in line.split(\",\")]\n",
    "\n",
    "def parse_text(raw_text):\n",
    "    return [tokenize_line(l) for l in raw_text.split(\"\\n\") if l]\n",
    "\n",
    "def read_input():\n",
    "    with open(\"input.txt\", \"rt\") as f:\n",
    "        return f.read()"
   ],
   "metadata": {
    "collapsed": false,
    "pycharm": {
     "name": "#%%\n"
    }
   }
  },
  {
   "cell_type": "code",
   "execution_count": 24,
   "outputs": [
    {
     "data": {
      "text/plain": "26"
     },
     "execution_count": 24,
     "metadata": {},
     "output_type": "execute_result"
    }
   ],
   "source": [
    "def age_fish(days, fish):\n",
    "    if days == 0:\n",
    "        return fish\n",
    "    # For each day, turn each fish into a tuple of (new age, fish was born)\n",
    "    aged_fish = [(i-1 if i > 0 else SPAWN_DAYS, 0 if i > 0 else 1) for i in fish]\n",
    "    # Unpack the list of tuples into two lists and combine\n",
    "    existing_fish, new_fish = zip(*aged_fish)\n",
    "    all_fish = list(existing_fish) + ([SPAWN_DAYS + 2] * sum(new_fish))\n",
    "    return age_fish(days - 1, all_fish)\n",
    "len(age_fish(18, parse_text(SAMPLE_INPUT)[0]))"
   ],
   "metadata": {
    "collapsed": false,
    "pycharm": {
     "name": "#%%\n"
    }
   }
  },
  {
   "cell_type": "code",
   "execution_count": 4,
   "outputs": [
    {
     "data": {
      "text/plain": "372984"
     },
     "execution_count": 4,
     "metadata": {},
     "output_type": "execute_result"
    }
   ],
   "source": [
    "len(age_fish(80, parse_text(read_input())[0]))"
   ],
   "metadata": {
    "collapsed": false,
    "pycharm": {
     "name": "#%%\n"
    }
   }
  },
  {
   "cell_type": "code",
   "execution_count": 19,
   "outputs": [],
   "source": [
    "def faster_fish_ager(days, fish):\n",
    "    # We don't really need to model each fish since every fish at age X behaves the same way\n",
    "    # Here we create nine buckets to store the fish at each age and use tuple unpacking to\n",
    "    # perform the age math. Note bucket 6 gets the fish from 7 and 0\n",
    "    ages = [0] * 9\n",
    "    for f in fish:\n",
    "        ages[f] += 1\n",
    "    for d in range(days):\n",
    "        ages[8], ages[7], ages[6], ages[5], ages[4], ages[3], ages[2], ages[1], ages[0] = \\\n",
    "            ages[0], ages[8], ages[7] + ages[0], ages[6], ages[5], ages[4], ages[3], ages[2], ages[1]\n",
    "    return sum(ages)"
   ],
   "metadata": {
    "collapsed": false,
    "pycharm": {
     "name": "#%%\n"
    }
   }
  },
  {
   "cell_type": "code",
   "execution_count": 23,
   "outputs": [
    {
     "data": {
      "text/plain": "1681503251694"
     },
     "execution_count": 23,
     "metadata": {},
     "output_type": "execute_result"
    }
   ],
   "source": [
    "faster_fish_ager(256, parse_text(read_input())[0])"
   ],
   "metadata": {
    "collapsed": false,
    "pycharm": {
     "name": "#%%\n"
    }
   }
  },
  {
   "cell_type": "code",
   "execution_count": 26,
   "outputs": [
    {
     "name": "stdout",
     "output_type": "stream",
     "text": [
      "1.42 s ± 130 ms per loop (mean ± std. dev. of 7 runs, 1 loop each)\n"
     ]
    }
   ],
   "source": [
    "# How much faster is it?\n",
    "%timeit len(age_fish(80, parse_text(read_input())[0]))"
   ],
   "metadata": {
    "collapsed": false,
    "pycharm": {
     "name": "#%%\n"
    }
   }
  },
  {
   "cell_type": "code",
   "execution_count": 27,
   "outputs": [
    {
     "name": "stdout",
     "output_type": "stream",
     "text": [
      "194 µs ± 51.6 µs per loop (mean ± std. dev. of 7 runs, 1000 loops each)\n"
     ]
    }
   ],
   "source": [
    "%timeit faster_fish_ager(80, parse_text(read_input())[0])"
   ],
   "metadata": {
    "collapsed": false,
    "pycharm": {
     "name": "#%%\n"
    }
   }
  },
  {
   "cell_type": "code",
   "execution_count": null,
   "outputs": [],
   "source": [],
   "metadata": {
    "collapsed": false,
    "pycharm": {
     "name": "#%%\n"
    }
   }
  }
 ],
 "metadata": {
  "kernelspec": {
   "display_name": "Python 3",
   "language": "python",
   "name": "python3"
  },
  "language_info": {
   "codemirror_mode": {
    "name": "ipython",
    "version": 2
   },
   "file_extension": ".py",
   "mimetype": "text/x-python",
   "name": "python",
   "nbconvert_exporter": "python",
   "pygments_lexer": "ipython2",
   "version": "2.7.6"
  }
 },
 "nbformat": 4,
 "nbformat_minor": 0
}