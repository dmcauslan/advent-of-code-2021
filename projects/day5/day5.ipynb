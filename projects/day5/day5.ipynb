{
 "cells": [
  {
   "cell_type": "code",
   "execution_count": 47,
   "metadata": {
    "collapsed": true
   },
   "outputs": [],
   "source": [
    "SAMPLE_TEXT = \"\"\"\n",
    "0,9 -> 5,9\n",
    "8,0 -> 0,8\n",
    "9,4 -> 3,4\n",
    "2,2 -> 2,1\n",
    "7,0 -> 7,4\n",
    "6,4 -> 2,0\n",
    "0,9 -> 2,9\n",
    "3,4 -> 1,4\n",
    "0,0 -> 8,8\n",
    "5,5 -> 8,2\n",
    "\"\"\""
   ]
  },
  {
   "cell_type": "code",
   "execution_count": 48,
   "outputs": [],
   "source": [
    "from dataclasses import dataclass"
   ],
   "metadata": {
    "collapsed": false,
    "pycharm": {
     "name": "#%%\n"
    }
   }
  },
  {
   "cell_type": "code",
   "execution_count": 66,
   "outputs": [],
   "source": [
    "@dataclass\n",
    "class Point:\n",
    "    x: int\n",
    "    y: int\n",
    "\n",
    "    def offset(self, x, y):\n",
    "        return Point(self.x + x, self.y + y)\n",
    "\n",
    "@dataclass\n",
    "class Line:\n",
    "    start: Point\n",
    "    end: Point\n",
    "\n",
    "    def is_right_angle(self):\n",
    "        return self.start.x == self.end.x or self.start.y == self.end.y\n",
    "\n",
    "    def get_all_points(self):\n",
    "        # Allow diagonal or right angle lines\n",
    "        length = max(abs(self.start.x - self.end.x), abs(self.start.y - self.end.y))\n",
    "        increment = 0, 0\n",
    "        if self.end.x > self.start.x:\n",
    "            increment = (1, 0)\n",
    "        elif self.end.x < self.start.x:\n",
    "            increment = (-1, 0)\n",
    "        if self.end.y > self.start.y:\n",
    "            increment = (increment[0], 1)\n",
    "        elif self.end.y < self.start.y:\n",
    "            increment = (increment[0], -1)\n",
    "        return [self.start.offset(increment[0] * i, increment[1] * i) for i in range(length + 1)]\n",
    "\n",
    "def tokenize_line(line):\n",
    "\n",
    "    def parse_point(point_str):\n",
    "        return Point(*[int(x) for x in point_str.split(\",\")])\n",
    "\n",
    "    ps1, ps2 = line.split(\" -> \")\n",
    "    return Line(parse_point(ps1), parse_point(ps2))\n",
    "\n",
    "def parse_text(raw_text):\n",
    "    return [tokenize_line(l) for l in raw_text.split(\"\\n\") if l]\n",
    "\n",
    "def read_input():\n",
    "    with open(\"input.txt\", \"rt\") as f:\n",
    "        return f.read()"
   ],
   "metadata": {
    "collapsed": false,
    "pycharm": {
     "name": "#%%\n"
    }
   }
  },
  {
   "cell_type": "code",
   "execution_count": 67,
   "outputs": [],
   "source": [
    "class Board:\n",
    "    def __init__(self, lines):\n",
    "        self.rows = []\n",
    "        max_point = Board.find_max_point(lines)\n",
    "        for i in range(max_point.y + 1):\n",
    "            new_row = [0] * (max_point.x + 1)\n",
    "            self.rows.append(new_row)\n",
    "        for line in lines:\n",
    "            self.add_line(line)\n",
    "\n",
    "    @staticmethod\n",
    "    def find_max_point(lines):\n",
    "        max_x = 0\n",
    "        max_y = 0\n",
    "        for line in lines:\n",
    "            max_x = max(max_x, line.start.x, line.end.x)\n",
    "            max_y = max(max_y, line.start.y, line.end.y)\n",
    "        return Point(max_x, max_y)\n",
    "\n",
    "    def add_line(self, line):\n",
    "        points = line.get_all_points()\n",
    "        for point in points:\n",
    "            self.rows[point.y][point.x] += 1\n",
    "\n",
    "    def __str__(self):\n",
    "        result = \"\"\n",
    "        for row in self.rows:\n",
    "            result += ' '.join([str(v) if v > 0 else '.' for v in row])\n",
    "            result += '\\n'\n",
    "        return result\n",
    "\n",
    "    def count_intersections(self):\n",
    "        return sum(sum(1 for v in row if v > 1) for row in self.rows)"
   ],
   "metadata": {
    "collapsed": false,
    "pycharm": {
     "name": "#%%\n"
    }
   }
  },
  {
   "cell_type": "code",
   "execution_count": 68,
   "outputs": [
    {
     "data": {
      "text/plain": "5"
     },
     "execution_count": 68,
     "metadata": {},
     "output_type": "execute_result"
    }
   ],
   "source": [
    "def find_right_angle_intersections(lines):\n",
    "    lines = [line for line in lines if line.is_right_angle()]\n",
    "    board = Board(lines)\n",
    "    # print(board)\n",
    "    return board.count_intersections()\n",
    "\n",
    "find_right_angle_intersections(parse_text(SAMPLE_TEXT))"
   ],
   "metadata": {
    "collapsed": false,
    "pycharm": {
     "name": "#%%\n"
    }
   }
  },
  {
   "cell_type": "code",
   "execution_count": 69,
   "outputs": [
    {
     "data": {
      "text/plain": "6841"
     },
     "execution_count": 69,
     "metadata": {},
     "output_type": "execute_result"
    }
   ],
   "source": [
    "find_right_angle_intersections(parse_text(read_input()))"
   ],
   "metadata": {
    "collapsed": false,
    "pycharm": {
     "name": "#%%\n"
    }
   }
  },
  {
   "cell_type": "code",
   "execution_count": 70,
   "outputs": [
    {
     "data": {
      "text/plain": "12"
     },
     "execution_count": 70,
     "metadata": {},
     "output_type": "execute_result"
    }
   ],
   "source": [
    "def find_any_intersections(lines):\n",
    "    board = Board(lines)\n",
    "    # print(board)\n",
    "    return board.count_intersections()\n",
    "\n",
    "find_any_intersections(parse_text(SAMPLE_TEXT))"
   ],
   "metadata": {
    "collapsed": false,
    "pycharm": {
     "name": "#%%\n"
    }
   }
  },
  {
   "cell_type": "code",
   "execution_count": 71,
   "outputs": [
    {
     "data": {
      "text/plain": "19258"
     },
     "execution_count": 71,
     "metadata": {},
     "output_type": "execute_result"
    }
   ],
   "source": [
    "find_any_intersections(parse_text(read_input()))"
   ],
   "metadata": {
    "collapsed": false,
    "pycharm": {
     "name": "#%%\n"
    }
   }
  },
  {
   "cell_type": "code",
   "execution_count": null,
   "outputs": [],
   "source": [],
   "metadata": {
    "collapsed": false,
    "pycharm": {
     "name": "#%%\n"
    }
   }
  }
 ],
 "metadata": {
  "kernelspec": {
   "display_name": "Python 3",
   "language": "python",
   "name": "python3"
  },
  "language_info": {
   "codemirror_mode": {
    "name": "ipython",
    "version": 2
   },
   "file_extension": ".py",
   "mimetype": "text/x-python",
   "name": "python",
   "nbconvert_exporter": "python",
   "pygments_lexer": "ipython2",
   "version": "2.7.6"
  }
 },
 "nbformat": 4,
 "nbformat_minor": 0
}